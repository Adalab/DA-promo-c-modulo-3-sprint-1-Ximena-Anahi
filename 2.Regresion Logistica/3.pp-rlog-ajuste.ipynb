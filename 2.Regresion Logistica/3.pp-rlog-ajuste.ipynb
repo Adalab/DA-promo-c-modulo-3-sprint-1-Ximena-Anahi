{
 "cells": [
  {
   "attachments": {},
   "cell_type": "markdown",
   "metadata": {},
   "source": [
    "# Regresión Logística Ajuste"
   ]
  },
  {
   "attachments": {},
   "cell_type": "markdown",
   "metadata": {},
   "source": [
    "---"
   ]
  },
  {
   "attachments": {},
   "cell_type": "markdown",
   "metadata": {},
   "source": [
    "Es el momento de realizar el ajuste de vuestro modelo, en este caso tendréis que usar el csv que guardastéis ayer después de todo el preprocesamiento. Los objetivos de esta lección son:\n",
    "\n",
    "- Realizar el ajuste o ajustes de los modelos\n",
    "- Sacad la matriz de confusión de vuestro modelo e identificad cuáles son los verdaderos positivos, verdaderos negativos, falsos positivos y falsos negativos."
   ]
  },
  {
   "cell_type": "code",
   "execution_count": 2,
   "metadata": {},
   "outputs": [],
   "source": [
    "# Tratamiento de datos\n",
    "import numpy as np\n",
    "import pandas as pd\n",
    "\n",
    "# Gráficos\n",
    "import matplotlib.pyplot as plt\n",
    "import seaborn as sns\n",
    "\n",
    "\n",
    "#  Modelado y matriz de confusión\n",
    "from sklearn.model_selection import train_test_split\n",
    "from sklearn.linear_model import LogisticRegression\n",
    "from sklearn.metrics import confusion_matrix\n",
    "\n",
    "# Gestión datos desbalanceados\n",
    "from imblearn.under_sampling import RandomUnderSampler\n",
    "from imblearn.over_sampling import RandomOverSampler\n",
    "from imblearn.combine import SMOTETomek\n",
    "\n",
    "#  Gestión de warnings\n",
    "import warnings\n",
    "warnings.filterwarnings(\"ignore\")"
   ]
  },
  {
   "attachments": {},
   "cell_type": "markdown",
   "metadata": {},
   "source": [
    "`Debemos abrir el archivo csv porque al abrir el tipo pikle, el método SMOTETomek genera nulos en las variables categóricas. Se intentó convertir estas catergorías a numéricas, pero seguía sin reconocerlas.`"
   ]
  },
  {
   "attachments": {},
   "cell_type": "markdown",
   "metadata": {},
   "source": [
    "## Archivo estandarizado y codificado"
   ]
  },
  {
   "cell_type": "code",
   "execution_count": 77,
   "metadata": {},
   "outputs": [
    {
     "data": {
      "text/html": [
       "<div>\n",
       "<style scoped>\n",
       "    .dataframe tbody tr th:only-of-type {\n",
       "        vertical-align: middle;\n",
       "    }\n",
       "\n",
       "    .dataframe tbody tr th {\n",
       "        vertical-align: top;\n",
       "    }\n",
       "\n",
       "    .dataframe thead th {\n",
       "        text-align: right;\n",
       "    }\n",
       "</style>\n",
       "<table border=\"1\" class=\"dataframe\">\n",
       "  <thead>\n",
       "    <tr style=\"text-align: right;\">\n",
       "      <th></th>\n",
       "      <th>fastingbs</th>\n",
       "      <th>restingecg</th>\n",
       "      <th>exerciseangina</th>\n",
       "      <th>st_slope</th>\n",
       "      <th>heartdisease</th>\n",
       "      <th>sex_F</th>\n",
       "      <th>sex_M</th>\n",
       "      <th>chest_ASY</th>\n",
       "      <th>chest_ATA</th>\n",
       "      <th>chest_NAP</th>\n",
       "      <th>chest_TA</th>\n",
       "      <th>age</th>\n",
       "      <th>restingbp</th>\n",
       "      <th>maxhr</th>\n",
       "      <th>oldpeak</th>\n",
       "      <th>cholesterol</th>\n",
       "    </tr>\n",
       "  </thead>\n",
       "  <tbody>\n",
       "    <tr>\n",
       "      <th>0</th>\n",
       "      <td>0</td>\n",
       "      <td>1</td>\n",
       "      <td>1</td>\n",
       "      <td>3</td>\n",
       "      <td>0</td>\n",
       "      <td>0</td>\n",
       "      <td>1</td>\n",
       "      <td>0</td>\n",
       "      <td>1</td>\n",
       "      <td>0</td>\n",
       "      <td>0</td>\n",
       "      <td>-1.076923</td>\n",
       "      <td>0.5</td>\n",
       "      <td>0.944444</td>\n",
       "      <td>-0.400000</td>\n",
       "      <td>0.870840</td>\n",
       "    </tr>\n",
       "    <tr>\n",
       "      <th>1</th>\n",
       "      <td>0</td>\n",
       "      <td>1</td>\n",
       "      <td>1</td>\n",
       "      <td>1</td>\n",
       "      <td>1</td>\n",
       "      <td>1</td>\n",
       "      <td>0</td>\n",
       "      <td>0</td>\n",
       "      <td>0</td>\n",
       "      <td>1</td>\n",
       "      <td>0</td>\n",
       "      <td>-0.384615</td>\n",
       "      <td>1.5</td>\n",
       "      <td>0.500000</td>\n",
       "      <td>0.266667</td>\n",
       "      <td>-1.185764</td>\n",
       "    </tr>\n",
       "  </tbody>\n",
       "</table>\n",
       "</div>"
      ],
      "text/plain": [
       "   fastingbs  restingecg  exerciseangina  st_slope  heartdisease  sex_F  \\\n",
       "0          0           1               1         3             0      0   \n",
       "1          0           1               1         1             1      1   \n",
       "\n",
       "   sex_M  chest_ASY  chest_ATA  chest_NAP  chest_TA       age  restingbp  \\\n",
       "0      1          0          1          0         0 -1.076923        0.5   \n",
       "1      0          0          0          1         0 -0.384615        1.5   \n",
       "\n",
       "      maxhr   oldpeak  cholesterol  \n",
       "0  0.944444 -0.400000     0.870840  \n",
       "1  0.500000  0.266667    -1.185764  "
      ]
     },
     "execution_count": 77,
     "metadata": {},
     "output_type": "execute_result"
    }
   ],
   "source": [
    "# Archivo balanceado codificado y estandarizado\n",
    "df1 = pd.read_csv(\"../files_rl/3-heart-encoding-estandarizado.csv\", index_col=0)\n",
    "df1.head(2)"
   ]
  },
  {
   "cell_type": "code",
   "execution_count": 78,
   "metadata": {},
   "outputs": [
    {
     "data": {
      "text/plain": [
       "fastingbs           int64\n",
       "restingecg          int64\n",
       "exerciseangina      int64\n",
       "st_slope            int64\n",
       "heartdisease        int64\n",
       "sex_F               int64\n",
       "sex_M               int64\n",
       "chest_ASY           int64\n",
       "chest_ATA           int64\n",
       "chest_NAP           int64\n",
       "chest_TA            int64\n",
       "age               float64\n",
       "restingbp         float64\n",
       "maxhr             float64\n",
       "oldpeak           float64\n",
       "cholesterol       float64\n",
       "dtype: object"
      ]
     },
     "execution_count": 78,
     "metadata": {},
     "output_type": "execute_result"
    }
   ],
   "source": [
    "df1.dtypes"
   ]
  },
  {
   "attachments": {},
   "cell_type": "markdown",
   "metadata": {},
   "source": [
    "### Balanceo de variable respuesta con método `SMOTETomek()`"
   ]
  },
  {
   "cell_type": "code",
   "execution_count": 79,
   "metadata": {},
   "outputs": [
    {
     "data": {
      "text/plain": [
       "1    507\n",
       "0    410\n",
       "Name: heartdisease, dtype: int64"
      ]
     },
     "execution_count": 79,
     "metadata": {},
     "output_type": "execute_result"
    }
   ],
   "source": [
    "df1['heartdisease'].value_counts()"
   ]
  },
  {
   "cell_type": "code",
   "execution_count": 80,
   "metadata": {},
   "outputs": [],
   "source": [
    "# Separar en X e y y en train y test\n",
    "X = df1.drop('heartdisease', axis=1)\n",
    "y = df1['heartdisease']\n",
    "\n",
    "#dividimos en sets de entrenamiento y test\n",
    "X_train, X_test, y_train, y_test = train_test_split(X, y, train_size=0.7)"
   ]
  },
  {
   "cell_type": "code",
   "execution_count": 81,
   "metadata": {},
   "outputs": [],
   "source": [
    "# iniciamos el método\n",
    "os_us = SMOTETomek()\n",
    "\n",
    "# ajustamos el modelo\n",
    "X_train_res, y_train_res= os_us.fit_resample(X_train, y_train)"
   ]
  },
  {
   "cell_type": "code",
   "execution_count": 82,
   "metadata": {},
   "outputs": [
    {
     "name": "stdout",
     "output_type": "stream",
     "text": [
      "Distribution before resampling \n",
      " 1    356\n",
      "0    285\n",
      "Name: heartdisease, dtype: int64\n",
      "..............................................................\n",
      "Distribución después del ajuste \n",
      " 1    334\n",
      "0    334\n",
      "Name: heartdisease, dtype: int64\n"
     ]
    }
   ],
   "source": [
    "print (f\"Distribution before resampling \\n {y_train.value_counts()}\" )\n",
    "print(\"..............................................................\")\n",
    "print (f\"Distribución después del ajuste \\n {y_train_res.value_counts()}\")"
   ]
  },
  {
   "cell_type": "code",
   "execution_count": 83,
   "metadata": {},
   "outputs": [
    {
     "data": {
      "text/html": [
       "<div>\n",
       "<style scoped>\n",
       "    .dataframe tbody tr th:only-of-type {\n",
       "        vertical-align: middle;\n",
       "    }\n",
       "\n",
       "    .dataframe tbody tr th {\n",
       "        vertical-align: top;\n",
       "    }\n",
       "\n",
       "    .dataframe thead th {\n",
       "        text-align: right;\n",
       "    }\n",
       "</style>\n",
       "<table border=\"1\" class=\"dataframe\">\n",
       "  <thead>\n",
       "    <tr style=\"text-align: right;\">\n",
       "      <th></th>\n",
       "      <th>fastingbs</th>\n",
       "      <th>restingecg</th>\n",
       "      <th>exerciseangina</th>\n",
       "      <th>st_slope</th>\n",
       "      <th>sex_F</th>\n",
       "      <th>sex_M</th>\n",
       "      <th>chest_ASY</th>\n",
       "      <th>chest_ATA</th>\n",
       "      <th>chest_NAP</th>\n",
       "      <th>chest_TA</th>\n",
       "      <th>age</th>\n",
       "      <th>restingbp</th>\n",
       "      <th>maxhr</th>\n",
       "      <th>oldpeak</th>\n",
       "      <th>cholesterol</th>\n",
       "    </tr>\n",
       "  </thead>\n",
       "  <tbody>\n",
       "    <tr>\n",
       "      <th>0</th>\n",
       "      <td>1</td>\n",
       "      <td>1</td>\n",
       "      <td>2</td>\n",
       "      <td>2</td>\n",
       "      <td>0</td>\n",
       "      <td>1</td>\n",
       "      <td>1</td>\n",
       "      <td>0</td>\n",
       "      <td>0</td>\n",
       "      <td>0</td>\n",
       "      <td>-0.923077</td>\n",
       "      <td>-1.25</td>\n",
       "      <td>-0.277778</td>\n",
       "      <td>-1.400000</td>\n",
       "      <td>-0.089070</td>\n",
       "    </tr>\n",
       "    <tr>\n",
       "      <th>1</th>\n",
       "      <td>1</td>\n",
       "      <td>1</td>\n",
       "      <td>1</td>\n",
       "      <td>2</td>\n",
       "      <td>0</td>\n",
       "      <td>1</td>\n",
       "      <td>0</td>\n",
       "      <td>0</td>\n",
       "      <td>1</td>\n",
       "      <td>0</td>\n",
       "      <td>-0.923077</td>\n",
       "      <td>-0.50</td>\n",
       "      <td>1.555556</td>\n",
       "      <td>0.133333</td>\n",
       "      <td>-0.053689</td>\n",
       "    </tr>\n",
       "    <tr>\n",
       "      <th>2</th>\n",
       "      <td>1</td>\n",
       "      <td>1</td>\n",
       "      <td>1</td>\n",
       "      <td>3</td>\n",
       "      <td>0</td>\n",
       "      <td>1</td>\n",
       "      <td>1</td>\n",
       "      <td>0</td>\n",
       "      <td>0</td>\n",
       "      <td>0</td>\n",
       "      <td>1.076923</td>\n",
       "      <td>0.75</td>\n",
       "      <td>-0.055556</td>\n",
       "      <td>0.800000</td>\n",
       "      <td>0.106605</td>\n",
       "    </tr>\n",
       "    <tr>\n",
       "      <th>3</th>\n",
       "      <td>0</td>\n",
       "      <td>1</td>\n",
       "      <td>1</td>\n",
       "      <td>3</td>\n",
       "      <td>1</td>\n",
       "      <td>0</td>\n",
       "      <td>0</td>\n",
       "      <td>1</td>\n",
       "      <td>0</td>\n",
       "      <td>0</td>\n",
       "      <td>0.692308</td>\n",
       "      <td>0.10</td>\n",
       "      <td>-0.222222</td>\n",
       "      <td>-0.333333</td>\n",
       "      <td>0.049766</td>\n",
       "    </tr>\n",
       "    <tr>\n",
       "      <th>4</th>\n",
       "      <td>1</td>\n",
       "      <td>1</td>\n",
       "      <td>1</td>\n",
       "      <td>1</td>\n",
       "      <td>0</td>\n",
       "      <td>1</td>\n",
       "      <td>0</td>\n",
       "      <td>0</td>\n",
       "      <td>0</td>\n",
       "      <td>1</td>\n",
       "      <td>-0.615385</td>\n",
       "      <td>0.50</td>\n",
       "      <td>1.027778</td>\n",
       "      <td>0.933333</td>\n",
       "      <td>0.550085</td>\n",
       "    </tr>\n",
       "  </tbody>\n",
       "</table>\n",
       "</div>"
      ],
      "text/plain": [
       "   fastingbs  restingecg  exerciseangina  st_slope  sex_F  sex_M  chest_ASY  \\\n",
       "0          1           1               2         2      0      1          1   \n",
       "1          1           1               1         2      0      1          0   \n",
       "2          1           1               1         3      0      1          1   \n",
       "3          0           1               1         3      1      0          0   \n",
       "4          1           1               1         1      0      1          0   \n",
       "\n",
       "   chest_ATA  chest_NAP  chest_TA       age  restingbp     maxhr   oldpeak  \\\n",
       "0          0          0         0 -0.923077      -1.25 -0.277778 -1.400000   \n",
       "1          0          1         0 -0.923077      -0.50  1.555556  0.133333   \n",
       "2          0          0         0  1.076923       0.75 -0.055556  0.800000   \n",
       "3          1          0         0  0.692308       0.10 -0.222222 -0.333333   \n",
       "4          0          0         1 -0.615385       0.50  1.027778  0.933333   \n",
       "\n",
       "   cholesterol  \n",
       "0    -0.089070  \n",
       "1    -0.053689  \n",
       "2     0.106605  \n",
       "3     0.049766  \n",
       "4     0.550085  "
      ]
     },
     "execution_count": 83,
     "metadata": {},
     "output_type": "execute_result"
    }
   ],
   "source": [
    "X_train_res.head(5)"
   ]
  },
  {
   "cell_type": "code",
   "execution_count": 84,
   "metadata": {},
   "outputs": [
    {
     "data": {
      "text/plain": [
       "fastingbs         0\n",
       "restingecg        0\n",
       "exerciseangina    0\n",
       "st_slope          0\n",
       "sex_F             0\n",
       "sex_M             0\n",
       "chest_ASY         0\n",
       "chest_ATA         0\n",
       "chest_NAP         0\n",
       "chest_TA          0\n",
       "age               0\n",
       "restingbp         0\n",
       "maxhr             0\n",
       "oldpeak           0\n",
       "cholesterol       0\n",
       "dtype: int64"
      ]
     },
     "execution_count": 84,
     "metadata": {},
     "output_type": "execute_result"
    }
   ],
   "source": [
    "X_train_res.isnull().sum()"
   ]
  },
  {
   "attachments": {},
   "cell_type": "markdown",
   "metadata": {},
   "source": [
    "### Ajuste y predicción del modelo"
   ]
  },
  {
   "cell_type": "code",
   "execution_count": 85,
   "metadata": {},
   "outputs": [],
   "source": [
    "# definimos la regresión logistica\n",
    "\n",
    "log_reg = LogisticRegression(n_jobs=-1, max_iter = 1000)\n",
    "\n",
    "# ajustamos el modelo\n",
    "log_reg.fit(X_train_res,y_train_res)\n",
    "\n",
    "# obtenemos las predicciones para el conjunto de entrenamiento\n",
    "y_pred_train = log_reg.predict(X_train)\n",
    "\n",
    "# obtenemos las predicciones para el conjunto de test\n",
    "y_pred_test = log_reg.predict(X_test)"
   ]
  },
  {
   "cell_type": "code",
   "execution_count": 86,
   "metadata": {},
   "outputs": [
    {
     "data": {
      "text/html": [
       "<div>\n",
       "<style scoped>\n",
       "    .dataframe tbody tr th:only-of-type {\n",
       "        vertical-align: middle;\n",
       "    }\n",
       "\n",
       "    .dataframe tbody tr th {\n",
       "        vertical-align: top;\n",
       "    }\n",
       "\n",
       "    .dataframe thead th {\n",
       "        text-align: right;\n",
       "    }\n",
       "</style>\n",
       "<table border=\"1\" class=\"dataframe\">\n",
       "  <thead>\n",
       "    <tr style=\"text-align: right;\">\n",
       "      <th></th>\n",
       "      <th>Real</th>\n",
       "      <th>Predicted</th>\n",
       "      <th>Set</th>\n",
       "    </tr>\n",
       "  </thead>\n",
       "  <tbody>\n",
       "    <tr>\n",
       "      <th>700</th>\n",
       "      <td>0</td>\n",
       "      <td>0</td>\n",
       "      <td>Train</td>\n",
       "    </tr>\n",
       "    <tr>\n",
       "      <th>373</th>\n",
       "      <td>1</td>\n",
       "      <td>1</td>\n",
       "      <td>Train</td>\n",
       "    </tr>\n",
       "    <tr>\n",
       "      <th>559</th>\n",
       "      <td>0</td>\n",
       "      <td>0</td>\n",
       "      <td>Train</td>\n",
       "    </tr>\n",
       "    <tr>\n",
       "      <th>461</th>\n",
       "      <td>1</td>\n",
       "      <td>1</td>\n",
       "      <td>Test</td>\n",
       "    </tr>\n",
       "    <tr>\n",
       "      <th>619</th>\n",
       "      <td>0</td>\n",
       "      <td>0</td>\n",
       "      <td>Test</td>\n",
       "    </tr>\n",
       "    <tr>\n",
       "      <th>788</th>\n",
       "      <td>0</td>\n",
       "      <td>0</td>\n",
       "      <td>Train</td>\n",
       "    </tr>\n",
       "    <tr>\n",
       "      <th>85</th>\n",
       "      <td>1</td>\n",
       "      <td>1</td>\n",
       "      <td>Train</td>\n",
       "    </tr>\n",
       "    <tr>\n",
       "      <th>905</th>\n",
       "      <td>0</td>\n",
       "      <td>0</td>\n",
       "      <td>Train</td>\n",
       "    </tr>\n",
       "  </tbody>\n",
       "</table>\n",
       "</div>"
      ],
      "text/plain": [
       "     Real  Predicted    Set\n",
       "700     0          0  Train\n",
       "373     1          1  Train\n",
       "559     0          0  Train\n",
       "461     1          1   Test\n",
       "619     0          0   Test\n",
       "788     0          0  Train\n",
       "85      1          1  Train\n",
       "905     0          0  Train"
      ]
     },
     "execution_count": 86,
     "metadata": {},
     "output_type": "execute_result"
    }
   ],
   "source": [
    "train_df = pd.DataFrame({'Real': y_train, 'Predicted': y_pred_train, 'Set': ['Train']*len(y_train)})\n",
    "test_df  = pd.DataFrame({'Real': y_test,  'Predicted': y_pred_test,  'Set': ['Test']*len(y_test)})\n",
    "resultados = pd.concat([train_df,test_df], axis = 0)\n",
    "resultados.sample(8)"
   ]
  },
  {
   "cell_type": "code",
   "execution_count": 87,
   "metadata": {},
   "outputs": [
    {
     "data": {
      "image/png": "[encoded data removed]",
      "text/plain": [
       "<Figure size 1200x800 with 2 Axes>"
      ]
     },
     "metadata": {},
     "output_type": "display_data"
    }
   ],
   "source": [
    "# MATRIZ DE CORRELACIÓN PARA DATOS CODIFICADOS Y  ESTANDARIZADOS\n",
    "\n",
    "mat_lr1 = confusion_matrix(y_test, y_pred_test)\n",
    "\n",
    "plt.figure(figsize = (12, 8))\n",
    "sns.heatmap(mat_lr1, square=True, annot=True, fmt=\"d\", cmap = \"viridis\")\n",
    "\n",
    "plt.xlabel('valor predicho')\n",
    "plt.ylabel('valor real')\n",
    "plt.show()"
   ]
  },
  {
   "attachments": {},
   "cell_type": "markdown",
   "metadata": {},
   "source": [
    "## Archivo  codificado sin estandarizar"
   ]
  },
  {
   "cell_type": "code",
   "execution_count": 88,
   "metadata": {},
   "outputs": [
    {
     "data": {
      "text/html": [
       "<div>\n",
       "<style scoped>\n",
       "    .dataframe tbody tr th:only-of-type {\n",
       "        vertical-align: middle;\n",
       "    }\n",
       "\n",
       "    .dataframe tbody tr th {\n",
       "        vertical-align: top;\n",
       "    }\n",
       "\n",
       "    .dataframe thead th {\n",
       "        text-align: right;\n",
       "    }\n",
       "</style>\n",
       "<table border=\"1\" class=\"dataframe\">\n",
       "  <thead>\n",
       "    <tr style=\"text-align: right;\">\n",
       "      <th></th>\n",
       "      <th>age</th>\n",
       "      <th>restingbp</th>\n",
       "      <th>fastingbs</th>\n",
       "      <th>restingecg</th>\n",
       "      <th>maxhr</th>\n",
       "      <th>exerciseangina</th>\n",
       "      <th>oldpeak</th>\n",
       "      <th>st_slope</th>\n",
       "      <th>heartdisease</th>\n",
       "      <th>cholesterol</th>\n",
       "      <th>sex_F</th>\n",
       "      <th>sex_M</th>\n",
       "      <th>chest_ASY</th>\n",
       "      <th>chest_ATA</th>\n",
       "      <th>chest_NAP</th>\n",
       "      <th>chest_TA</th>\n",
       "    </tr>\n",
       "  </thead>\n",
       "  <tbody>\n",
       "    <tr>\n",
       "      <th>0</th>\n",
       "      <td>40</td>\n",
       "      <td>140</td>\n",
       "      <td>0</td>\n",
       "      <td>1</td>\n",
       "      <td>172</td>\n",
       "      <td>1</td>\n",
       "      <td>0.0</td>\n",
       "      <td>3</td>\n",
       "      <td>0</td>\n",
       "      <td>289.0</td>\n",
       "      <td>0</td>\n",
       "      <td>1</td>\n",
       "      <td>0</td>\n",
       "      <td>1</td>\n",
       "      <td>0</td>\n",
       "      <td>0</td>\n",
       "    </tr>\n",
       "    <tr>\n",
       "      <th>1</th>\n",
       "      <td>49</td>\n",
       "      <td>160</td>\n",
       "      <td>0</td>\n",
       "      <td>1</td>\n",
       "      <td>156</td>\n",
       "      <td>1</td>\n",
       "      <td>1.0</td>\n",
       "      <td>1</td>\n",
       "      <td>1</td>\n",
       "      <td>180.0</td>\n",
       "      <td>1</td>\n",
       "      <td>0</td>\n",
       "      <td>0</td>\n",
       "      <td>0</td>\n",
       "      <td>1</td>\n",
       "      <td>0</td>\n",
       "    </tr>\n",
       "  </tbody>\n",
       "</table>\n",
       "</div>"
      ],
      "text/plain": [
       "   age  restingbp  fastingbs  restingecg  maxhr  exerciseangina  oldpeak  \\\n",
       "0   40        140          0           1    172               1      0.0   \n",
       "1   49        160          0           1    156               1      1.0   \n",
       "\n",
       "   st_slope  heartdisease  cholesterol  sex_F  sex_M  chest_ASY  chest_ATA  \\\n",
       "0         3             0        289.0      0      1          0          1   \n",
       "1         1             1        180.0      1      0          0          0   \n",
       "\n",
       "   chest_NAP  chest_TA  \n",
       "0          0         0  \n",
       "1          1         0  "
      ]
     },
     "execution_count": 88,
     "metadata": {},
     "output_type": "execute_result"
    }
   ],
   "source": [
    "# Archivo codificado\n",
    "df2 = pd.read_csv(\"../files_rl/2-heart-encoding.csv\", index_col=0)\n",
    "df2.head(2)"
   ]
  },
  {
   "cell_type": "code",
   "execution_count": 89,
   "metadata": {},
   "outputs": [],
   "source": [
    "# separamos los datos en X e y\n",
    "\n",
    "X2 = df2.drop(\"heartdisease\", axis = 1)\n",
    "y2 = df2[\"heartdisease\"]"
   ]
  },
  {
   "cell_type": "code",
   "execution_count": 90,
   "metadata": {},
   "outputs": [],
   "source": [
    "#dividimos en sets de entrenamiento y test\n",
    "X_train2, X_test2, y_train2, y_test2 = train_test_split(X2, y2, train_size=0.7)"
   ]
  },
  {
   "cell_type": "code",
   "execution_count": 91,
   "metadata": {},
   "outputs": [],
   "source": [
    "# iniciamos el método\n",
    "os_us = SMOTETomek()\n",
    "\n",
    "# ajustamos el modelo\n",
    "X_train_res2, y_train_res2= os_us.fit_resample(X_train2, y_train2)"
   ]
  },
  {
   "cell_type": "code",
   "execution_count": 92,
   "metadata": {},
   "outputs": [
    {
     "name": "stdout",
     "output_type": "stream",
     "text": [
      "Distribution before resampling \n",
      " 1    362\n",
      "0    279\n",
      "Name: heartdisease, dtype: int64\n",
      "..............................................................\n",
      "Distribución después del ajuste \n",
      " 0    314\n",
      "1    314\n",
      "Name: heartdisease, dtype: int64\n"
     ]
    }
   ],
   "source": [
    "print (f\"Distribution before resampling \\n {y_train2.value_counts()}\" )\n",
    "print(\"..............................................................\")\n",
    "print (f\"Distribución después del ajuste \\n {y_train_res2.value_counts()}\")"
   ]
  },
  {
   "cell_type": "code",
   "execution_count": 93,
   "metadata": {},
   "outputs": [
    {
     "data": {
      "text/html": [
       "<div>\n",
       "<style scoped>\n",
       "    .dataframe tbody tr th:only-of-type {\n",
       "        vertical-align: middle;\n",
       "    }\n",
       "\n",
       "    .dataframe tbody tr th {\n",
       "        vertical-align: top;\n",
       "    }\n",
       "\n",
       "    .dataframe thead th {\n",
       "        text-align: right;\n",
       "    }\n",
       "</style>\n",
       "<table border=\"1\" class=\"dataframe\">\n",
       "  <thead>\n",
       "    <tr style=\"text-align: right;\">\n",
       "      <th></th>\n",
       "      <th>age</th>\n",
       "      <th>restingbp</th>\n",
       "      <th>fastingbs</th>\n",
       "      <th>restingecg</th>\n",
       "      <th>maxhr</th>\n",
       "      <th>exerciseangina</th>\n",
       "      <th>oldpeak</th>\n",
       "      <th>st_slope</th>\n",
       "      <th>cholesterol</th>\n",
       "      <th>sex_F</th>\n",
       "      <th>sex_M</th>\n",
       "      <th>chest_ASY</th>\n",
       "      <th>chest_ATA</th>\n",
       "      <th>chest_NAP</th>\n",
       "      <th>chest_TA</th>\n",
       "    </tr>\n",
       "  </thead>\n",
       "  <tbody>\n",
       "    <tr>\n",
       "      <th>0</th>\n",
       "      <td>66</td>\n",
       "      <td>146</td>\n",
       "      <td>0</td>\n",
       "      <td>3</td>\n",
       "      <td>152</td>\n",
       "      <td>1</td>\n",
       "      <td>0.0</td>\n",
       "      <td>1</td>\n",
       "      <td>278.000000</td>\n",
       "      <td>1</td>\n",
       "      <td>0</td>\n",
       "      <td>0</td>\n",
       "      <td>0</td>\n",
       "      <td>1</td>\n",
       "      <td>0</td>\n",
       "    </tr>\n",
       "    <tr>\n",
       "      <th>1</th>\n",
       "      <td>36</td>\n",
       "      <td>110</td>\n",
       "      <td>1</td>\n",
       "      <td>1</td>\n",
       "      <td>125</td>\n",
       "      <td>2</td>\n",
       "      <td>1.0</td>\n",
       "      <td>1</td>\n",
       "      <td>238.631309</td>\n",
       "      <td>0</td>\n",
       "      <td>1</td>\n",
       "      <td>1</td>\n",
       "      <td>0</td>\n",
       "      <td>0</td>\n",
       "      <td>0</td>\n",
       "    </tr>\n",
       "    <tr>\n",
       "      <th>2</th>\n",
       "      <td>55</td>\n",
       "      <td>140</td>\n",
       "      <td>0</td>\n",
       "      <td>1</td>\n",
       "      <td>130</td>\n",
       "      <td>2</td>\n",
       "      <td>3.0</td>\n",
       "      <td>1</td>\n",
       "      <td>201.000000</td>\n",
       "      <td>0</td>\n",
       "      <td>1</td>\n",
       "      <td>1</td>\n",
       "      <td>0</td>\n",
       "      <td>0</td>\n",
       "      <td>0</td>\n",
       "    </tr>\n",
       "    <tr>\n",
       "      <th>3</th>\n",
       "      <td>58</td>\n",
       "      <td>125</td>\n",
       "      <td>0</td>\n",
       "      <td>3</td>\n",
       "      <td>171</td>\n",
       "      <td>1</td>\n",
       "      <td>0.0</td>\n",
       "      <td>3</td>\n",
       "      <td>300.000000</td>\n",
       "      <td>0</td>\n",
       "      <td>1</td>\n",
       "      <td>1</td>\n",
       "      <td>0</td>\n",
       "      <td>0</td>\n",
       "      <td>0</td>\n",
       "    </tr>\n",
       "    <tr>\n",
       "      <th>4</th>\n",
       "      <td>55</td>\n",
       "      <td>145</td>\n",
       "      <td>0</td>\n",
       "      <td>1</td>\n",
       "      <td>96</td>\n",
       "      <td>2</td>\n",
       "      <td>2.0</td>\n",
       "      <td>1</td>\n",
       "      <td>248.000000</td>\n",
       "      <td>0</td>\n",
       "      <td>1</td>\n",
       "      <td>1</td>\n",
       "      <td>0</td>\n",
       "      <td>0</td>\n",
       "      <td>0</td>\n",
       "    </tr>\n",
       "  </tbody>\n",
       "</table>\n",
       "</div>"
      ],
      "text/plain": [
       "   age  restingbp  fastingbs  restingecg  maxhr  exerciseangina  oldpeak  \\\n",
       "0   66        146          0           3    152               1      0.0   \n",
       "1   36        110          1           1    125               2      1.0   \n",
       "2   55        140          0           1    130               2      3.0   \n",
       "3   58        125          0           3    171               1      0.0   \n",
       "4   55        145          0           1     96               2      2.0   \n",
       "\n",
       "   st_slope  cholesterol  sex_F  sex_M  chest_ASY  chest_ATA  chest_NAP  \\\n",
       "0         1   278.000000      1      0          0          0          1   \n",
       "1         1   238.631309      0      1          1          0          0   \n",
       "2         1   201.000000      0      1          1          0          0   \n",
       "3         3   300.000000      0      1          1          0          0   \n",
       "4         1   248.000000      0      1          1          0          0   \n",
       "\n",
       "   chest_TA  \n",
       "0         0  \n",
       "1         0  \n",
       "2         0  \n",
       "3         0  \n",
       "4         0  "
      ]
     },
     "execution_count": 93,
     "metadata": {},
     "output_type": "execute_result"
    }
   ],
   "source": [
    "X_train_res2.head(5)"
   ]
  },
  {
   "cell_type": "code",
   "execution_count": 94,
   "metadata": {},
   "outputs": [
    {
     "data": {
      "text/plain": [
       "age               0\n",
       "restingbp         0\n",
       "fastingbs         0\n",
       "restingecg        0\n",
       "maxhr             0\n",
       "exerciseangina    0\n",
       "oldpeak           0\n",
       "st_slope          0\n",
       "cholesterol       0\n",
       "sex_F             0\n",
       "sex_M             0\n",
       "chest_ASY         0\n",
       "chest_ATA         0\n",
       "chest_NAP         0\n",
       "chest_TA          0\n",
       "dtype: int64"
      ]
     },
     "execution_count": 94,
     "metadata": {},
     "output_type": "execute_result"
    }
   ],
   "source": [
    "X_train_res2.isnull().sum()"
   ]
  },
  {
   "cell_type": "markdown",
   "metadata": {},
   "source": [
    "## Ajuste y predicción del modelo"
   ]
  },
  {
   "cell_type": "code",
   "execution_count": 95,
   "metadata": {},
   "outputs": [
    {
     "name": "stderr",
     "output_type": "stream",
     "text": [
      "/Users/anamor/anaconda3/lib/python3.9/site-packages/sklearn/linear_model/_logistic.py:814: ConvergenceWarning: lbfgs failed to converge (status=1):\n",
      "STOP: TOTAL NO. of ITERATIONS REACHED LIMIT.\n",
      "\n",
      "Increase the number of iterations (max_iter) or scale the data as shown in:\n",
      "    https://scikit-learn.org/stable/modules/preprocessing.html\n",
      "Please also refer to the documentation for alternative solver options:\n",
      "    https://scikit-learn.org/stable/modules/linear_model.html#logistic-regression\n",
      "  n_iter_i = _check_optimize_result(\n"
     ]
    }
   ],
   "source": [
    "# ajuste y prediccion del modelo\n",
    "\n",
    "# definimos la regresión logistica\n",
    "\n",
    "log_reg2 = LogisticRegression(n_jobs=-1, max_iter = 1000)\n",
    "\n",
    "# ajustamos el modelo\n",
    "log_reg2.fit(X_train_res2,y_train_res2)\n",
    "\n",
    "# obtenemos las predicciones para el conjunto de entrenamiento\n",
    "y_pred_train2 = log_reg2.predict(X_train2)\n",
    "\n",
    "# obtenemos las predicciones para el conjunto de test\n",
    "y_pred_test2 = log_reg2.predict(X_test2)"
   ]
  },
  {
   "cell_type": "code",
   "execution_count": 96,
   "metadata": {},
   "outputs": [
    {
     "data": {
      "text/html": [
       "<div>\n",
       "<style scoped>\n",
       "    .dataframe tbody tr th:only-of-type {\n",
       "        vertical-align: middle;\n",
       "    }\n",
       "\n",
       "    .dataframe tbody tr th {\n",
       "        vertical-align: top;\n",
       "    }\n",
       "\n",
       "    .dataframe thead th {\n",
       "        text-align: right;\n",
       "    }\n",
       "</style>\n",
       "<table border=\"1\" class=\"dataframe\">\n",
       "  <thead>\n",
       "    <tr style=\"text-align: right;\">\n",
       "      <th></th>\n",
       "      <th>Real</th>\n",
       "      <th>Predicted</th>\n",
       "      <th>Set</th>\n",
       "    </tr>\n",
       "  </thead>\n",
       "  <tbody>\n",
       "    <tr>\n",
       "      <th>394</th>\n",
       "      <td>1</td>\n",
       "      <td>1</td>\n",
       "      <td>Train2</td>\n",
       "    </tr>\n",
       "    <tr>\n",
       "      <th>628</th>\n",
       "      <td>0</td>\n",
       "      <td>0</td>\n",
       "      <td>Train2</td>\n",
       "    </tr>\n",
       "    <tr>\n",
       "      <th>307</th>\n",
       "      <td>0</td>\n",
       "      <td>0</td>\n",
       "      <td>Train2</td>\n",
       "    </tr>\n",
       "    <tr>\n",
       "      <th>36</th>\n",
       "      <td>1</td>\n",
       "      <td>1</td>\n",
       "      <td>Train2</td>\n",
       "    </tr>\n",
       "    <tr>\n",
       "      <th>755</th>\n",
       "      <td>0</td>\n",
       "      <td>0</td>\n",
       "      <td>Train2</td>\n",
       "    </tr>\n",
       "    <tr>\n",
       "      <th>119</th>\n",
       "      <td>1</td>\n",
       "      <td>0</td>\n",
       "      <td>Train2</td>\n",
       "    </tr>\n",
       "    <tr>\n",
       "      <th>353</th>\n",
       "      <td>1</td>\n",
       "      <td>1</td>\n",
       "      <td>Train2</td>\n",
       "    </tr>\n",
       "    <tr>\n",
       "      <th>69</th>\n",
       "      <td>0</td>\n",
       "      <td>0</td>\n",
       "      <td>Test2</td>\n",
       "    </tr>\n",
       "  </tbody>\n",
       "</table>\n",
       "</div>"
      ],
      "text/plain": [
       "     Real  Predicted     Set\n",
       "394     1          1  Train2\n",
       "628     0          0  Train2\n",
       "307     0          0  Train2\n",
       "36      1          1  Train2\n",
       "755     0          0  Train2\n",
       "119     1          0  Train2\n",
       "353     1          1  Train2\n",
       "69      0          0   Test2"
      ]
     },
     "execution_count": 96,
     "metadata": {},
     "output_type": "execute_result"
    }
   ],
   "source": [
    "train_df2 = pd.DataFrame({'Real': y_train2, 'Predicted': y_pred_train2, 'Set': ['Train2']*len(y_train2)})\n",
    "test_df2  = pd.DataFrame({'Real': y_test2,  'Predicted': y_pred_test2,  'Set': ['Test2']*len(y_test2)})\n",
    "resultados2 = pd.concat([train_df2,test_df2], axis = 0)\n",
    "resultados2.sample(8)"
   ]
  },
  {
   "cell_type": "code",
   "execution_count": 97,
   "metadata": {},
   "outputs": [
    {
     "data": {
      "image/png": "[encoded data removed]",
      "text/plain": [
       "<Figure size 1200x800 with 2 Axes>"
      ]
     },
     "metadata": {},
     "output_type": "display_data"
    }
   ],
   "source": [
    "# MATRIZ DE CORRELACIÓN PARA DATOS CODIFICADOS Y  ESTANDARIZADOS\n",
    "\n",
    "mat_lr2 = confusion_matrix(y_test2, y_pred_test2)\n",
    "\n",
    "plt.figure(figsize = (12, 8))\n",
    "sns.heatmap(mat_lr2, square=True, annot=True, fmt=\"d\", cmap = \"viridis\")\n",
    "\n",
    "plt.xlabel('valor predicho')\n",
    "plt.ylabel('valor real')\n",
    "plt.show()"
   ]
  },
  {
   "attachments": {},
   "cell_type": "markdown",
   "metadata": {},
   "source": [
    "## Interpretación de resultados"
   ]
  },
  {
   "cell_type": "code",
   "execution_count": 98,
   "metadata": {},
   "outputs": [
    {
     "data": {
      "image/png": "[encoded data removed]",
      "text/plain": [
       "<Figure size 1200x400 with 4 Axes>"
      ]
     },
     "metadata": {},
     "output_type": "display_data"
    }
   ],
   "source": [
    "fig, ax  = plt.subplots(1, 2, sharex='col', figsize=(12, 4))\n",
    "\n",
    "mat_lr1 = confusion_matrix(y_test, y_pred_test)\n",
    "mat_lr2 = confusion_matrix(y_test2, y_pred_test2)\n",
    "\n",
    "sns.heatmap(mat_lr1, square=True, annot=True, fmt=\"d\", cmap = \"viridis\", ax=ax[0])\n",
    "ax[0].set_title(\"Matriz Estandarizada y codificada\")\n",
    "ax[0].set_ylabel(\"Valor real\")\n",
    "ax[0].set_xlabel(\"Valor predicho\")\n",
    "\n",
    "# MATRIZ DE CORRELACIÓN PARA DATOS 2\n",
    "\n",
    "sns.heatmap(mat_lr2, square=True, annot=True, fmt=\"d\", cmap = \"viridis\", ax=ax[1])\n",
    "ax[1].set_title(\"Matriz Codificada\")\n",
    "ax[1].set_ylabel(\"Valor real\")\n",
    "ax[1].set_xlabel(\"Valor predicho\")\n",
    "\n",
    "plt.show();\n"
   ]
  },
  {
   "attachments": {},
   "cell_type": "markdown",
   "metadata": {},
   "source": [
    "La variable respuesta `heartdisease` o `cardiopatía` está dividida de la siguiente forma: \n",
    "\n",
    "- 0: No, normal *no existe cardiopatía* \n",
    "- 1: Sí, cardiopatía *si existe cardiopatía* \n",
    "\n",
    "En este contexto, presentamos los valores comparados de los resultados obtenidos en la aplicación de dos modelos, uno creado con los datos estandarizados y codificados y otro modelos con los datos únicamente codificados.\n",
    "\n",
    "**Respecto a la matriz del primer modelo (estandarizado y codificado)**\n",
    "\n",
    "- En el recuadro de arriba a la izquierda, de valor real 0 o normal y valor predicho 0, se evidencia que 102 de los casos fueron detectados de manera correcta, es decir, verdadero positivo; mientras que 130 casos de 1, sí existe cardiopatía, se detectaron como verdaderos negativos. Consideramos que estos estos valores son buenos. \n",
    "\n",
    "- En esta matriz se observa que 23 casos cuyo valor real es 0, normal, se detectaron como 1, con cardiopatía, es decir, falsos negativos. En relación al valor real 1, se predijo que 21 casos eran 0 o nomales, es decir, falsos negativos.\n",
    "\n",
    "**Respecto a la matriz del segundo modelo (datos codificados)**\n",
    "\n",
    "- En el recuadro de arriba a la izquierda, de valor real 0 o normal, se evidencia que 107 de los casos fueron detectados de manera correcta, es decir, verdadero positivo; mientras que 123 casos de 1, sí existe cardiopatía, se detectaron como verdaderos negativos.\n",
    "\n",
    "- En esta matriz se observa que respecto a la detección de los valores negativos, se detectaron 123 de manera correcta y 24 casos cuyo valor real es 0, normal, se detectaron como 1, con cardiopatía, es decir, falsos negativos."
   ]
  }
 ],
 "metadata": {
  "kernelspec": {
   "display_name": "base",
   "language": "python",
   "name": "python3"
  },
  "language_info": {
   "codemirror_mode": {
    "name": "ipython",
    "version": 3
   },
   "file_extension": ".py",
   "mimetype": "text/x-python",
   "name": "python",
   "nbconvert_exporter": "python",
   "pygments_lexer": "ipython3",
   "version": "3.9.13"
  },
  "orig_nbformat": 4,
  "vscode": {
   "interpreter": {
    "hash": "a52af493819045717511545598ab2b73dabca4ca61b402315e0ef2b43666342d"
   }
  }
 },
 "nbformat": 4,
 "nbformat_minor": 2
}
