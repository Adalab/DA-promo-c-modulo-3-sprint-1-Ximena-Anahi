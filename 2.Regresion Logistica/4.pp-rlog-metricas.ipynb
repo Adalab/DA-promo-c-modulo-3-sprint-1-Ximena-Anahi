{
 "cells": [
  {
   "attachments": {},
   "cell_type": "markdown",
   "metadata": {},
   "source": [
    "# Pair Programming Métricas"
   ]
  },
  {
   "attachments": {},
   "cell_type": "markdown",
   "metadata": {},
   "source": [
    "En el ejercicio de pair programming anterior ajustastéis vuestro primer modelito de regresión logística. Ahora es el momento de saber como de bueno es nuestro modelo. Para esto, los objetivos del pair de hoy son:\n",
    "\n",
    "- Calculad las métricas para vuestro modelo\n",
    "- Interpretad las métricas obtenidas, ¿es un buen modelo? ¿hay overfitting o underfitting?"
   ]
  },
  {
   "attachments": {},
   "cell_type": "markdown",
   "metadata": {},
   "source": [
    "<h2>Tabla de Contenidos<span class=\"tocSkip\"></span></h2>\n",
    "\n",
    "1. Modelo 1: Archivo estandarizado y codificado\n",
    "2. Modelo 2: Archivo codificado \n",
    "3. Matriz de confusión de modelo 1 y modelo 2\n",
    "4. Métricas\n",
    "\n",
    "    4.1 Métricas modelo 1\n",
    "\n",
    "    4.2 Métricas modelo 2\n",
    "\n",
    "    4.3  Métricas comparadas\n",
    "\n",
    "5. Observaciones adicionales\n",
    "\n",
    "    5.1 ROC\n",
    "    \n",
    "    5.2 Posibe Interpretación con enfoque de negativos"
   ]
  },
  {
   "cell_type": "code",
   "execution_count": 1,
   "metadata": {},
   "outputs": [],
   "source": [
    "# Tratamiento de datos\n",
    "# -----------------------------------------------------------------------\n",
    "import numpy as np\n",
    "import pandas as pd\n",
    "\n",
    "# Gráficos\n",
    "# ------------------------------------------------------------------------------\n",
    "import matplotlib.pyplot as plt\n",
    "import seaborn as sns\n",
    "\n",
    "\n",
    "#  Modelado y matriz de confusión\n",
    "# ------------------------------------------------------------------------------\n",
    "from sklearn.model_selection import train_test_split\n",
    "from sklearn.linear_model import LogisticRegression\n",
    "from sklearn.metrics import confusion_matrix\n",
    "\n",
    "# Gestión datos desbalanceados\n",
    "from imblearn.under_sampling import RandomUnderSampler\n",
    "from imblearn.over_sampling import RandomOverSampler\n",
    "from imblearn.combine import SMOTETomek\n",
    "\n",
    "#  Métricas\n",
    "from sklearn.metrics import confusion_matrix, accuracy_score, precision_score, recall_score, f1_score , cohen_kappa_score, roc_curve,roc_auc_score\n",
    "\n",
    "#  Gestión de warnings\n",
    "# ------------------------------------------------------------------------------\n",
    "import warnings\n",
    "warnings.filterwarnings(\"ignore\")"
   ]
  },
  {
   "attachments": {},
   "cell_type": "markdown",
   "metadata": {},
   "source": [
    "Debemos abrir el archivo csv porque al abrir el tipo pikle, el método SMOTETomek genera nulos en las variables categóricas. Se intentó convertir estas catergorías a numéricas, pero seguía sin reconocerlas."
   ]
  },
  {
   "attachments": {},
   "cell_type": "markdown",
   "metadata": {},
   "source": [
    "## Modelo 1: Archivo estandarizado y codificado"
   ]
  },
  {
   "cell_type": "code",
   "execution_count": 2,
   "metadata": {},
   "outputs": [
    {
     "data": {
      "text/html": [
       "<div>\n",
       "<style scoped>\n",
       "    .dataframe tbody tr th:only-of-type {\n",
       "        vertical-align: middle;\n",
       "    }\n",
       "\n",
       "    .dataframe tbody tr th {\n",
       "        vertical-align: top;\n",
       "    }\n",
       "\n",
       "    .dataframe thead th {\n",
       "        text-align: right;\n",
       "    }\n",
       "</style>\n",
       "<table border=\"1\" class=\"dataframe\">\n",
       "  <thead>\n",
       "    <tr style=\"text-align: right;\">\n",
       "      <th></th>\n",
       "      <th>fastingbs</th>\n",
       "      <th>restingecg</th>\n",
       "      <th>exerciseangina</th>\n",
       "      <th>st_slope</th>\n",
       "      <th>heartdisease</th>\n",
       "      <th>sex_F</th>\n",
       "      <th>sex_M</th>\n",
       "      <th>chest_ASY</th>\n",
       "      <th>chest_ATA</th>\n",
       "      <th>chest_NAP</th>\n",
       "      <th>chest_TA</th>\n",
       "      <th>age</th>\n",
       "      <th>restingbp</th>\n",
       "      <th>maxhr</th>\n",
       "      <th>oldpeak</th>\n",
       "      <th>cholesterol</th>\n",
       "    </tr>\n",
       "  </thead>\n",
       "  <tbody>\n",
       "    <tr>\n",
       "      <th>0</th>\n",
       "      <td>0</td>\n",
       "      <td>1</td>\n",
       "      <td>1</td>\n",
       "      <td>3</td>\n",
       "      <td>0</td>\n",
       "      <td>0</td>\n",
       "      <td>1</td>\n",
       "      <td>0</td>\n",
       "      <td>1</td>\n",
       "      <td>0</td>\n",
       "      <td>0</td>\n",
       "      <td>-1.076923</td>\n",
       "      <td>0.5</td>\n",
       "      <td>0.944444</td>\n",
       "      <td>-0.400000</td>\n",
       "      <td>0.870840</td>\n",
       "    </tr>\n",
       "    <tr>\n",
       "      <th>1</th>\n",
       "      <td>0</td>\n",
       "      <td>1</td>\n",
       "      <td>1</td>\n",
       "      <td>1</td>\n",
       "      <td>1</td>\n",
       "      <td>1</td>\n",
       "      <td>0</td>\n",
       "      <td>0</td>\n",
       "      <td>0</td>\n",
       "      <td>1</td>\n",
       "      <td>0</td>\n",
       "      <td>-0.384615</td>\n",
       "      <td>1.5</td>\n",
       "      <td>0.500000</td>\n",
       "      <td>0.266667</td>\n",
       "      <td>-1.185764</td>\n",
       "    </tr>\n",
       "  </tbody>\n",
       "</table>\n",
       "</div>"
      ],
      "text/plain": [
       "   fastingbs  restingecg  exerciseangina  st_slope  heartdisease  sex_F  \\\n",
       "0          0           1               1         3             0      0   \n",
       "1          0           1               1         1             1      1   \n",
       "\n",
       "   sex_M  chest_ASY  chest_ATA  chest_NAP  chest_TA       age  restingbp  \\\n",
       "0      1          0          1          0         0 -1.076923        0.5   \n",
       "1      0          0          0          1         0 -0.384615        1.5   \n",
       "\n",
       "      maxhr   oldpeak  cholesterol  \n",
       "0  0.944444 -0.400000     0.870840  \n",
       "1  0.500000  0.266667    -1.185764  "
      ]
     },
     "execution_count": 2,
     "metadata": {},
     "output_type": "execute_result"
    }
   ],
   "source": [
    "# Archivo balanceado codificado y estandarizado\n",
    "df1 = pd.read_csv(\"../files_rl/4-heart-bal_encoding-estandarizado.csv\", index_col=0)\n",
    "df1.head(2)"
   ]
  },
  {
   "attachments": {},
   "cell_type": "markdown",
   "metadata": {},
   "source": [
    " ### 1.1 Balanceo de variable respuesta con método `SMOTETomek()`"
   ]
  },
  {
   "cell_type": "code",
   "execution_count": 3,
   "metadata": {},
   "outputs": [
    {
     "data": {
      "text/plain": [
       "1    507\n",
       "0    410\n",
       "Name: heartdisease, dtype: int64"
      ]
     },
     "execution_count": 3,
     "metadata": {},
     "output_type": "execute_result"
    }
   ],
   "source": [
    "df1['heartdisease'].value_counts()"
   ]
  },
  {
   "cell_type": "code",
   "execution_count": 4,
   "metadata": {},
   "outputs": [],
   "source": [
    "# Separar en X e y y en train y test\n",
    "X = df1.drop('heartdisease', axis=1)\n",
    "y = df1['heartdisease']\n",
    "\n",
    "#dividimos en sets de entrenamiento y test\n",
    "X_train, X_test, y_train, y_test = train_test_split(X, y, train_size=0.7)"
   ]
  },
  {
   "cell_type": "code",
   "execution_count": 5,
   "metadata": {},
   "outputs": [],
   "source": [
    "# iniciamos el método\n",
    "os_us = SMOTETomek()\n",
    "\n",
    "# ajustamos el modelo\n",
    "X_train_res, y_train_res= os_us.fit_resample(X_train, y_train)"
   ]
  },
  {
   "cell_type": "code",
   "execution_count": 6,
   "metadata": {},
   "outputs": [
    {
     "name": "stdout",
     "output_type": "stream",
     "text": [
      "Distribution before resampling \n",
      " 1    363\n",
      "0    278\n",
      "Name: heartdisease, dtype: int64\n",
      "..............................................................\n",
      "Distribución después del ajuste \n",
      " 1    333\n",
      "0    333\n",
      "Name: heartdisease, dtype: int64\n"
     ]
    }
   ],
   "source": [
    "print (f\"Distribution before resampling \\n {y_train.value_counts()}\" )\n",
    "print(\"..............................................................\")\n",
    "print (f\"Distribución después del ajuste \\n {y_train_res.value_counts()}\")"
   ]
  },
  {
   "attachments": {},
   "cell_type": "markdown",
   "metadata": {},
   "source": [
    "### 1.2 Ajuste y predicción del modelo 1"
   ]
  },
  {
   "cell_type": "code",
   "execution_count": 7,
   "metadata": {},
   "outputs": [],
   "source": [
    "# ajuste y prediccion del modelo\n",
    "\n",
    "# definimos la regresión logistica\n",
    "\n",
    "log_reg = LogisticRegression(n_jobs=-1, max_iter = 1000)\n",
    "\n",
    "# ajustamos el modelo\n",
    "log_reg.fit(X_train_res,y_train_res)\n",
    "\n",
    "# obtenemos las predicciones para el conjunto de entrenamiento\n",
    "y_pred_train = log_reg.predict(X_train)\n",
    "\n",
    "# obtenemos las predicciones para el conjunto de test\n",
    "y_pred_test = log_reg.predict(X_test)"
   ]
  },
  {
   "cell_type": "code",
   "execution_count": 8,
   "metadata": {},
   "outputs": [
    {
     "data": {
      "text/html": [
       "<div>\n",
       "<style scoped>\n",
       "    .dataframe tbody tr th:only-of-type {\n",
       "        vertical-align: middle;\n",
       "    }\n",
       "\n",
       "    .dataframe tbody tr th {\n",
       "        vertical-align: top;\n",
       "    }\n",
       "\n",
       "    .dataframe thead th {\n",
       "        text-align: right;\n",
       "    }\n",
       "</style>\n",
       "<table border=\"1\" class=\"dataframe\">\n",
       "  <thead>\n",
       "    <tr style=\"text-align: right;\">\n",
       "      <th></th>\n",
       "      <th>Real</th>\n",
       "      <th>Predicted</th>\n",
       "      <th>Set</th>\n",
       "    </tr>\n",
       "  </thead>\n",
       "  <tbody>\n",
       "    <tr>\n",
       "      <th>219</th>\n",
       "      <td>0</td>\n",
       "      <td>0</td>\n",
       "      <td>Train</td>\n",
       "    </tr>\n",
       "    <tr>\n",
       "      <th>502</th>\n",
       "      <td>0</td>\n",
       "      <td>1</td>\n",
       "      <td>Train</td>\n",
       "    </tr>\n",
       "    <tr>\n",
       "      <th>897</th>\n",
       "      <td>0</td>\n",
       "      <td>0</td>\n",
       "      <td>Train</td>\n",
       "    </tr>\n",
       "    <tr>\n",
       "      <th>300</th>\n",
       "      <td>1</td>\n",
       "      <td>1</td>\n",
       "      <td>Train</td>\n",
       "    </tr>\n",
       "    <tr>\n",
       "      <th>46</th>\n",
       "      <td>0</td>\n",
       "      <td>0</td>\n",
       "      <td>Test</td>\n",
       "    </tr>\n",
       "    <tr>\n",
       "      <th>597</th>\n",
       "      <td>1</td>\n",
       "      <td>1</td>\n",
       "      <td>Train</td>\n",
       "    </tr>\n",
       "    <tr>\n",
       "      <th>440</th>\n",
       "      <td>1</td>\n",
       "      <td>0</td>\n",
       "      <td>Train</td>\n",
       "    </tr>\n",
       "    <tr>\n",
       "      <th>520</th>\n",
       "      <td>1</td>\n",
       "      <td>1</td>\n",
       "      <td>Test</td>\n",
       "    </tr>\n",
       "  </tbody>\n",
       "</table>\n",
       "</div>"
      ],
      "text/plain": [
       "     Real  Predicted    Set\n",
       "219     0          0  Train\n",
       "502     0          1  Train\n",
       "897     0          0  Train\n",
       "300     1          1  Train\n",
       "46      0          0   Test\n",
       "597     1          1  Train\n",
       "440     1          0  Train\n",
       "520     1          1   Test"
      ]
     },
     "execution_count": 8,
     "metadata": {},
     "output_type": "execute_result"
    }
   ],
   "source": [
    "train_df = pd.DataFrame({'Real': y_train, 'Predicted': y_pred_train, 'Set': ['Train']*len(y_train)})\n",
    "test_df  = pd.DataFrame({'Real': y_test,  'Predicted': y_pred_test,  'Set': ['Test']*len(y_test)})\n",
    "resultados = pd.concat([train_df,test_df], axis = 0)\n",
    "resultados.sample(8)"
   ]
  },
  {
   "attachments": {},
   "cell_type": "markdown",
   "metadata": {},
   "source": [
    "## Modelo 2: Archivo codificado "
   ]
  },
  {
   "cell_type": "code",
   "execution_count": 9,
   "metadata": {},
   "outputs": [
    {
     "data": {
      "text/html": [
       "<div>\n",
       "<style scoped>\n",
       "    .dataframe tbody tr th:only-of-type {\n",
       "        vertical-align: middle;\n",
       "    }\n",
       "\n",
       "    .dataframe tbody tr th {\n",
       "        vertical-align: top;\n",
       "    }\n",
       "\n",
       "    .dataframe thead th {\n",
       "        text-align: right;\n",
       "    }\n",
       "</style>\n",
       "<table border=\"1\" class=\"dataframe\">\n",
       "  <thead>\n",
       "    <tr style=\"text-align: right;\">\n",
       "      <th></th>\n",
       "      <th>age</th>\n",
       "      <th>restingbp</th>\n",
       "      <th>fastingbs</th>\n",
       "      <th>restingecg</th>\n",
       "      <th>maxhr</th>\n",
       "      <th>exerciseangina</th>\n",
       "      <th>oldpeak</th>\n",
       "      <th>st_slope</th>\n",
       "      <th>heartdisease</th>\n",
       "      <th>cholesterol</th>\n",
       "      <th>sex_F</th>\n",
       "      <th>sex_M</th>\n",
       "      <th>chest_ASY</th>\n",
       "      <th>chest_ATA</th>\n",
       "      <th>chest_NAP</th>\n",
       "      <th>chest_TA</th>\n",
       "    </tr>\n",
       "  </thead>\n",
       "  <tbody>\n",
       "    <tr>\n",
       "      <th>0</th>\n",
       "      <td>40</td>\n",
       "      <td>140</td>\n",
       "      <td>0</td>\n",
       "      <td>1</td>\n",
       "      <td>172</td>\n",
       "      <td>1</td>\n",
       "      <td>0.0</td>\n",
       "      <td>3</td>\n",
       "      <td>0</td>\n",
       "      <td>289.0</td>\n",
       "      <td>0</td>\n",
       "      <td>1</td>\n",
       "      <td>0</td>\n",
       "      <td>1</td>\n",
       "      <td>0</td>\n",
       "      <td>0</td>\n",
       "    </tr>\n",
       "    <tr>\n",
       "      <th>1</th>\n",
       "      <td>49</td>\n",
       "      <td>160</td>\n",
       "      <td>0</td>\n",
       "      <td>1</td>\n",
       "      <td>156</td>\n",
       "      <td>1</td>\n",
       "      <td>1.0</td>\n",
       "      <td>1</td>\n",
       "      <td>1</td>\n",
       "      <td>180.0</td>\n",
       "      <td>1</td>\n",
       "      <td>0</td>\n",
       "      <td>0</td>\n",
       "      <td>0</td>\n",
       "      <td>1</td>\n",
       "      <td>0</td>\n",
       "    </tr>\n",
       "  </tbody>\n",
       "</table>\n",
       "</div>"
      ],
      "text/plain": [
       "   age  restingbp  fastingbs  restingecg  maxhr  exerciseangina  oldpeak  \\\n",
       "0   40        140          0           1    172               1      0.0   \n",
       "1   49        160          0           1    156               1      1.0   \n",
       "\n",
       "   st_slope  heartdisease  cholesterol  sex_F  sex_M  chest_ASY  chest_ATA  \\\n",
       "0         3             0        289.0      0      1          0          1   \n",
       "1         1             1        180.0      1      0          0          0   \n",
       "\n",
       "   chest_NAP  chest_TA  \n",
       "0          0         0  \n",
       "1          1         0  "
      ]
     },
     "execution_count": 9,
     "metadata": {},
     "output_type": "execute_result"
    }
   ],
   "source": [
    "# Archivo balanceado codificado\n",
    "df2 = pd.read_csv(\"../files_rl/4-heart-bal_encoding.csv\", index_col=0)\n",
    "df2.head(2)"
   ]
  },
  {
   "attachments": {},
   "cell_type": "markdown",
   "metadata": {},
   "source": [
    " ### 2.1 Balanceo de variable respuesta con método `SMOTETomek()`"
   ]
  },
  {
   "cell_type": "code",
   "execution_count": 10,
   "metadata": {},
   "outputs": [
    {
     "data": {
      "text/plain": [
       "1    507\n",
       "0    410\n",
       "Name: heartdisease, dtype: int64"
      ]
     },
     "execution_count": 10,
     "metadata": {},
     "output_type": "execute_result"
    }
   ],
   "source": [
    "df2['heartdisease'].value_counts()"
   ]
  },
  {
   "cell_type": "code",
   "execution_count": 11,
   "metadata": {},
   "outputs": [],
   "source": [
    "# separamos los datos en X e y\n",
    "\n",
    "X2 = df2.drop(\"heartdisease\", axis = 1)\n",
    "y2 = df2[\"heartdisease\"]"
   ]
  },
  {
   "cell_type": "code",
   "execution_count": 12,
   "metadata": {},
   "outputs": [],
   "source": [
    "#dividimos en sets de entrenamiento y test\n",
    "X_train2, X_test2, y_train2, y_test2 = train_test_split(X2, y2, train_size=0.7)"
   ]
  },
  {
   "cell_type": "code",
   "execution_count": 13,
   "metadata": {},
   "outputs": [],
   "source": [
    "# iniciamos el método\n",
    "os_us = SMOTETomek()\n",
    "\n",
    "# ajustamos el modelo\n",
    "X_train_res2, y_train_res2= os_us.fit_resample(X_train2, y_train2)"
   ]
  },
  {
   "cell_type": "code",
   "execution_count": 14,
   "metadata": {},
   "outputs": [
    {
     "name": "stdout",
     "output_type": "stream",
     "text": [
      "Distribution before resampling \n",
      " 1    369\n",
      "0    272\n",
      "Name: heartdisease, dtype: int64\n",
      "..............................................................\n",
      "Distribución después del ajuste \n",
      " 1    340\n",
      "0    340\n",
      "Name: heartdisease, dtype: int64\n"
     ]
    }
   ],
   "source": [
    "print (f\"Distribution before resampling \\n {y_train2.value_counts()}\" )\n",
    "print(\"..............................................................\")\n",
    "print (f\"Distribución después del ajuste \\n {y_train_res2.value_counts()}\")"
   ]
  },
  {
   "attachments": {},
   "cell_type": "markdown",
   "metadata": {},
   "source": [
    "### 2.2 Ajuste y predicción del modelo 2"
   ]
  },
  {
   "cell_type": "code",
   "execution_count": 15,
   "metadata": {},
   "outputs": [
    {
     "name": "stderr",
     "output_type": "stream",
     "text": [
      "/home/ximenaptm/anaconda3/lib/python3.9/site-packages/sklearn/linear_model/_logistic.py:814: ConvergenceWarning: lbfgs failed to converge (status=1):\n",
      "STOP: TOTAL NO. of ITERATIONS REACHED LIMIT.\n",
      "\n",
      "Increase the number of iterations (max_iter) or scale the data as shown in:\n",
      "    https://scikit-learn.org/stable/modules/preprocessing.html\n",
      "Please also refer to the documentation for alternative solver options:\n",
      "    https://scikit-learn.org/stable/modules/linear_model.html#logistic-regression\n",
      "  n_iter_i = _check_optimize_result(\n"
     ]
    }
   ],
   "source": [
    "# ajuste y prediccion del modelo\n",
    "\n",
    "# definimos la regresión logistica\n",
    "\n",
    "log_reg2 = LogisticRegression(n_jobs=-1, max_iter = 1000)\n",
    "\n",
    "# ajustamos el modelo\n",
    "log_reg2.fit(X_train_res2,y_train_res2)\n",
    "\n",
    "# obtenemos las predicciones para el conjunto de entrenamiento\n",
    "y_pred_train2 = log_reg2.predict(X_train2)\n",
    "\n",
    "# obtenemos las predicciones para el conjunto de test\n",
    "y_pred_test2 = log_reg2.predict(X_test2)"
   ]
  },
  {
   "cell_type": "code",
   "execution_count": 16,
   "metadata": {},
   "outputs": [
    {
     "data": {
      "text/html": [
       "<div>\n",
       "<style scoped>\n",
       "    .dataframe tbody tr th:only-of-type {\n",
       "        vertical-align: middle;\n",
       "    }\n",
       "\n",
       "    .dataframe tbody tr th {\n",
       "        vertical-align: top;\n",
       "    }\n",
       "\n",
       "    .dataframe thead th {\n",
       "        text-align: right;\n",
       "    }\n",
       "</style>\n",
       "<table border=\"1\" class=\"dataframe\">\n",
       "  <thead>\n",
       "    <tr style=\"text-align: right;\">\n",
       "      <th></th>\n",
       "      <th>Real</th>\n",
       "      <th>Predicted</th>\n",
       "      <th>Set</th>\n",
       "    </tr>\n",
       "  </thead>\n",
       "  <tbody>\n",
       "    <tr>\n",
       "      <th>849</th>\n",
       "      <td>1</td>\n",
       "      <td>1</td>\n",
       "      <td>Train2</td>\n",
       "    </tr>\n",
       "    <tr>\n",
       "      <th>478</th>\n",
       "      <td>1</td>\n",
       "      <td>1</td>\n",
       "      <td>Train2</td>\n",
       "    </tr>\n",
       "    <tr>\n",
       "      <th>888</th>\n",
       "      <td>1</td>\n",
       "      <td>0</td>\n",
       "      <td>Train2</td>\n",
       "    </tr>\n",
       "    <tr>\n",
       "      <th>626</th>\n",
       "      <td>0</td>\n",
       "      <td>0</td>\n",
       "      <td>Test2</td>\n",
       "    </tr>\n",
       "    <tr>\n",
       "      <th>2</th>\n",
       "      <td>0</td>\n",
       "      <td>0</td>\n",
       "      <td>Test2</td>\n",
       "    </tr>\n",
       "    <tr>\n",
       "      <th>905</th>\n",
       "      <td>0</td>\n",
       "      <td>0</td>\n",
       "      <td>Train2</td>\n",
       "    </tr>\n",
       "    <tr>\n",
       "      <th>570</th>\n",
       "      <td>1</td>\n",
       "      <td>1</td>\n",
       "      <td>Train2</td>\n",
       "    </tr>\n",
       "    <tr>\n",
       "      <th>831</th>\n",
       "      <td>0</td>\n",
       "      <td>0</td>\n",
       "      <td>Train2</td>\n",
       "    </tr>\n",
       "  </tbody>\n",
       "</table>\n",
       "</div>"
      ],
      "text/plain": [
       "     Real  Predicted     Set\n",
       "849     1          1  Train2\n",
       "478     1          1  Train2\n",
       "888     1          0  Train2\n",
       "626     0          0   Test2\n",
       "2       0          0   Test2\n",
       "905     0          0  Train2\n",
       "570     1          1  Train2\n",
       "831     0          0  Train2"
      ]
     },
     "execution_count": 16,
     "metadata": {},
     "output_type": "execute_result"
    }
   ],
   "source": [
    "train_df2 = pd.DataFrame({'Real': y_train2, 'Predicted': y_pred_train2, 'Set': ['Train2']*len(y_train2)})\n",
    "test_df2  = pd.DataFrame({'Real': y_test2,  'Predicted': y_pred_test2,  'Set': ['Test2']*len(y_test2)})\n",
    "resultados2 = pd.concat([train_df2,test_df2], axis = 0)\n",
    "resultados2.sample(8)"
   ]
  },
  {
   "attachments": {},
   "cell_type": "markdown",
   "metadata": {},
   "source": [
    "## 3. Matriz de confusión de modelo 1 y modelo 2"
   ]
  },
  {
   "cell_type": "code",
   "execution_count": 17,
   "metadata": {},
   "outputs": [
    {
     "data": {
      "image/png": "[encoded data removed]",
      "text/plain": [
       "<Figure size 1200x400 with 4 Axes>"
      ]
     },
     "metadata": {},
     "output_type": "display_data"
    }
   ],
   "source": [
    "fig, ax  = plt.subplots(1, 2, sharex='col', figsize=(12, 4))\n",
    "\n",
    "mat_lr1 = confusion_matrix(y_test, y_pred_test)\n",
    "mat_lr2 = confusion_matrix(y_test2, y_pred_test2)\n",
    "\n",
    "sns.heatmap(mat_lr1, square=True, annot=True, fmt=\"d\", cmap = \"viridis\", ax=ax[0])\n",
    "ax[0].set_title(\"Matriz Modelo 1: Estandarizada y codificada\")\n",
    "ax[0].set_ylabel(\"Valor real\")\n",
    "ax[0].set_xlabel(\"Valor predicho\")\n",
    "\n",
    "# MATRIZ DE CORRELACIÓN PARA DATOS 2\n",
    "\n",
    "sns.heatmap(mat_lr2, square=True, annot=True, fmt=\"d\", cmap = \"viridis\", ax=ax[1])\n",
    "ax[1].set_title(\"Matriz Modelo2: Codificada\")\n",
    "ax[1].set_ylabel(\"Valor real\")\n",
    "ax[1].set_xlabel(\"Valor predicho\")\n",
    "\n",
    "plt.show();\n"
   ]
  },
  {
   "attachments": {},
   "cell_type": "markdown",
   "metadata": {},
   "source": [
    "La variable respuesta `heartdisease` o `cardiopatía` está dividida de la siguiente forma: \n",
    "\n",
    "- 0: No, normal *no existe cardiopatía* \n",
    "- 1: Sí, cardiopaía *si existe cardiopatía* \n",
    "\n",
    "- Al comparar las matrices observamos que el modelo 2 captura mayor número de valores verdaderos positivos, así mismo, este modelo captura menor número de falsos positivos y de falsos negativos. El relación a los verdadeos negativos, captura un caso menos. \n"
   ]
  },
  {
   "attachments": {},
   "cell_type": "markdown",
   "metadata": {},
   "source": [
    "# 4. Métricas"
   ]
  },
  {
   "cell_type": "code",
   "execution_count": 18,
   "metadata": {},
   "outputs": [],
   "source": [
    "# Función para sacar las métricas\n",
    "\n",
    "def metricas(clases_reales_test, clases_predichas_test, clases_reales_train, clases_predichas_train, modelo):\n",
    "    \n",
    "    # para el test\n",
    "    accuracy_test = accuracy_score(clases_reales_test, clases_predichas_test)\n",
    "    precision_test = precision_score(clases_reales_test, clases_predichas_test)\n",
    "    recall_test = recall_score(clases_reales_test, clases_predichas_test)\n",
    "    f1_test = f1_score(clases_reales_test, clases_predichas_test)\n",
    "    kappa_test = cohen_kappa_score(clases_reales_test, clases_predichas_test)\n",
    "\n",
    "    # para el train\n",
    "    accuracy_train = accuracy_score(clases_reales_train, clases_predichas_train)\n",
    "    precision_train = precision_score(clases_reales_train, clases_predichas_train)\n",
    "    recall_train = recall_score(clases_reales_train, clases_predichas_train)\n",
    "    f1_train = f1_score(clases_reales_train, clases_predichas_train)\n",
    "    kappa_train = cohen_kappa_score(clases_reales_train, clases_predichas_train)\n",
    "    \n",
    "\n",
    "    \n",
    "    df = pd.DataFrame({\"accuracy\": [accuracy_test, accuracy_train], \n",
    "                       \"precision\": [precision_test, precision_train],\n",
    "                       \"recall\": [recall_test, recall_train], \n",
    "                       \"f1\": [f1_test, f1_train],\n",
    "                       \"kapppa\": [kappa_test, kappa_train],\n",
    "                       \"set\": [\"test\", \"train\"]})\n",
    "    \n",
    "    df[\"modelo\"] = modelo\n",
    "    return df"
   ]
  },
  {
   "attachments": {},
   "cell_type": "markdown",
   "metadata": {},
   "source": [
    "## 4.1 Interpretación del modelo 1, con datos estandarizados y codificados"
   ]
  },
  {
   "cell_type": "code",
   "execution_count": 19,
   "metadata": {},
   "outputs": [
    {
     "data": {
      "text/html": [
       "<div>\n",
       "<style scoped>\n",
       "    .dataframe tbody tr th:only-of-type {\n",
       "        vertical-align: middle;\n",
       "    }\n",
       "\n",
       "    .dataframe tbody tr th {\n",
       "        vertical-align: top;\n",
       "    }\n",
       "\n",
       "    .dataframe thead th {\n",
       "        text-align: right;\n",
       "    }\n",
       "</style>\n",
       "<table border=\"1\" class=\"dataframe\">\n",
       "  <thead>\n",
       "    <tr style=\"text-align: right;\">\n",
       "      <th></th>\n",
       "      <th>accuracy</th>\n",
       "      <th>precision</th>\n",
       "      <th>recall</th>\n",
       "      <th>f1</th>\n",
       "      <th>kapppa</th>\n",
       "      <th>set</th>\n",
       "      <th>modelo</th>\n",
       "    </tr>\n",
       "  </thead>\n",
       "  <tbody>\n",
       "    <tr>\n",
       "      <th>0</th>\n",
       "      <td>0.898551</td>\n",
       "      <td>0.891892</td>\n",
       "      <td>0.916667</td>\n",
       "      <td>0.904110</td>\n",
       "      <td>0.79646</td>\n",
       "      <td>test</td>\n",
       "      <td>Regresión logistica Est-Cod</td>\n",
       "    </tr>\n",
       "    <tr>\n",
       "      <th>1</th>\n",
       "      <td>0.848674</td>\n",
       "      <td>0.867403</td>\n",
       "      <td>0.865014</td>\n",
       "      <td>0.866207</td>\n",
       "      <td>0.69206</td>\n",
       "      <td>train</td>\n",
       "      <td>Regresión logistica Est-Cod</td>\n",
       "    </tr>\n",
       "  </tbody>\n",
       "</table>\n",
       "</div>"
      ],
      "text/plain": [
       "   accuracy  precision    recall        f1   kapppa    set  \\\n",
       "0  0.898551   0.891892  0.916667  0.904110  0.79646   test   \n",
       "1  0.848674   0.867403  0.865014  0.866207  0.69206  train   \n",
       "\n",
       "                        modelo  \n",
       "0  Regresión logistica Est-Cod  \n",
       "1  Regresión logistica Est-Cod  "
      ]
     },
     "execution_count": 19,
     "metadata": {},
     "output_type": "execute_result"
    }
   ],
   "source": [
    "results_logistic_1 = metricas(y_test, y_pred_test, y_train, y_pred_train, \"Regresión logistica Est-Cod\")\n",
    "results_logistic_1"
   ]
  },
  {
   "attachments": {},
   "cell_type": "markdown",
   "metadata": {},
   "source": [
    "1. Establecemos nuestro probema, en este caso nos interesa identificar si un paciente tiene el corazón normal, 0, o presenta alguna cardiopatía, 1.  Es por ello, que priorizamos los falsos negativos, es decir, que nuestro modelo nos arroje que presenta cardiopatía, pero lo real es que es normal.\n",
    "\n",
    "2 *Accuracy*: nuestro modelo acierta el 86% de la veces. `Mide  que porcentaje de los valores predichos están bien predichos` \n",
    "\n",
    "3. Precisión y recall. \n",
    "\n",
    "\n",
    "4 *Precision*:  El modelo acierta en el test el 86% de las veces que prediga que un corazón es normal.   \n",
    "`¿Qué porcentaje de predicciones positivas fueron correctas?`\n",
    "\n",
    "- *Recall*: El modelo captura el 88% de casos positivos reales. Esta métrica es más alta que la precisión y al interesarnos los Falsos negativos, observamos que esta métrica es buena, en relación a la precisión. \n",
    "`*sensibilidad* o *exhaustividad*, porcentaje de casos negativos fueron capturados?`\n",
    "\n",
    "\n",
    "5. *f1*: El valor de f1 es 0.87, por lo tanto el modelo es bueno\n",
    "\n",
    "\n",
    "6. *kappa* tenemos un valor de 0.72.Esto en realidad nos esta diciendo que la concordancia de nuestros datos es buena, es decir, que nuestro modelo no esta acertando en sus predicciones por puro azar. \n",
    "`es una medida de concordancia que se basa en comparar la concordancia observada en un conjunto de datos`\n",
    "\n",
    "\n",
    "**El *overfitting*  y el *underfitting*?**:\n",
    "\n",
    "No se identifica ninguna de las dos situaciones."
   ]
  },
  {
   "attachments": {},
   "cell_type": "markdown",
   "metadata": {},
   "source": [
    "## 4.2 Interpretación del modelo , con datos codificados"
   ]
  },
  {
   "cell_type": "code",
   "execution_count": 20,
   "metadata": {},
   "outputs": [
    {
     "data": {
      "text/html": [
       "<div>\n",
       "<style scoped>\n",
       "    .dataframe tbody tr th:only-of-type {\n",
       "        vertical-align: middle;\n",
       "    }\n",
       "\n",
       "    .dataframe tbody tr th {\n",
       "        vertical-align: top;\n",
       "    }\n",
       "\n",
       "    .dataframe thead th {\n",
       "        text-align: right;\n",
       "    }\n",
       "</style>\n",
       "<table border=\"1\" class=\"dataframe\">\n",
       "  <thead>\n",
       "    <tr style=\"text-align: right;\">\n",
       "      <th></th>\n",
       "      <th>accuracy</th>\n",
       "      <th>precision</th>\n",
       "      <th>recall</th>\n",
       "      <th>f1</th>\n",
       "      <th>kapppa</th>\n",
       "      <th>set</th>\n",
       "      <th>modelo</th>\n",
       "    </tr>\n",
       "  </thead>\n",
       "  <tbody>\n",
       "    <tr>\n",
       "      <th>0</th>\n",
       "      <td>0.862319</td>\n",
       "      <td>0.852113</td>\n",
       "      <td>0.876812</td>\n",
       "      <td>0.864286</td>\n",
       "      <td>0.724638</td>\n",
       "      <td>test</td>\n",
       "      <td>Regresión logistica Cod</td>\n",
       "    </tr>\n",
       "    <tr>\n",
       "      <th>1</th>\n",
       "      <td>0.859594</td>\n",
       "      <td>0.882192</td>\n",
       "      <td>0.872629</td>\n",
       "      <td>0.877384</td>\n",
       "      <td>0.713162</td>\n",
       "      <td>train</td>\n",
       "      <td>Regresión logistica Cod</td>\n",
       "    </tr>\n",
       "  </tbody>\n",
       "</table>\n",
       "</div>"
      ],
      "text/plain": [
       "   accuracy  precision    recall        f1    kapppa    set  \\\n",
       "0  0.862319   0.852113  0.876812  0.864286  0.724638   test   \n",
       "1  0.859594   0.882192  0.872629  0.877384  0.713162  train   \n",
       "\n",
       "                    modelo  \n",
       "0  Regresión logistica Cod  \n",
       "1  Regresión logistica Cod  "
      ]
     },
     "execution_count": 20,
     "metadata": {},
     "output_type": "execute_result"
    }
   ],
   "source": [
    "results_logistic_2 = metricas(y_test2, y_pred_test2, y_train2, y_pred_train2, \"Regresión logistica Cod\")\n",
    "results_logistic_2"
   ]
  },
  {
   "attachments": {},
   "cell_type": "markdown",
   "metadata": {},
   "source": [
    "Si miramos los datos del test: \n",
    "\n",
    "1. Establecemos nuestro probema, en este caso nos interesa identificar si un paciente tiene el corazón normal, 0, o presenta alguna cardiopatía, 1.  Es por ello, que priorizamos los falsos negativos, es decir, que nuestro modelo nos arroje que presenta cardiopatía, pero lo real es que es normal.\n",
    "\n",
    "2 *Accuracy*: nuestro modelo acierta el 89% de la veces. `Mide  que porcentaje de los valores predichos están bien predichos` \n",
    "\n",
    "3 *Precision*:  tenemos un valor de 0.89, por lo que nuestro modelo se equivocará un 11% de las veces que prediga que un paciente tiene el corazón normal. \n",
    "`¿Qué porcentaje de predicciones positivas fueron correctas?`\n",
    "\n",
    "4 *Recall*: tenemos un valor de 0.89. Es decir, nuestro modelo es capaz de identificar un 89% de los pacientes sin cordiopatía, corazones normales.\n",
    "`*sensibilidad* o *exhaustividad*, porcentaje de casos positivos fueron capturados?`\n",
    "\n",
    "5. *f1*: El valor de f1 es 0.89, por lo tanto el modelo es bueno.\n",
    "\n",
    "6 *kappa* tenemos un valor de 0.78. Esto en realidad nos esta diciendo que la concordancia de nuestros datos es bueno, es decir, que nuestro modelo no esta acertando en sus predicciones por azar. \n",
    "`es una medida de concordancia que se basa en comparar la concordancia observada en un conjunto de datos`\n"
   ]
  },
  {
   "attachments": {},
   "cell_type": "markdown",
   "metadata": {},
   "source": [
    "## 4.3 Métricas comparadas"
   ]
  },
  {
   "cell_type": "code",
   "execution_count": 21,
   "metadata": {},
   "outputs": [
    {
     "data": {
      "text/html": [
       "<div>\n",
       "<style scoped>\n",
       "    .dataframe tbody tr th:only-of-type {\n",
       "        vertical-align: middle;\n",
       "    }\n",
       "\n",
       "    .dataframe tbody tr th {\n",
       "        vertical-align: top;\n",
       "    }\n",
       "\n",
       "    .dataframe thead th {\n",
       "        text-align: right;\n",
       "    }\n",
       "</style>\n",
       "<table border=\"1\" class=\"dataframe\">\n",
       "  <thead>\n",
       "    <tr style=\"text-align: right;\">\n",
       "      <th></th>\n",
       "      <th>accuracy</th>\n",
       "      <th>precision</th>\n",
       "      <th>recall</th>\n",
       "      <th>f1</th>\n",
       "      <th>kapppa</th>\n",
       "      <th>set</th>\n",
       "      <th>modelo</th>\n",
       "    </tr>\n",
       "  </thead>\n",
       "  <tbody>\n",
       "    <tr>\n",
       "      <th>0</th>\n",
       "      <td>0.898551</td>\n",
       "      <td>0.891892</td>\n",
       "      <td>0.916667</td>\n",
       "      <td>0.904110</td>\n",
       "      <td>0.796460</td>\n",
       "      <td>test</td>\n",
       "      <td>Regresión logistica Est-Cod</td>\n",
       "    </tr>\n",
       "    <tr>\n",
       "      <th>1</th>\n",
       "      <td>0.848674</td>\n",
       "      <td>0.867403</td>\n",
       "      <td>0.865014</td>\n",
       "      <td>0.866207</td>\n",
       "      <td>0.692060</td>\n",
       "      <td>train</td>\n",
       "      <td>Regresión logistica Est-Cod</td>\n",
       "    </tr>\n",
       "    <tr>\n",
       "      <th>0</th>\n",
       "      <td>0.862319</td>\n",
       "      <td>0.852113</td>\n",
       "      <td>0.876812</td>\n",
       "      <td>0.864286</td>\n",
       "      <td>0.724638</td>\n",
       "      <td>test</td>\n",
       "      <td>Regresión logistica Cod</td>\n",
       "    </tr>\n",
       "    <tr>\n",
       "      <th>1</th>\n",
       "      <td>0.859594</td>\n",
       "      <td>0.882192</td>\n",
       "      <td>0.872629</td>\n",
       "      <td>0.877384</td>\n",
       "      <td>0.713162</td>\n",
       "      <td>train</td>\n",
       "      <td>Regresión logistica Cod</td>\n",
       "    </tr>\n",
       "  </tbody>\n",
       "</table>\n",
       "</div>"
      ],
      "text/plain": [
       "   accuracy  precision    recall        f1    kapppa    set  \\\n",
       "0  0.898551   0.891892  0.916667  0.904110  0.796460   test   \n",
       "1  0.848674   0.867403  0.865014  0.866207  0.692060  train   \n",
       "0  0.862319   0.852113  0.876812  0.864286  0.724638   test   \n",
       "1  0.859594   0.882192  0.872629  0.877384  0.713162  train   \n",
       "\n",
       "                        modelo  \n",
       "0  Regresión logistica Est-Cod  \n",
       "1  Regresión logistica Est-Cod  \n",
       "0      Regresión logistica Cod  \n",
       "1      Regresión logistica Cod  "
      ]
     },
     "execution_count": 21,
     "metadata": {},
     "output_type": "execute_result"
    }
   ],
   "source": [
    "resultados_todo = pd.concat([results_logistic_1, results_logistic_2], axis = 0)\n",
    "resultados_todo"
   ]
  },
  {
   "attachments": {},
   "cell_type": "markdown",
   "metadata": {},
   "source": [
    "Si comparamos nuestros datos predichos en el test por ambos modelos, observamos: \n",
    "\n",
    "``Establecemos nuestro probema, en este caso nos interesa identificar si un paciente tiene el corazón normal, 0, o presenta alguna cardiopatía, 1.  Es por ello, que priorizamos los falsos negativos, es decir, que nuestro modelo nos arroje que presenta cardiopatía, pero lo real es que es normal.``\n",
    "\n",
    "- *Accuracy*: El porcentaje de aciertos es mejor en modelo 1, el modelo de Regresión Logística con datos solo codificados. \n",
    "`Mide  que porcentaje de los valores predichos están bien predichos` \n",
    "\n",
    "- *Precision*:  La precisión tambiés es mejor en el modelo que está solo codificado.\n",
    "`¿Qué porcentaje de predicciones positivas fueron correctas?`\n",
    "\n",
    "- *Recall*: El recall es mejor en el modelo 2, sólo codificado con un 0.01.\n",
    "`*sensibilidad* o *exhaustividad*, porcentaje de casos positivos fueron capturados?`\n",
    "\n",
    "- *f1*: El valor del modelo 2 es mejor en 0.02\n",
    "\n",
    "- *kappa* tenemos un valor de 0.78 en el codificado y en el otro 0.72, por lo tanto, el modelo codificado tiene una concordancia más alta en la predicción de los datos, es mejor.  \n",
    "`es una medida de concordancia que se basa en comparar la concordancia observada en un conjunto de datos`\n",
    "\n",
    "Concluimos que el modelo 2, con datos sólo codificados, arroja mejores resultados a la hora de predecir la variable de la existencia o no de cardiopatías, heartdiseases.\n"
   ]
  },
  {
   "attachments": {},
   "cell_type": "markdown",
   "metadata": {},
   "source": [
    "# 5. Observaciones adicionales"
   ]
  },
  {
   "attachments": {},
   "cell_type": "markdown",
   "metadata": {},
   "source": [
    "## 5.1 ROC"
   ]
  },
  {
   "cell_type": "code",
   "execution_count": 22,
   "metadata": {},
   "outputs": [
    {
     "data": {
      "image/png": "[encoded data removed]",
      "text/plain": [
       "<Figure size 1500x500 with 2 Axes>"
      ]
     },
     "metadata": {},
     "output_type": "display_data"
    }
   ],
   "source": [
    "fig, axs  = plt.subplots(nrows=1, ncols=2, sharex='col', figsize=(15, 5))\n",
    "\n",
    "#modelo down\n",
    "false_positive_rate1, true_positive_rate1, threshold1 = roc_curve(y_test, y_pred_test)\n",
    "\n",
    "#modelo up\n",
    "false_positive_rate2, true_positive_rate2, threshold2 = roc_curve(y_test2, y_pred_test2)\n",
    "\n",
    "\n",
    "#create ROC curve\n",
    "axs[0].plot(false_positive_rate1, true_positive_rate1, '-o', LineWidth=3)\n",
    "axs[0].plot([0, 1], ls=\"--\")\n",
    "axs[0].plot([0, 0], [1, 0] , c=\".7\"), plt.plot([1, 1] , c=\".7\")\n",
    "axs[0].set_title('ROC - Modelo 1')\n",
    "axs[0].set_ylabel('Sensitividad/Exhaustividad Recall (True Positive Rate)')\n",
    "axs[0].set_xlabel('False Positive Rate (Especificidad)')\n",
    "\n",
    "\n",
    "#create ROC curve\n",
    "axs[1].plot(false_positive_rate2, true_positive_rate2, '-o', LineWidth=3 )\n",
    "axs[1].plot([0, 1], ls=\"--\")\n",
    "axs[1].plot([0, 0], [1, 0] , c=\".7\"), plt.plot([1, 1] , c=\".7\")\n",
    "axs[1].set_title('ROC - Modelo 2')\n",
    "axs[1].set_ylabel('Sensitividad/Exhaustividad Recall (True Positive Rate)')\n",
    "axs[1].set_xlabel('False Positive Rate (Especificidad)')\n",
    "\n",
    "plt.show();"
   ]
  },
  {
   "attachments": {},
   "cell_type": "markdown",
   "metadata": {},
   "source": [
    "La **curva ROC** ( *Receiver Operating Characteristic*)  representa la sensibilidad **recall** ( o ratio de verdareros positivos) frente a 1 **especificidad**, (¿Qué porcentaje de casos negativos fueron capturados? o ratio de falsos positivos). Estas gráfias nos dicen como de bien son capaces de distinguir nuestros modelos entre ser positivo o no. Observamos que en el modelo 2, se predicen con mayor exactitud ya que la línea está más cercana a 1."
   ]
  },
  {
   "attachments": {},
   "cell_type": "markdown",
   "metadata": {},
   "source": [
    "## 5.2 Posibe Interpretación con enfoque de negativos"
   ]
  },
  {
   "cell_type": "code",
   "execution_count": 23,
   "metadata": {},
   "outputs": [
    {
     "data": {
      "text/plain": [
       "0.8523489932885906"
      ]
     },
     "execution_count": 23,
     "metadata": {},
     "output_type": "execute_result"
    }
   ],
   "source": [
    "# Fórmula especificidad modelo 1, estandarizado y codificado.\n",
    "127 / (127+22)"
   ]
  },
  {
   "cell_type": "code",
   "execution_count": 24,
   "metadata": {},
   "outputs": [
    {
     "data": {
      "text/plain": [
       "0.8701298701298701"
      ]
     },
     "execution_count": 24,
     "metadata": {},
     "output_type": "execute_result"
    }
   ],
   "source": [
    "# Fórmula especificidad modelo 2, codificado.\n",
    "134 / (134+20)"
   ]
  },
  {
   "attachments": {},
   "cell_type": "markdown",
   "metadata": {},
   "source": [
    "Nos percatamos que nos hemos centrado en detectar aquellos pacientes que tienen el cozarón normal. Sin embargo, si quisieramos enfocarnos en pacientes no normales o con cardiopatía, deberíamos mirar los valores verdaderos negativos y faltos positivos.\n",
    "Para analizar usaremos la métrica de especificidad, que nos dice el porcentaje de casos negativos capturados.\n",
    "Al aplicar la fórmula no arroja que sería 0.85 para el modelo estandarizado y codificado; y para el otro modelo es 0.87. Por lo tanto, el segundo modelo captura mejor nuestros negativos."
   ]
  }
 ],
 "metadata": {
  "kernelspec": {
   "display_name": "base",
   "language": "python",
   "name": "python3"
  },
  "language_info": {
   "codemirror_mode": {
    "name": "ipython",
    "version": 3
   },
   "file_extension": ".py",
   "mimetype": "text/x-python",
   "name": "python",
   "nbconvert_exporter": "python",
   "pygments_lexer": "ipython3",
   "version": "3.9.13"
  },
  "orig_nbformat": 4,
  "vscode": {
   "interpreter": {
    "hash": "f2104d434ce3092b7c07d5af98c90652611c7ad655b2a72b59e9e675e449bc7b"
   }
  }
 },
 "nbformat": 4,
 "nbformat_minor": 2
}
