{
 "cells": [
  {
   "attachments": {},
   "cell_type": "markdown",
   "metadata": {},
   "source": [
    "# Pair Programming Encoding"
   ]
  },
  {
   "cell_type": "code",
   "execution_count": 1,
   "metadata": {},
   "outputs": [],
   "source": [
    "# Tratamiento de datos\n",
    "import pandas as pd\n",
    "\n",
    "# Para la codificación de las variables numéricas\n",
    "from sklearn.preprocessing import LabelEncoder # para realizar el Label Encoding \n",
    "from sklearn.preprocessing import OneHotEncoder  # para realizar el One-Hot Encoding\n",
    "\n",
    "# Para evitar que salgan los warnings en jupyter\n",
    "import warnings\n",
    "warnings.filterwarnings('ignore')\n",
    "\n",
    "# librerías para la visualización de los datos\n",
    "import matplotlib.pyplot as plt\n",
    "import seaborn as sns"
   ]
  },
  {
   "cell_type": "code",
   "execution_count": 2,
   "metadata": {},
   "outputs": [
    {
     "data": {
      "text/html": [
       "<div>\n",
       "<style scoped>\n",
       "    .dataframe tbody tr th:only-of-type {\n",
       "        vertical-align: middle;\n",
       "    }\n",
       "\n",
       "    .dataframe tbody tr th {\n",
       "        vertical-align: top;\n",
       "    }\n",
       "\n",
       "    .dataframe thead th {\n",
       "        text-align: right;\n",
       "    }\n",
       "</style>\n",
       "<table border=\"1\" class=\"dataframe\">\n",
       "  <thead>\n",
       "    <tr style=\"text-align: right;\">\n",
       "      <th></th>\n",
       "      <th>continente</th>\n",
       "      <th>life_expectancy</th>\n",
       "      <th>adult_mortality</th>\n",
       "      <th>infant_deaths</th>\n",
       "      <th>alcohol</th>\n",
       "      <th>bmi</th>\n",
       "      <th>diphtheria</th>\n",
       "      <th>hiv_aids</th>\n",
       "      <th>gdp</th>\n",
       "      <th>income_composition_of_resources</th>\n",
       "      <th>schooling</th>\n",
       "    </tr>\n",
       "  </thead>\n",
       "  <tbody>\n",
       "    <tr>\n",
       "      <th>1190</th>\n",
       "      <td>Asia</td>\n",
       "      <td>64.0</td>\n",
       "      <td>0.31250</td>\n",
       "      <td>0.148148</td>\n",
       "      <td>0.546805</td>\n",
       "      <td>-0.462976</td>\n",
       "      <td>-0.545455</td>\n",
       "      <td>0.142857</td>\n",
       "      <td>0.458380</td>\n",
       "      <td>-0.315392</td>\n",
       "      <td>-0.473684</td>\n",
       "    </tr>\n",
       "    <tr>\n",
       "      <th>1248</th>\n",
       "      <td>Africa</td>\n",
       "      <td>51.5</td>\n",
       "      <td>1.06250</td>\n",
       "      <td>0.333333</td>\n",
       "      <td>0.350669</td>\n",
       "      <td>-0.931704</td>\n",
       "      <td>-2.181818</td>\n",
       "      <td>2.142857</td>\n",
       "      <td>-0.335064</td>\n",
       "      <td>-0.904627</td>\n",
       "      <td>-0.315789</td>\n",
       "    </tr>\n",
       "    <tr>\n",
       "      <th>1520</th>\n",
       "      <td>Asia</td>\n",
       "      <td>64.7</td>\n",
       "      <td>0.34375</td>\n",
       "      <td>1.111111</td>\n",
       "      <td>-0.479445</td>\n",
       "      <td>-0.615385</td>\n",
       "      <td>-3.727273</td>\n",
       "      <td>0.071429</td>\n",
       "      <td>-0.303161</td>\n",
       "      <td>-0.613787</td>\n",
       "      <td>-0.631579</td>\n",
       "    </tr>\n",
       "    <tr>\n",
       "      <th>1230</th>\n",
       "      <td>Africa</td>\n",
       "      <td>45.5</td>\n",
       "      <td>3.03125</td>\n",
       "      <td>0.000000</td>\n",
       "      <td>-0.126795</td>\n",
       "      <td>-0.241553</td>\n",
       "      <td>-3.681818</td>\n",
       "      <td>24.071429</td>\n",
       "      <td>-0.366209</td>\n",
       "      <td>-0.700661</td>\n",
       "      <td>-0.315789</td>\n",
       "    </tr>\n",
       "    <tr>\n",
       "      <th>1804</th>\n",
       "      <td>Oceania</td>\n",
       "      <td>73.0</td>\n",
       "      <td>-0.15000</td>\n",
       "      <td>-0.185185</td>\n",
       "      <td>-0.095097</td>\n",
       "      <td>1.095615</td>\n",
       "      <td>-1.136364</td>\n",
       "      <td>0.000000</td>\n",
       "      <td>0.726755</td>\n",
       "      <td>0.254958</td>\n",
       "      <td>0.315789</td>\n",
       "    </tr>\n",
       "  </tbody>\n",
       "</table>\n",
       "</div>"
      ],
      "text/plain": [
       "     continente  life_expectancy  adult_mortality  infant_deaths   alcohol  \\\n",
       "1190       Asia             64.0          0.31250       0.148148  0.546805   \n",
       "1248     Africa             51.5          1.06250       0.333333  0.350669   \n",
       "1520       Asia             64.7          0.34375       1.111111 -0.479445   \n",
       "1230     Africa             45.5          3.03125       0.000000 -0.126795   \n",
       "1804    Oceania             73.0         -0.15000      -0.185185 -0.095097   \n",
       "\n",
       "           bmi  diphtheria   hiv_aids       gdp  \\\n",
       "1190 -0.462976   -0.545455   0.142857  0.458380   \n",
       "1248 -0.931704   -2.181818   2.142857 -0.335064   \n",
       "1520 -0.615385   -3.727273   0.071429 -0.303161   \n",
       "1230 -0.241553   -3.681818  24.071429 -0.366209   \n",
       "1804  1.095615   -1.136364   0.000000  0.726755   \n",
       "\n",
       "      income_composition_of_resources  schooling  \n",
       "1190                        -0.315392  -0.473684  \n",
       "1248                        -0.904627  -0.315789  \n",
       "1520                        -0.613787  -0.631579  \n",
       "1230                        -0.700661  -0.315789  \n",
       "1804                         0.254958   0.315789  "
      ]
     },
     "execution_count": 2,
     "metadata": {},
     "output_type": "execute_result"
    }
   ],
   "source": [
    "df = pd.read_csv(\"../files/endesarrollo_anova.csv\", index_col = 0)\n",
    "df.sample(5)"
   ]
  },
  {
   "cell_type": "code",
   "execution_count": 3,
   "metadata": {},
   "outputs": [
    {
     "data": {
      "text/plain": [
       "array(['Asia', 'Europe', 'Africa', 'North America', 'South America',\n",
       "       'Oceania'], dtype=object)"
      ]
     },
     "execution_count": 3,
     "metadata": {},
     "output_type": "execute_result"
    }
   ],
   "source": [
    "df.continente.unique()"
   ]
  },
  {
   "attachments": {},
   "cell_type": "markdown",
   "metadata": {},
   "source": [
    "## 1. Hacer una códificación de la/las variables categóricas que tengáis en vuestro set de datos."
   ]
  },
  {
   "attachments": {},
   "cell_type": "markdown",
   "metadata": {},
   "source": [
    " 1.1 Recordad que lo primero que deberéis hacer es decidir su vuestras variables tienen o no orden, para que en función de esto uséis una aproximación u otra.\n",
    "\n",
    " `La única variable categórica que tenemos en el dataset es la de continente, hemos decidido asignar un orden a las categorías con base en el coeficiente que indica el médoto summary del proceso de ANOVA y corroborado con un barplot. Siendo el valor más alto para el continente con mayor expectativa de vida y el más bajo, 1, el contienente con menor expectativa de vida. `"
   ]
  },
  {
   "cell_type": "code",
   "execution_count": 4,
   "metadata": {},
   "outputs": [
    {
     "data": {
      "text/plain": [
       "Index(['continente', 'life_expectancy', 'adult_mortality', 'infant_deaths',\n",
       "       'alcohol', 'bmi', 'diphtheria', 'hiv_aids', 'gdp',\n",
       "       'income_composition_of_resources', 'schooling'],\n",
       "      dtype='object')"
      ]
     },
     "execution_count": 4,
     "metadata": {},
     "output_type": "execute_result"
    }
   ],
   "source": [
    "df.columns"
   ]
  },
  {
   "cell_type": "code",
   "execution_count": 5,
   "metadata": {},
   "outputs": [
    {
     "data": {
      "image/png": "[encoded data removed]",
      "text/plain": [
       "<Figure size 640x480 with 1 Axes>"
      ]
     },
     "metadata": {},
     "output_type": "display_data"
    }
   ],
   "source": [
    "sns.barplot(y=\"continente\" , data= df , x= \"life_expectancy\", order= ['Africa', 'Asia', 'North America', 'Europe', 'South America',\n",
    "       'Oceania'] );"
   ]
  },
  {
   "cell_type": "code",
   "execution_count": 50,
   "metadata": {},
   "outputs": [],
   "source": [
    "# establecemos el orden que queremos, de menos importante a más. En este caso lo haremos considerando el coeficiente \n",
    "\n",
    "mapa = { 'North America': 6 , 'Europe': 5 , 'South America' :4, 'Asia':3 , 'Oceania':2 ,  'Africa': 1}"
   ]
  },
  {
   "cell_type": "code",
   "execution_count": 51,
   "metadata": {},
   "outputs": [],
   "source": [
    "df.insert(1, \"continente_map\" , df[\"continente\"].map(mapa) )"
   ]
  },
  {
   "cell_type": "code",
   "execution_count": 52,
   "metadata": {},
   "outputs": [
    {
     "data": {
      "text/html": [
       "<div>\n",
       "<style scoped>\n",
       "    .dataframe tbody tr th:only-of-type {\n",
       "        vertical-align: middle;\n",
       "    }\n",
       "\n",
       "    .dataframe tbody tr th {\n",
       "        vertical-align: top;\n",
       "    }\n",
       "\n",
       "    .dataframe thead th {\n",
       "        text-align: right;\n",
       "    }\n",
       "</style>\n",
       "<table border=\"1\" class=\"dataframe\">\n",
       "  <thead>\n",
       "    <tr style=\"text-align: right;\">\n",
       "      <th></th>\n",
       "      <th>continente</th>\n",
       "      <th>continente_map</th>\n",
       "      <th>life_expectancy</th>\n",
       "      <th>adult_mortality</th>\n",
       "      <th>infant_deaths</th>\n",
       "      <th>alcohol</th>\n",
       "      <th>bmi</th>\n",
       "      <th>diphtheria</th>\n",
       "      <th>hiv_aids</th>\n",
       "      <th>gdp</th>\n",
       "      <th>income_composition_of_resources</th>\n",
       "      <th>schooling</th>\n",
       "    </tr>\n",
       "  </thead>\n",
       "  <tbody>\n",
       "    <tr>\n",
       "      <th>562</th>\n",
       "      <td>North America</td>\n",
       "      <td>6</td>\n",
       "      <td>79.5</td>\n",
       "      <td>-0.41875</td>\n",
       "      <td>-0.148148</td>\n",
       "      <td>0.162457</td>\n",
       "      <td>0.710280</td>\n",
       "      <td>0.045455</td>\n",
       "      <td>0.000000</td>\n",
       "      <td>0.080011</td>\n",
       "      <td>0.538244</td>\n",
       "      <td>0.578947</td>\n",
       "    </tr>\n",
       "    <tr>\n",
       "      <th>250</th>\n",
       "      <td>Asia</td>\n",
       "      <td>3</td>\n",
       "      <td>65.0</td>\n",
       "      <td>0.56875</td>\n",
       "      <td>-0.148148</td>\n",
       "      <td>-0.376424</td>\n",
       "      <td>-0.520489</td>\n",
       "      <td>0.227273</td>\n",
       "      <td>0.142857</td>\n",
       "      <td>-0.032636</td>\n",
       "      <td>-2.362606</td>\n",
       "      <td>-0.657895</td>\n",
       "    </tr>\n",
       "    <tr>\n",
       "      <th>1958</th>\n",
       "      <td>Africa</td>\n",
       "      <td>1</td>\n",
       "      <td>54.9</td>\n",
       "      <td>1.85000</td>\n",
       "      <td>1.814815</td>\n",
       "      <td>0.873700</td>\n",
       "      <td>0.195543</td>\n",
       "      <td>-3.772727</td>\n",
       "      <td>18.928571</td>\n",
       "      <td>0.325394</td>\n",
       "      <td>-0.020774</td>\n",
       "      <td>0.315789</td>\n",
       "    </tr>\n",
       "    <tr>\n",
       "      <th>980</th>\n",
       "      <td>North America</td>\n",
       "      <td>6</td>\n",
       "      <td>62.7</td>\n",
       "      <td>0.56250</td>\n",
       "      <td>0.333333</td>\n",
       "      <td>0.604260</td>\n",
       "      <td>0.370956</td>\n",
       "      <td>-1.000000</td>\n",
       "      <td>0.285714</td>\n",
       "      <td>-0.361242</td>\n",
       "      <td>-0.538244</td>\n",
       "      <td>-0.684211</td>\n",
       "    </tr>\n",
       "    <tr>\n",
       "      <th>1275</th>\n",
       "      <td>Africa</td>\n",
       "      <td>1</td>\n",
       "      <td>61.4</td>\n",
       "      <td>0.62500</td>\n",
       "      <td>1.148148</td>\n",
       "      <td>-0.386330</td>\n",
       "      <td>-0.531991</td>\n",
       "      <td>-0.227273</td>\n",
       "      <td>0.357143</td>\n",
       "      <td>-0.301825</td>\n",
       "      <td>-0.557129</td>\n",
       "      <td>-0.710526</td>\n",
       "    </tr>\n",
       "    <tr>\n",
       "      <th>780</th>\n",
       "      <td>Oceania</td>\n",
       "      <td>2</td>\n",
       "      <td>68.3</td>\n",
       "      <td>0.31875</td>\n",
       "      <td>-0.185185</td>\n",
       "      <td>-0.120852</td>\n",
       "      <td>0.583753</td>\n",
       "      <td>0.272727</td>\n",
       "      <td>0.000000</td>\n",
       "      <td>0.646644</td>\n",
       "      <td>0.277620</td>\n",
       "      <td>0.578947</td>\n",
       "    </tr>\n",
       "    <tr>\n",
       "      <th>1706</th>\n",
       "      <td>Asia</td>\n",
       "      <td>3</td>\n",
       "      <td>81.2</td>\n",
       "      <td>-0.58750</td>\n",
       "      <td>-0.148148</td>\n",
       "      <td>1.372957</td>\n",
       "      <td>-0.902948</td>\n",
       "      <td>0.409091</td>\n",
       "      <td>0.000000</td>\n",
       "      <td>0.658736</td>\n",
       "      <td>0.726867</td>\n",
       "      <td>0.946481</td>\n",
       "    </tr>\n",
       "  </tbody>\n",
       "</table>\n",
       "</div>"
      ],
      "text/plain": [
       "         continente  continente_map  life_expectancy  adult_mortality  \\\n",
       "562   North America               6             79.5         -0.41875   \n",
       "250            Asia               3             65.0          0.56875   \n",
       "1958         Africa               1             54.9          1.85000   \n",
       "980   North America               6             62.7          0.56250   \n",
       "1275         Africa               1             61.4          0.62500   \n",
       "780         Oceania               2             68.3          0.31875   \n",
       "1706           Asia               3             81.2         -0.58750   \n",
       "\n",
       "      infant_deaths   alcohol       bmi  diphtheria   hiv_aids       gdp  \\\n",
       "562       -0.148148  0.162457  0.710280    0.045455   0.000000  0.080011   \n",
       "250       -0.148148 -0.376424 -0.520489    0.227273   0.142857 -0.032636   \n",
       "1958       1.814815  0.873700  0.195543   -3.772727  18.928571  0.325394   \n",
       "980        0.333333  0.604260  0.370956   -1.000000   0.285714 -0.361242   \n",
       "1275       1.148148 -0.386330 -0.531991   -0.227273   0.357143 -0.301825   \n",
       "780       -0.185185 -0.120852  0.583753    0.272727   0.000000  0.646644   \n",
       "1706      -0.148148  1.372957 -0.902948    0.409091   0.000000  0.658736   \n",
       "\n",
       "      income_composition_of_resources  schooling  \n",
       "562                          0.538244   0.578947  \n",
       "250                         -2.362606  -0.657895  \n",
       "1958                        -0.020774   0.315789  \n",
       "980                         -0.538244  -0.684211  \n",
       "1275                        -0.557129  -0.710526  \n",
       "780                          0.277620   0.578947  \n",
       "1706                         0.726867   0.946481  "
      ]
     },
     "execution_count": 52,
     "metadata": {},
     "output_type": "execute_result"
    }
   ],
   "source": [
    "df.sample(7)"
   ]
  },
  {
   "cell_type": "code",
   "execution_count": 53,
   "metadata": {},
   "outputs": [
    {
     "data": {
      "text/plain": [
       "Index(['continente', 'continente_map', 'life_expectancy', 'adult_mortality',\n",
       "       'infant_deaths', 'alcohol', 'bmi', 'diphtheria', 'hiv_aids', 'gdp',\n",
       "       'income_composition_of_resources', 'schooling'],\n",
       "      dtype='object')"
      ]
     },
     "execution_count": 53,
     "metadata": {},
     "output_type": "execute_result"
    }
   ],
   "source": [
    "df.columns"
   ]
  },
  {
   "attachments": {},
   "cell_type": "markdown",
   "metadata": {},
   "source": [
    "## Experimentamos con el método get dummies\n",
    "`En este caso no le asignamos orden a los continentes.`"
   ]
  },
  {
   "cell_type": "code",
   "execution_count": 54,
   "metadata": {},
   "outputs": [
    {
     "data": {
      "text/html": [
       "<div>\n",
       "<style scoped>\n",
       "    .dataframe tbody tr th:only-of-type {\n",
       "        vertical-align: middle;\n",
       "    }\n",
       "\n",
       "    .dataframe tbody tr th {\n",
       "        vertical-align: top;\n",
       "    }\n",
       "\n",
       "    .dataframe thead th {\n",
       "        text-align: right;\n",
       "    }\n",
       "</style>\n",
       "<table border=\"1\" class=\"dataframe\">\n",
       "  <thead>\n",
       "    <tr style=\"text-align: right;\">\n",
       "      <th></th>\n",
       "      <th>continent_Africa</th>\n",
       "      <th>continent_Asia</th>\n",
       "      <th>continent_Europe</th>\n",
       "      <th>continent_North America</th>\n",
       "      <th>continent_Oceania</th>\n",
       "      <th>continent_South America</th>\n",
       "    </tr>\n",
       "  </thead>\n",
       "  <tbody>\n",
       "    <tr>\n",
       "      <th>0</th>\n",
       "      <td>0</td>\n",
       "      <td>1</td>\n",
       "      <td>0</td>\n",
       "      <td>0</td>\n",
       "      <td>0</td>\n",
       "      <td>0</td>\n",
       "    </tr>\n",
       "    <tr>\n",
       "      <th>1</th>\n",
       "      <td>0</td>\n",
       "      <td>1</td>\n",
       "      <td>0</td>\n",
       "      <td>0</td>\n",
       "      <td>0</td>\n",
       "      <td>0</td>\n",
       "    </tr>\n",
       "    <tr>\n",
       "      <th>2</th>\n",
       "      <td>0</td>\n",
       "      <td>1</td>\n",
       "      <td>0</td>\n",
       "      <td>0</td>\n",
       "      <td>0</td>\n",
       "      <td>0</td>\n",
       "    </tr>\n",
       "  </tbody>\n",
       "</table>\n",
       "</div>"
      ],
      "text/plain": [
       "   continent_Africa  continent_Asia  continent_Europe  \\\n",
       "0                 0               1                 0   \n",
       "1                 0               1                 0   \n",
       "2                 0               1                 0   \n",
       "\n",
       "   continent_North America  continent_Oceania  continent_South America  \n",
       "0                        0                  0                        0  \n",
       "1                        0                  0                        0  \n",
       "2                        0                  0                        0  "
      ]
     },
     "execution_count": 54,
     "metadata": {},
     "output_type": "execute_result"
    }
   ],
   "source": [
    "dummies = pd.get_dummies(df[\"continente\"], prefix_sep = \"_\", prefix = \"continent\", dtype = int)\n",
    "dummies.head(3)"
   ]
  },
  {
   "cell_type": "code",
   "execution_count": 55,
   "metadata": {},
   "outputs": [
    {
     "data": {
      "text/html": [
       "<div>\n",
       "<style scoped>\n",
       "    .dataframe tbody tr th:only-of-type {\n",
       "        vertical-align: middle;\n",
       "    }\n",
       "\n",
       "    .dataframe tbody tr th {\n",
       "        vertical-align: top;\n",
       "    }\n",
       "\n",
       "    .dataframe thead th {\n",
       "        text-align: right;\n",
       "    }\n",
       "</style>\n",
       "<table border=\"1\" class=\"dataframe\">\n",
       "  <thead>\n",
       "    <tr style=\"text-align: right;\">\n",
       "      <th></th>\n",
       "      <th>continente</th>\n",
       "      <th>continente_map</th>\n",
       "      <th>life_expectancy</th>\n",
       "      <th>adult_mortality</th>\n",
       "      <th>infant_deaths</th>\n",
       "      <th>alcohol</th>\n",
       "      <th>bmi</th>\n",
       "      <th>diphtheria</th>\n",
       "      <th>hiv_aids</th>\n",
       "      <th>gdp</th>\n",
       "      <th>income_composition_of_resources</th>\n",
       "      <th>schooling</th>\n",
       "      <th>continent_Africa</th>\n",
       "      <th>continent_Asia</th>\n",
       "      <th>continent_Europe</th>\n",
       "      <th>continent_North America</th>\n",
       "      <th>continent_Oceania</th>\n",
       "      <th>continent_South America</th>\n",
       "    </tr>\n",
       "  </thead>\n",
       "  <tbody>\n",
       "    <tr>\n",
       "      <th>0</th>\n",
       "      <td>Asia</td>\n",
       "      <td>3</td>\n",
       "      <td>65.0</td>\n",
       "      <td>0.625</td>\n",
       "      <td>2.111111</td>\n",
       "      <td>-0.519069</td>\n",
       "      <td>-0.451474</td>\n",
       "      <td>-1.136364</td>\n",
       "      <td>0.0</td>\n",
       "      <td>-0.219529</td>\n",
       "      <td>-0.553352</td>\n",
       "      <td>-0.421053</td>\n",
       "      <td>0</td>\n",
       "      <td>1</td>\n",
       "      <td>0</td>\n",
       "      <td>0</td>\n",
       "      <td>0</td>\n",
       "      <td>0</td>\n",
       "    </tr>\n",
       "    <tr>\n",
       "      <th>1</th>\n",
       "      <td>Asia</td>\n",
       "      <td>3</td>\n",
       "      <td>59.9</td>\n",
       "      <td>0.675</td>\n",
       "      <td>2.185185</td>\n",
       "      <td>-0.519069</td>\n",
       "      <td>-0.465852</td>\n",
       "      <td>-1.272727</td>\n",
       "      <td>0.0</td>\n",
       "      <td>-0.211517</td>\n",
       "      <td>-0.564684</td>\n",
       "      <td>-0.447368</td>\n",
       "      <td>0</td>\n",
       "      <td>1</td>\n",
       "      <td>0</td>\n",
       "      <td>0</td>\n",
       "      <td>0</td>\n",
       "      <td>0</td>\n",
       "    </tr>\n",
       "  </tbody>\n",
       "</table>\n",
       "</div>"
      ],
      "text/plain": [
       "  continente  continente_map  life_expectancy  adult_mortality  infant_deaths  \\\n",
       "0       Asia               3             65.0            0.625       2.111111   \n",
       "1       Asia               3             59.9            0.675       2.185185   \n",
       "\n",
       "    alcohol       bmi  diphtheria  hiv_aids       gdp  \\\n",
       "0 -0.519069 -0.451474   -1.136364       0.0 -0.219529   \n",
       "1 -0.519069 -0.465852   -1.272727       0.0 -0.211517   \n",
       "\n",
       "   income_composition_of_resources  schooling  continent_Africa  \\\n",
       "0                        -0.553352  -0.421053                 0   \n",
       "1                        -0.564684  -0.447368                 0   \n",
       "\n",
       "   continent_Asia  continent_Europe  continent_North America  \\\n",
       "0               1                 0                        0   \n",
       "1               1                 0                        0   \n",
       "\n",
       "   continent_Oceania  continent_South America  \n",
       "0                  0                        0  \n",
       "1                  0                        0  "
      ]
     },
     "execution_count": 55,
     "metadata": {},
     "output_type": "execute_result"
    }
   ],
   "source": [
    "df_dummies = pd.concat([df, dummies], axis = 1)\n",
    "df_dummies.head(2)"
   ]
  },
  {
   "cell_type": "code",
   "execution_count": 56,
   "metadata": {},
   "outputs": [],
   "source": [
    "df_dummies.drop(columns=[\"continente\", \"continente_map\"], axis=1 , inplace=True)"
   ]
  },
  {
   "cell_type": "code",
   "execution_count": 57,
   "metadata": {},
   "outputs": [
    {
     "data": {
      "text/plain": [
       "Index(['life_expectancy', 'adult_mortality', 'infant_deaths', 'alcohol', 'bmi',\n",
       "       'diphtheria', 'hiv_aids', 'gdp', 'income_composition_of_resources',\n",
       "       'schooling', 'continent_Africa', 'continent_Asia', 'continent_Europe',\n",
       "       'continent_North America', 'continent_Oceania',\n",
       "       'continent_South America'],\n",
       "      dtype='object')"
      ]
     },
     "execution_count": 57,
     "metadata": {},
     "output_type": "execute_result"
    }
   ],
   "source": [
    "df_dummies.columns"
   ]
  },
  {
   "cell_type": "code",
   "execution_count": 58,
   "metadata": {},
   "outputs": [],
   "source": [
    "df_dummies.to_csv('../files/endesarrollo_dummies.csv')"
   ]
  },
  {
   "attachments": {},
   "cell_type": "markdown",
   "metadata": {},
   "source": [
    "1.2 Guardad el dataframe, donde deberíais tener las variables estadandarizas, normalizadas y codificadas en un csv para usarlo en el próximo pairprogramming"
   ]
  },
  {
   "cell_type": "code",
   "execution_count": 59,
   "metadata": {},
   "outputs": [
    {
     "data": {
      "text/html": [
       "<div>\n",
       "<style scoped>\n",
       "    .dataframe tbody tr th:only-of-type {\n",
       "        vertical-align: middle;\n",
       "    }\n",
       "\n",
       "    .dataframe tbody tr th {\n",
       "        vertical-align: top;\n",
       "    }\n",
       "\n",
       "    .dataframe thead th {\n",
       "        text-align: right;\n",
       "    }\n",
       "</style>\n",
       "<table border=\"1\" class=\"dataframe\">\n",
       "  <thead>\n",
       "    <tr style=\"text-align: right;\">\n",
       "      <th></th>\n",
       "      <th>continente</th>\n",
       "      <th>continente_map</th>\n",
       "      <th>life_expectancy</th>\n",
       "      <th>adult_mortality</th>\n",
       "      <th>infant_deaths</th>\n",
       "      <th>alcohol</th>\n",
       "      <th>bmi</th>\n",
       "      <th>diphtheria</th>\n",
       "      <th>hiv_aids</th>\n",
       "      <th>gdp</th>\n",
       "      <th>income_composition_of_resources</th>\n",
       "      <th>schooling</th>\n",
       "    </tr>\n",
       "  </thead>\n",
       "  <tbody>\n",
       "    <tr>\n",
       "      <th>0</th>\n",
       "      <td>Asia</td>\n",
       "      <td>3</td>\n",
       "      <td>65.0</td>\n",
       "      <td>0.625</td>\n",
       "      <td>2.111111</td>\n",
       "      <td>-0.519069</td>\n",
       "      <td>-0.451474</td>\n",
       "      <td>-1.136364</td>\n",
       "      <td>0.0</td>\n",
       "      <td>-0.219529</td>\n",
       "      <td>-0.553352</td>\n",
       "      <td>-0.421053</td>\n",
       "    </tr>\n",
       "    <tr>\n",
       "      <th>1</th>\n",
       "      <td>Asia</td>\n",
       "      <td>3</td>\n",
       "      <td>59.9</td>\n",
       "      <td>0.675</td>\n",
       "      <td>2.185185</td>\n",
       "      <td>-0.519069</td>\n",
       "      <td>-0.465852</td>\n",
       "      <td>-1.272727</td>\n",
       "      <td>0.0</td>\n",
       "      <td>-0.211517</td>\n",
       "      <td>-0.564684</td>\n",
       "      <td>-0.447368</td>\n",
       "    </tr>\n",
       "  </tbody>\n",
       "</table>\n",
       "</div>"
      ],
      "text/plain": [
       "  continente  continente_map  life_expectancy  adult_mortality  infant_deaths  \\\n",
       "0       Asia               3             65.0            0.625       2.111111   \n",
       "1       Asia               3             59.9            0.675       2.185185   \n",
       "\n",
       "    alcohol       bmi  diphtheria  hiv_aids       gdp  \\\n",
       "0 -0.519069 -0.451474   -1.136364       0.0 -0.219529   \n",
       "1 -0.519069 -0.465852   -1.272727       0.0 -0.211517   \n",
       "\n",
       "   income_composition_of_resources  schooling  \n",
       "0                        -0.553352  -0.421053  \n",
       "1                        -0.564684  -0.447368  "
      ]
     },
     "execution_count": 59,
     "metadata": {},
     "output_type": "execute_result"
    }
   ],
   "source": [
    "df.head(2)"
   ]
  },
  {
   "cell_type": "code",
   "execution_count": 60,
   "metadata": {},
   "outputs": [],
   "source": [
    "df.drop(columns=[\"continente\"], axis=1 , inplace=True)"
   ]
  },
  {
   "cell_type": "code",
   "execution_count": 61,
   "metadata": {},
   "outputs": [],
   "source": [
    "df.to_csv('../files/endesarrollo_map.csv')"
   ]
  }
 ],
 "metadata": {
  "kernelspec": {
   "display_name": "base",
   "language": "python",
   "name": "python3"
  },
  "language_info": {
   "codemirror_mode": {
    "name": "ipython",
    "version": 3
   },
   "file_extension": ".py",
   "mimetype": "text/x-python",
   "name": "python",
   "nbconvert_exporter": "python",
   "pygments_lexer": "ipython3",
   "version": "3.9.13"
  },
  "orig_nbformat": 4,
  "vscode": {
   "interpreter": {
    "hash": "a52af493819045717511545598ab2b73dabca4ca61b402315e0ef2b43666342d"
   }
  }
 },
 "nbformat": 4,
 "nbformat_minor": 2
}
