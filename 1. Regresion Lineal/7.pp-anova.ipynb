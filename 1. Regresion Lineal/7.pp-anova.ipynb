{
 "cells": [
  {
   "attachments": {},
   "cell_type": "markdown",
   "metadata": {},
   "source": [
    "# Pair Programming ANOVA"
   ]
  },
  {
   "attachments": {},
   "cell_type": "markdown",
   "metadata": {},
   "source": [
    "En el pair programming de hoy usaremos el set de datos que guardastéis en el pair programming de normalización y estandarización.\n",
    "\n",
    "Hasta ahora habéis estado evaluando las características de vuestro set de datos y habéis hecho una gran exploración, es el momento de hacer vuestro primer ANOVA! En el ejercicio de hoy tendréis que hacer un ANOVA con vuestro datos y hacer una interpretación de los resultados.\n",
    "\n",
    "📌 NOTA Puede que vuestros datos no se ajusten o no cumplan todas las asunciones, no pasa nada, haced el ANOVA e interpretad los resultados. En próximas lecciones aprenderemos que podemos hacer cuando nos encontramos en esta situación."
   ]
  },
  {
   "cell_type": "code",
   "execution_count": 90,
   "metadata": {},
   "outputs": [],
   "source": [
    "# Tratamiento de datos\n",
    "import numpy as np\n",
    "import pandas as pd\n",
    "import random \n",
    "\n",
    "# Gráficos\n",
    "import matplotlib.pyplot as plt\n",
    "import seaborn as sns\n",
    "\n",
    "# Estadísticos\n",
    "import statsmodels.api as sm\n",
    "from statsmodels.formula.api import ols\n",
    "\n",
    "from statsmodels.multivariate.manova import MANOVA\n",
    "from sklearn.preprocessing import StandardScaler\n",
    "\n",
    "plt.rcParams[\"figure.figsize\"] = (10,8) "
   ]
  },
  {
   "cell_type": "code",
   "execution_count": 91,
   "metadata": {},
   "outputs": [
    {
     "data": {
      "text/html": [
       "<div>\n",
       "<style scoped>\n",
       "    .dataframe tbody tr th:only-of-type {\n",
       "        vertical-align: middle;\n",
       "    }\n",
       "\n",
       "    .dataframe tbody tr th {\n",
       "        vertical-align: top;\n",
       "    }\n",
       "\n",
       "    .dataframe thead th {\n",
       "        text-align: right;\n",
       "    }\n",
       "</style>\n",
       "<table border=\"1\" class=\"dataframe\">\n",
       "  <thead>\n",
       "    <tr style=\"text-align: right;\">\n",
       "      <th></th>\n",
       "      <th>index</th>\n",
       "      <th>country</th>\n",
       "      <th>status</th>\n",
       "      <th>continente</th>\n",
       "      <th>year</th>\n",
       "      <th>life_expectancy</th>\n",
       "      <th>life_box</th>\n",
       "      <th>adult_mortality</th>\n",
       "      <th>infant_deaths</th>\n",
       "      <th>alcohol</th>\n",
       "      <th>measles</th>\n",
       "      <th>bmi</th>\n",
       "      <th>total_expenditure</th>\n",
       "      <th>diphtheria</th>\n",
       "      <th>hiv/aids</th>\n",
       "      <th>gdp</th>\n",
       "      <th>thinness__1-19_years</th>\n",
       "      <th>income_composition_of_resources</th>\n",
       "      <th>schooling</th>\n",
       "    </tr>\n",
       "  </thead>\n",
       "  <tbody>\n",
       "    <tr>\n",
       "      <th>2338</th>\n",
       "      <td>2866</td>\n",
       "      <td>Venezuela</td>\n",
       "      <td>Developing</td>\n",
       "      <td>South America</td>\n",
       "      <td>2007.0</td>\n",
       "      <td>73.4</td>\n",
       "      <td>121261.015214</td>\n",
       "      <td>0.01250</td>\n",
       "      <td>0.148148</td>\n",
       "      <td>1.202576</td>\n",
       "      <td>0.031696</td>\n",
       "      <td>0.655643</td>\n",
       "      <td>-0.089463</td>\n",
       "      <td>-1.272727</td>\n",
       "      <td>0.000000</td>\n",
       "      <td>0.455733</td>\n",
       "      <td>-0.553571</td>\n",
       "      <td>0.387158</td>\n",
       "      <td>0.315789</td>\n",
       "    </tr>\n",
       "    <tr>\n",
       "      <th>2284</th>\n",
       "      <td>2812</td>\n",
       "      <td>Uruguay</td>\n",
       "      <td>Developing</td>\n",
       "      <td>South America</td>\n",
       "      <td>2013.0</td>\n",
       "      <td>76.8</td>\n",
       "      <td>138772.221672</td>\n",
       "      <td>-0.28750</td>\n",
       "      <td>-0.185185</td>\n",
       "      <td>0.631996</td>\n",
       "      <td>-0.035922</td>\n",
       "      <td>0.808052</td>\n",
       "      <td>1.274354</td>\n",
       "      <td>0.181818</td>\n",
       "      <td>0.000000</td>\n",
       "      <td>4.371975</td>\n",
       "      <td>-0.571429</td>\n",
       "      <td>0.613787</td>\n",
       "      <td>1.000000</td>\n",
       "    </tr>\n",
       "    <tr>\n",
       "      <th>421</th>\n",
       "      <td>485</td>\n",
       "      <td>Cameroon</td>\n",
       "      <td>Developing</td>\n",
       "      <td>Africa</td>\n",
       "      <td>2010.0</td>\n",
       "      <td>55.3</td>\n",
       "      <td>52167.194389</td>\n",
       "      <td>-0.78750</td>\n",
       "      <td>1.777778</td>\n",
       "      <td>0.697375</td>\n",
       "      <td>0.471210</td>\n",
       "      <td>-0.253055</td>\n",
       "      <td>-0.077535</td>\n",
       "      <td>-0.272727</td>\n",
       "      <td>3.857143</td>\n",
       "      <td>-0.050877</td>\n",
       "      <td>0.250000</td>\n",
       "      <td>-0.549575</td>\n",
       "      <td>-0.526316</td>\n",
       "    </tr>\n",
       "    <tr>\n",
       "      <th>129</th>\n",
       "      <td>161</td>\n",
       "      <td>Bahamas</td>\n",
       "      <td>Developing</td>\n",
       "      <td>North America</td>\n",
       "      <td>2014.0</td>\n",
       "      <td>75.4</td>\n",
       "      <td>131371.507695</td>\n",
       "      <td>-0.91875</td>\n",
       "      <td>-0.185185</td>\n",
       "      <td>1.351164</td>\n",
       "      <td>-0.035922</td>\n",
       "      <td>0.833932</td>\n",
       "      <td>0.900596</td>\n",
       "      <td>0.272727</td>\n",
       "      <td>0.000000</td>\n",
       "      <td>0.758513</td>\n",
       "      <td>-0.392857</td>\n",
       "      <td>0.617564</td>\n",
       "      <td>0.236842</td>\n",
       "    </tr>\n",
       "    <tr>\n",
       "      <th>502</th>\n",
       "      <td>566</td>\n",
       "      <td>China</td>\n",
       "      <td>Developing</td>\n",
       "      <td>Asia</td>\n",
       "      <td>2009.0</td>\n",
       "      <td>74.9</td>\n",
       "      <td>128793.353618</td>\n",
       "      <td>-0.43750</td>\n",
       "      <td>9.000000</td>\n",
       "      <td>0.445765</td>\n",
       "      <td>110.816693</td>\n",
       "      <td>-0.215672</td>\n",
       "      <td>0.129225</td>\n",
       "      <td>0.409091</td>\n",
       "      <td>0.000000</td>\n",
       "      <td>0.697300</td>\n",
       "      <td>-0.053571</td>\n",
       "      <td>0.213409</td>\n",
       "      <td>0.131579</td>\n",
       "    </tr>\n",
       "  </tbody>\n",
       "</table>\n",
       "</div>"
      ],
      "text/plain": [
       "      index    country      status     continente    year  life_expectancy  \\\n",
       "2338   2866  Venezuela  Developing  South America  2007.0             73.4   \n",
       "2284   2812    Uruguay  Developing  South America  2013.0             76.8   \n",
       "421     485   Cameroon  Developing         Africa  2010.0             55.3   \n",
       "129     161    Bahamas  Developing  North America  2014.0             75.4   \n",
       "502     566      China  Developing           Asia  2009.0             74.9   \n",
       "\n",
       "           life_box  adult_mortality  infant_deaths   alcohol     measles  \\\n",
       "2338  121261.015214          0.01250       0.148148  1.202576    0.031696   \n",
       "2284  138772.221672         -0.28750      -0.185185  0.631996   -0.035922   \n",
       "421    52167.194389         -0.78750       1.777778  0.697375    0.471210   \n",
       "129   131371.507695         -0.91875      -0.185185  1.351164   -0.035922   \n",
       "502   128793.353618         -0.43750       9.000000  0.445765  110.816693   \n",
       "\n",
       "           bmi  total_expenditure  diphtheria  hiv/aids       gdp  \\\n",
       "2338  0.655643          -0.089463   -1.272727  0.000000  0.455733   \n",
       "2284  0.808052           1.274354    0.181818  0.000000  4.371975   \n",
       "421  -0.253055          -0.077535   -0.272727  3.857143 -0.050877   \n",
       "129   0.833932           0.900596    0.272727  0.000000  0.758513   \n",
       "502  -0.215672           0.129225    0.409091  0.000000  0.697300   \n",
       "\n",
       "      thinness__1-19_years  income_composition_of_resources  schooling  \n",
       "2338             -0.553571                         0.387158   0.315789  \n",
       "2284             -0.571429                         0.613787   1.000000  \n",
       "421               0.250000                        -0.549575  -0.526316  \n",
       "129              -0.392857                         0.617564   0.236842  \n",
       "502              -0.053571                         0.213409   0.131579  "
      ]
     },
     "execution_count": 91,
     "metadata": {},
     "output_type": "execute_result"
    }
   ],
   "source": [
    "df = pd.read_csv(\"../files/endesarrollo_estandarizado.csv\", index_col = 0)\n",
    "df.sample(5)"
   ]
  },
  {
   "cell_type": "code",
   "execution_count": 92,
   "metadata": {},
   "outputs": [],
   "source": [
    "df.drop(columns=[\"index\",\"life_box\"], axis=1, inplace=True)"
   ]
  },
  {
   "cell_type": "code",
   "execution_count": 93,
   "metadata": {},
   "outputs": [
    {
     "data": {
      "text/plain": [
       "country                            0\n",
       "status                             0\n",
       "continente                         0\n",
       "year                               0\n",
       "life_expectancy                    0\n",
       "adult_mortality                    0\n",
       "infant_deaths                      0\n",
       "alcohol                            0\n",
       "measles                            0\n",
       "bmi                                0\n",
       "total_expenditure                  0\n",
       "diphtheria                         0\n",
       "hiv/aids                           0\n",
       "gdp                                0\n",
       "thinness__1-19_years               0\n",
       "income_composition_of_resources    0\n",
       "schooling                          0\n",
       "dtype: int64"
      ]
     },
     "execution_count": 93,
     "metadata": {},
     "output_type": "execute_result"
    }
   ],
   "source": [
    "df.isnull().sum()"
   ]
  },
  {
   "cell_type": "code",
   "execution_count": 94,
   "metadata": {},
   "outputs": [
    {
     "data": {
      "text/plain": [
       "Index(['country', 'status', 'continente', 'year', 'life_expectancy',\n",
       "       'adult_mortality', 'infant_deaths', 'alcohol', 'measles', 'bmi',\n",
       "       'total_expenditure', 'diphtheria', 'hiv/aids', 'gdp',\n",
       "       'thinness__1-19_years', 'income_composition_of_resources', 'schooling'],\n",
       "      dtype='object')"
      ]
     },
     "execution_count": 94,
     "metadata": {},
     "output_type": "execute_result"
    }
   ],
   "source": [
    "df.columns"
   ]
  },
  {
   "attachments": {},
   "cell_type": "markdown",
   "metadata": {},
   "source": [
    "Renombramos las columnas porque el método no nos toma si estas tienen / o -"
   ]
  },
  {
   "cell_type": "code",
   "execution_count": 95,
   "metadata": {},
   "outputs": [],
   "source": [
    "df.rename(columns={'hiv/aids':\"hiv_aids\", \"thinness__1-19_years\": \"thinness_1_19_years\"}, inplace=True)"
   ]
  },
  {
   "cell_type": "code",
   "execution_count": 96,
   "metadata": {},
   "outputs": [
    {
     "data": {
      "text/plain": [
       "Index(['country', 'status', 'continente', 'year', 'life_expectancy',\n",
       "       'adult_mortality', 'infant_deaths', 'alcohol', 'measles', 'bmi',\n",
       "       'total_expenditure', 'diphtheria', 'hiv_aids', 'gdp',\n",
       "       'thinness_1_19_years', 'income_composition_of_resources', 'schooling'],\n",
       "      dtype='object')"
      ]
     },
     "execution_count": 96,
     "metadata": {},
     "output_type": "execute_result"
    }
   ],
   "source": [
    "df.columns"
   ]
  },
  {
   "attachments": {},
   "cell_type": "markdown",
   "metadata": {},
   "source": [
    "### Método ols"
   ]
  },
  {
   "cell_type": "code",
   "execution_count": 101,
   "metadata": {},
   "outputs": [
    {
     "data": {
      "text/html": [
       "<div>\n",
       "<style scoped>\n",
       "    .dataframe tbody tr th:only-of-type {\n",
       "        vertical-align: middle;\n",
       "    }\n",
       "\n",
       "    .dataframe tbody tr th {\n",
       "        vertical-align: top;\n",
       "    }\n",
       "\n",
       "    .dataframe thead th {\n",
       "        text-align: right;\n",
       "    }\n",
       "</style>\n",
       "<table border=\"1\" class=\"dataframe\">\n",
       "  <thead>\n",
       "    <tr style=\"text-align: right;\">\n",
       "      <th></th>\n",
       "      <th>df</th>\n",
       "      <th>sum_sq</th>\n",
       "      <th>mean_sq</th>\n",
       "      <th>F</th>\n",
       "      <th>PR(&gt;F)</th>\n",
       "    </tr>\n",
       "  </thead>\n",
       "  <tbody>\n",
       "    <tr>\n",
       "      <th>continente</th>\n",
       "      <td>5.0</td>\n",
       "      <td>103013.354184</td>\n",
       "      <td>20602.670837</td>\n",
       "      <td>1471.626704</td>\n",
       "      <td>0.000000e+00</td>\n",
       "    </tr>\n",
       "    <tr>\n",
       "      <th>adult_mortality</th>\n",
       "      <td>1.0</td>\n",
       "      <td>25051.065369</td>\n",
       "      <td>25051.065369</td>\n",
       "      <td>1789.370760</td>\n",
       "      <td>1.985217e-292</td>\n",
       "    </tr>\n",
       "    <tr>\n",
       "      <th>infant_deaths</th>\n",
       "      <td>1.0</td>\n",
       "      <td>3704.487132</td>\n",
       "      <td>3704.487132</td>\n",
       "      <td>264.607547</td>\n",
       "      <td>1.638871e-56</td>\n",
       "    </tr>\n",
       "    <tr>\n",
       "      <th>alcohol</th>\n",
       "      <td>1.0</td>\n",
       "      <td>264.072781</td>\n",
       "      <td>264.072781</td>\n",
       "      <td>18.862436</td>\n",
       "      <td>1.463495e-05</td>\n",
       "    </tr>\n",
       "    <tr>\n",
       "      <th>measles</th>\n",
       "      <td>1.0</td>\n",
       "      <td>24.495639</td>\n",
       "      <td>24.495639</td>\n",
       "      <td>1.749697</td>\n",
       "      <td>1.860412e-01</td>\n",
       "    </tr>\n",
       "    <tr>\n",
       "      <th>bmi</th>\n",
       "      <td>1.0</td>\n",
       "      <td>5192.324333</td>\n",
       "      <td>5192.324333</td>\n",
       "      <td>370.882164</td>\n",
       "      <td>5.975783e-77</td>\n",
       "    </tr>\n",
       "    <tr>\n",
       "      <th>total_expenditure</th>\n",
       "      <td>1.0</td>\n",
       "      <td>12.488168</td>\n",
       "      <td>12.488168</td>\n",
       "      <td>0.892016</td>\n",
       "      <td>3.450268e-01</td>\n",
       "    </tr>\n",
       "    <tr>\n",
       "      <th>diphtheria</th>\n",
       "      <td>1.0</td>\n",
       "      <td>5702.822089</td>\n",
       "      <td>5702.822089</td>\n",
       "      <td>407.346472</td>\n",
       "      <td>8.884014e-84</td>\n",
       "    </tr>\n",
       "    <tr>\n",
       "      <th>hiv_aids</th>\n",
       "      <td>1.0</td>\n",
       "      <td>6554.012119</td>\n",
       "      <td>6554.012119</td>\n",
       "      <td>468.146064</td>\n",
       "      <td>5.789739e-95</td>\n",
       "    </tr>\n",
       "    <tr>\n",
       "      <th>gdp</th>\n",
       "      <td>1.0</td>\n",
       "      <td>2191.329212</td>\n",
       "      <td>2191.329212</td>\n",
       "      <td>156.524298</td>\n",
       "      <td>7.809527e-35</td>\n",
       "    </tr>\n",
       "    <tr>\n",
       "      <th>thinness_1_19_years</th>\n",
       "      <td>1.0</td>\n",
       "      <td>94.802481</td>\n",
       "      <td>94.802481</td>\n",
       "      <td>6.771640</td>\n",
       "      <td>9.318931e-03</td>\n",
       "    </tr>\n",
       "    <tr>\n",
       "      <th>income_composition_of_resources</th>\n",
       "      <td>1.0</td>\n",
       "      <td>7036.231005</td>\n",
       "      <td>7036.231005</td>\n",
       "      <td>502.590442</td>\n",
       "      <td>3.404137e-101</td>\n",
       "    </tr>\n",
       "    <tr>\n",
       "      <th>schooling</th>\n",
       "      <td>1.0</td>\n",
       "      <td>3965.717678</td>\n",
       "      <td>3965.717678</td>\n",
       "      <td>283.266965</td>\n",
       "      <td>3.680130e-60</td>\n",
       "    </tr>\n",
       "    <tr>\n",
       "      <th>Residual</th>\n",
       "      <td>2392.0</td>\n",
       "      <td>33487.832550</td>\n",
       "      <td>13.999930</td>\n",
       "      <td>NaN</td>\n",
       "      <td>NaN</td>\n",
       "    </tr>\n",
       "  </tbody>\n",
       "</table>\n",
       "</div>"
      ],
      "text/plain": [
       "                                     df         sum_sq       mean_sq  \\\n",
       "continente                          5.0  103013.354184  20602.670837   \n",
       "adult_mortality                     1.0   25051.065369  25051.065369   \n",
       "infant_deaths                       1.0    3704.487132   3704.487132   \n",
       "alcohol                             1.0     264.072781    264.072781   \n",
       "measles                             1.0      24.495639     24.495639   \n",
       "bmi                                 1.0    5192.324333   5192.324333   \n",
       "total_expenditure                   1.0      12.488168     12.488168   \n",
       "diphtheria                          1.0    5702.822089   5702.822089   \n",
       "hiv_aids                            1.0    6554.012119   6554.012119   \n",
       "gdp                                 1.0    2191.329212   2191.329212   \n",
       "thinness_1_19_years                 1.0      94.802481     94.802481   \n",
       "income_composition_of_resources     1.0    7036.231005   7036.231005   \n",
       "schooling                           1.0    3965.717678   3965.717678   \n",
       "Residual                         2392.0   33487.832550     13.999930   \n",
       "\n",
       "                                           F         PR(>F)  \n",
       "continente                       1471.626704   0.000000e+00  \n",
       "adult_mortality                  1789.370760  1.985217e-292  \n",
       "infant_deaths                     264.607547   1.638871e-56  \n",
       "alcohol                            18.862436   1.463495e-05  \n",
       "measles                             1.749697   1.860412e-01  \n",
       "bmi                               370.882164   5.975783e-77  \n",
       "total_expenditure                   0.892016   3.450268e-01  \n",
       "diphtheria                        407.346472   8.884014e-84  \n",
       "hiv_aids                          468.146064   5.789739e-95  \n",
       "gdp                               156.524298   7.809527e-35  \n",
       "thinness_1_19_years                 6.771640   9.318931e-03  \n",
       "income_composition_of_resources   502.590442  3.404137e-101  \n",
       "schooling                         283.266965   3.680130e-60  \n",
       "Residual                                 NaN            NaN  "
      ]
     },
     "execution_count": 101,
     "metadata": {},
     "output_type": "execute_result"
    }
   ],
   "source": [
    "lm = ols('life_expectancy ~  continente + adult_mortality + infant_deaths +alcohol + measles + bmi + total_expenditure + diphtheria + hiv_aids + gdp + thinness_1_19_years + income_composition_of_resources + schooling' , data= df).fit ()\n",
    "sm.stats.anova_lm(lm)"
   ]
  },
  {
   "attachments": {},
   "cell_type": "markdown",
   "metadata": {},
   "source": [
    "### Método summary"
   ]
  },
  {
   "cell_type": "code",
   "execution_count": 102,
   "metadata": {},
   "outputs": [
    {
     "data": {
      "text/plain": [
       "array(['Asia', 'Europe', 'Africa', 'North America', 'South America',\n",
       "       'Oceania'], dtype=object)"
      ]
     },
     "execution_count": 102,
     "metadata": {},
     "output_type": "execute_result"
    }
   ],
   "source": [
    "df[\"continente\"].unique()"
   ]
  },
  {
   "cell_type": "code",
   "execution_count": 80,
   "metadata": {},
   "outputs": [],
   "source": [
    "# df[df[\"continente\"] == \"Oceania\"]"
   ]
  },
  {
   "cell_type": "code",
   "execution_count": 103,
   "metadata": {},
   "outputs": [
    {
     "data": {
      "text/html": [
       "<table class=\"simpletable\">\n",
       "<caption>OLS Regression Results</caption>\n",
       "<tr>\n",
       "  <th>Dep. Variable:</th>     <td>life_expectancy</td> <th>  R-squared:         </th> <td>   0.829</td> \n",
       "</tr>\n",
       "<tr>\n",
       "  <th>Model:</th>                   <td>OLS</td>       <th>  Adj. R-squared:    </th> <td>   0.828</td> \n",
       "</tr>\n",
       "<tr>\n",
       "  <th>Method:</th>             <td>Least Squares</td>  <th>  F-statistic:       </th> <td>   684.1</td> \n",
       "</tr>\n",
       "<tr>\n",
       "  <th>Date:</th>             <td>Mon, 23 Jan 2023</td> <th>  Prob (F-statistic):</th>  <td>  0.00</td>  \n",
       "</tr>\n",
       "<tr>\n",
       "  <th>Time:</th>                 <td>12:27:05</td>     <th>  Log-Likelihood:    </th> <td> -6590.7</td> \n",
       "</tr>\n",
       "<tr>\n",
       "  <th>No. Observations:</th>      <td>  2410</td>      <th>  AIC:               </th> <td>1.322e+04</td>\n",
       "</tr>\n",
       "<tr>\n",
       "  <th>Df Residuals:</th>          <td>  2392</td>      <th>  BIC:               </th> <td>1.332e+04</td>\n",
       "</tr>\n",
       "<tr>\n",
       "  <th>Df Model:</th>              <td>    17</td>      <th>                     </th>     <td> </td>    \n",
       "</tr>\n",
       "<tr>\n",
       "  <th>Covariance Type:</th>      <td>nonrobust</td>    <th>                     </th>     <td> </td>    \n",
       "</tr>\n",
       "</table>\n",
       "<table class=\"simpletable\">\n",
       "<tr>\n",
       "                 <td></td>                    <th>coef</th>     <th>std err</th>      <th>t</th>      <th>P>|t|</th>  <th>[0.025</th>    <th>0.975]</th>  \n",
       "</tr>\n",
       "<tr>\n",
       "  <th>Intercept</th>                       <td>   66.5190</td> <td>    0.188</td> <td>  354.522</td> <td> 0.000</td> <td>   66.151</td> <td>   66.887</td>\n",
       "</tr>\n",
       "<tr>\n",
       "  <th>continente[T.Asia]</th>              <td>    3.8071</td> <td>    0.234</td> <td>   16.256</td> <td> 0.000</td> <td>    3.348</td> <td>    4.266</td>\n",
       "</tr>\n",
       "<tr>\n",
       "  <th>continente[T.Europe]</th>            <td>    5.1188</td> <td>    0.386</td> <td>   13.273</td> <td> 0.000</td> <td>    4.363</td> <td>    5.875</td>\n",
       "</tr>\n",
       "<tr>\n",
       "  <th>continente[T.North America]</th>     <td>    5.9957</td> <td>    0.311</td> <td>   19.252</td> <td> 0.000</td> <td>    5.385</td> <td>    6.606</td>\n",
       "</tr>\n",
       "<tr>\n",
       "  <th>continente[T.Oceania]</th>           <td>    2.6140</td> <td>    0.407</td> <td>    6.425</td> <td> 0.000</td> <td>    1.816</td> <td>    3.412</td>\n",
       "</tr>\n",
       "<tr>\n",
       "  <th>continente[T.South America]</th>     <td>    4.5921</td> <td>    0.365</td> <td>   12.586</td> <td> 0.000</td> <td>    3.877</td> <td>    5.308</td>\n",
       "</tr>\n",
       "<tr>\n",
       "  <th>adult_mortality</th>                 <td>   -2.2199</td> <td>    0.124</td> <td>  -17.839</td> <td> 0.000</td> <td>   -2.464</td> <td>   -1.976</td>\n",
       "</tr>\n",
       "<tr>\n",
       "  <th>infant_deaths</th>                   <td>   -0.1819</td> <td>    0.040</td> <td>   -4.540</td> <td> 0.000</td> <td>   -0.260</td> <td>   -0.103</td>\n",
       "</tr>\n",
       "<tr>\n",
       "  <th>alcohol</th>                         <td>   -0.7856</td> <td>    0.162</td> <td>   -4.862</td> <td> 0.000</td> <td>   -1.102</td> <td>   -0.469</td>\n",
       "</tr>\n",
       "<tr>\n",
       "  <th>measles</th>                         <td>    0.0002</td> <td>    0.004</td> <td>    0.042</td> <td> 0.966</td> <td>   -0.007</td> <td>    0.007</td>\n",
       "</tr>\n",
       "<tr>\n",
       "  <th>bmi</th>                             <td>    0.9289</td> <td>    0.194</td> <td>    4.800</td> <td> 0.000</td> <td>    0.549</td> <td>    1.308</td>\n",
       "</tr>\n",
       "<tr>\n",
       "  <th>total_expenditure</th>               <td>    0.1149</td> <td>    0.096</td> <td>    1.193</td> <td> 0.233</td> <td>   -0.074</td> <td>    0.304</td>\n",
       "</tr>\n",
       "<tr>\n",
       "  <th>diphtheria</th>                      <td>    0.8790</td> <td>    0.077</td> <td>   11.391</td> <td> 0.000</td> <td>    0.728</td> <td>    1.030</td>\n",
       "</tr>\n",
       "<tr>\n",
       "  <th>hiv_aids</th>                        <td>   -0.5641</td> <td>    0.024</td> <td>  -23.589</td> <td> 0.000</td> <td>   -0.611</td> <td>   -0.517</td>\n",
       "</tr>\n",
       "<tr>\n",
       "  <th>gdp</th>                             <td>    0.2535</td> <td>    0.038</td> <td>    6.718</td> <td> 0.000</td> <td>    0.179</td> <td>    0.327</td>\n",
       "</tr>\n",
       "<tr>\n",
       "  <th>thinness_1_19_years</th>             <td>   -0.0807</td> <td>    0.137</td> <td>   -0.587</td> <td> 0.557</td> <td>   -0.350</td> <td>    0.189</td>\n",
       "</tr>\n",
       "<tr>\n",
       "  <th>income_composition_of_resources</th> <td>    1.5343</td> <td>    0.161</td> <td>    9.514</td> <td> 0.000</td> <td>    1.218</td> <td>    1.851</td>\n",
       "</tr>\n",
       "<tr>\n",
       "  <th>schooling</th>                       <td>    2.8481</td> <td>    0.169</td> <td>   16.831</td> <td> 0.000</td> <td>    2.516</td> <td>    3.180</td>\n",
       "</tr>\n",
       "</table>\n",
       "<table class=\"simpletable\">\n",
       "<tr>\n",
       "  <th>Omnibus:</th>       <td>121.890</td> <th>  Durbin-Watson:     </th> <td>   0.617</td>\n",
       "</tr>\n",
       "<tr>\n",
       "  <th>Prob(Omnibus):</th> <td> 0.000</td>  <th>  Jarque-Bera (JB):  </th> <td> 433.432</td>\n",
       "</tr>\n",
       "<tr>\n",
       "  <th>Skew:</th>          <td>-0.078</td>  <th>  Prob(JB):          </th> <td>7.61e-95</td>\n",
       "</tr>\n",
       "<tr>\n",
       "  <th>Kurtosis:</th>      <td> 5.072</td>  <th>  Cond. No.          </th> <td>    199.</td>\n",
       "</tr>\n",
       "</table><br/><br/>Notes:<br/>[1] Standard Errors assume that the covariance matrix of the errors is correctly specified."
      ],
      "text/plain": [
       "<class 'statsmodels.iolib.summary.Summary'>\n",
       "\"\"\"\n",
       "                            OLS Regression Results                            \n",
       "==============================================================================\n",
       "Dep. Variable:        life_expectancy   R-squared:                       0.829\n",
       "Model:                            OLS   Adj. R-squared:                  0.828\n",
       "Method:                 Least Squares   F-statistic:                     684.1\n",
       "Date:                Mon, 23 Jan 2023   Prob (F-statistic):               0.00\n",
       "Time:                        12:27:05   Log-Likelihood:                -6590.7\n",
       "No. Observations:                2410   AIC:                         1.322e+04\n",
       "Df Residuals:                    2392   BIC:                         1.332e+04\n",
       "Df Model:                          17                                         \n",
       "Covariance Type:            nonrobust                                         \n",
       "===================================================================================================\n",
       "                                      coef    std err          t      P>|t|      [0.025      0.975]\n",
       "---------------------------------------------------------------------------------------------------\n",
       "Intercept                          66.5190      0.188    354.522      0.000      66.151      66.887\n",
       "continente[T.Asia]                  3.8071      0.234     16.256      0.000       3.348       4.266\n",
       "continente[T.Europe]                5.1188      0.386     13.273      0.000       4.363       5.875\n",
       "continente[T.North America]         5.9957      0.311     19.252      0.000       5.385       6.606\n",
       "continente[T.Oceania]               2.6140      0.407      6.425      0.000       1.816       3.412\n",
       "continente[T.South America]         4.5921      0.365     12.586      0.000       3.877       5.308\n",
       "adult_mortality                    -2.2199      0.124    -17.839      0.000      -2.464      -1.976\n",
       "infant_deaths                      -0.1819      0.040     -4.540      0.000      -0.260      -0.103\n",
       "alcohol                            -0.7856      0.162     -4.862      0.000      -1.102      -0.469\n",
       "measles                             0.0002      0.004      0.042      0.966      -0.007       0.007\n",
       "bmi                                 0.9289      0.194      4.800      0.000       0.549       1.308\n",
       "total_expenditure                   0.1149      0.096      1.193      0.233      -0.074       0.304\n",
       "diphtheria                          0.8790      0.077     11.391      0.000       0.728       1.030\n",
       "hiv_aids                           -0.5641      0.024    -23.589      0.000      -0.611      -0.517\n",
       "gdp                                 0.2535      0.038      6.718      0.000       0.179       0.327\n",
       "thinness_1_19_years                -0.0807      0.137     -0.587      0.557      -0.350       0.189\n",
       "income_composition_of_resources     1.5343      0.161      9.514      0.000       1.218       1.851\n",
       "schooling                           2.8481      0.169     16.831      0.000       2.516       3.180\n",
       "==============================================================================\n",
       "Omnibus:                      121.890   Durbin-Watson:                   0.617\n",
       "Prob(Omnibus):                  0.000   Jarque-Bera (JB):              433.432\n",
       "Skew:                          -0.078   Prob(JB):                     7.61e-95\n",
       "Kurtosis:                       5.072   Cond. No.                         199.\n",
       "==============================================================================\n",
       "\n",
       "Notes:\n",
       "[1] Standard Errors assume that the covariance matrix of the errors is correctly specified.\n",
       "\"\"\""
      ]
     },
     "execution_count": 103,
     "metadata": {},
     "output_type": "execute_result"
    }
   ],
   "source": [
    "lm.summary()"
   ]
  },
  {
   "attachments": {},
   "cell_type": "markdown",
   "metadata": {},
   "source": [
    "## Interpretación"
   ]
  },
  {
   "attachments": {},
   "cell_type": "markdown",
   "metadata": {},
   "source": [
    "`Al analizar el Adj. R-squared, vemos que el 79.5% de la variación de life_expetacy, variable respuesta, se explica a través de las variables predictoras.`\n",
    "\n",
    "`Coeficiente`\n",
    "- Refiere a la tasa de cambios medios en la variable respuesta por unidad de cambio de la variable preditora, lo que interesa es el signo. \n",
    "En las variables adult mortality, muerte infantil, alcohol, hvi_aid y delgadez se observa un signo negativo, es decir, que si estas variables aumentan, la expectativa de vida disminuye.-\n",
    "\n",
    "- Para el caso de variables con signo positivo como son sarampión, bmi, gasto total, diphteria, gdp, income y escolaridad, esto indica que si aumenta el coeficiente también aumentará la expectativa de vida.\n",
    "\n",
    "`P>|t|`\n",
    "- Al analizar las variables predictoras individualmente, observamos que measles, total_expenditure y thinness_1_19_years son NO significativas a la hora e predecir nuestra variable respuesta.\n",
    "- Respecto a la variable categórica continente, el pvalue indica que todas tienen un valor menor a 0.05, por lo tanto, todas son significativas para la predicción de nuestra variable respuesta."
   ]
  },
  {
   "cell_type": "code",
   "execution_count": 104,
   "metadata": {},
   "outputs": [
    {
     "data": {
      "text/plain": [
       "Index(['country', 'status', 'continente', 'year', 'life_expectancy',\n",
       "       'adult_mortality', 'infant_deaths', 'alcohol', 'measles', 'bmi',\n",
       "       'total_expenditure', 'diphtheria', 'hiv_aids', 'gdp',\n",
       "       'thinness_1_19_years', 'income_composition_of_resources', 'schooling'],\n",
       "      dtype='object')"
      ]
     },
     "execution_count": 104,
     "metadata": {},
     "output_type": "execute_result"
    }
   ],
   "source": [
    "df.columns"
   ]
  },
  {
   "attachments": {},
   "cell_type": "markdown",
   "metadata": {},
   "source": [
    "### Eliminación de columnas no significativas y fuera de la investigación para la creación del modelo.\n",
    "\n",
    "`Decidimos eliminar además de las columnas no significativas arrojadas por el summary, país, estatus y año, ya que no están alineadas con el modelo que buscamos diseñar.`"
   ]
  },
  {
   "cell_type": "code",
   "execution_count": 105,
   "metadata": {},
   "outputs": [
    {
     "data": {
      "text/plain": [
       "159"
      ]
     },
     "execution_count": 105,
     "metadata": {},
     "output_type": "execute_result"
    }
   ],
   "source": [
    "len(df[\"country\"].unique())"
   ]
  },
  {
   "cell_type": "code",
   "execution_count": 106,
   "metadata": {},
   "outputs": [],
   "source": [
    "df.drop(columns=[\"year\",'country','status','measles', 'total_expenditure', 'thinness_1_19_years'], axis=1, inplace=True)"
   ]
  },
  {
   "cell_type": "code",
   "execution_count": 107,
   "metadata": {},
   "outputs": [
    {
     "data": {
      "text/html": [
       "<div>\n",
       "<style scoped>\n",
       "    .dataframe tbody tr th:only-of-type {\n",
       "        vertical-align: middle;\n",
       "    }\n",
       "\n",
       "    .dataframe tbody tr th {\n",
       "        vertical-align: top;\n",
       "    }\n",
       "\n",
       "    .dataframe thead th {\n",
       "        text-align: right;\n",
       "    }\n",
       "</style>\n",
       "<table border=\"1\" class=\"dataframe\">\n",
       "  <thead>\n",
       "    <tr style=\"text-align: right;\">\n",
       "      <th></th>\n",
       "      <th>continente</th>\n",
       "      <th>life_expectancy</th>\n",
       "      <th>adult_mortality</th>\n",
       "      <th>infant_deaths</th>\n",
       "      <th>alcohol</th>\n",
       "      <th>bmi</th>\n",
       "      <th>diphtheria</th>\n",
       "      <th>hiv_aids</th>\n",
       "      <th>gdp</th>\n",
       "      <th>income_composition_of_resources</th>\n",
       "      <th>schooling</th>\n",
       "    </tr>\n",
       "  </thead>\n",
       "  <tbody>\n",
       "    <tr>\n",
       "      <th>0</th>\n",
       "      <td>Asia</td>\n",
       "      <td>65.0</td>\n",
       "      <td>0.625</td>\n",
       "      <td>2.111111</td>\n",
       "      <td>-0.519069</td>\n",
       "      <td>-0.451474</td>\n",
       "      <td>-1.136364</td>\n",
       "      <td>0.0</td>\n",
       "      <td>-0.219529</td>\n",
       "      <td>-0.553352</td>\n",
       "      <td>-0.421053</td>\n",
       "    </tr>\n",
       "    <tr>\n",
       "      <th>1</th>\n",
       "      <td>Asia</td>\n",
       "      <td>59.9</td>\n",
       "      <td>0.675</td>\n",
       "      <td>2.185185</td>\n",
       "      <td>-0.519069</td>\n",
       "      <td>-0.465852</td>\n",
       "      <td>-1.272727</td>\n",
       "      <td>0.0</td>\n",
       "      <td>-0.211517</td>\n",
       "      <td>-0.564684</td>\n",
       "      <td>-0.447368</td>\n",
       "    </tr>\n",
       "  </tbody>\n",
       "</table>\n",
       "</div>"
      ],
      "text/plain": [
       "  continente  life_expectancy  adult_mortality  infant_deaths   alcohol  \\\n",
       "0       Asia             65.0            0.625       2.111111 -0.519069   \n",
       "1       Asia             59.9            0.675       2.185185 -0.519069   \n",
       "\n",
       "        bmi  diphtheria  hiv_aids       gdp  income_composition_of_resources  \\\n",
       "0 -0.451474   -1.136364       0.0 -0.219529                        -0.553352   \n",
       "1 -0.465852   -1.272727       0.0 -0.211517                        -0.564684   \n",
       "\n",
       "   schooling  \n",
       "0  -0.421053  \n",
       "1  -0.447368  "
      ]
     },
     "execution_count": 107,
     "metadata": {},
     "output_type": "execute_result"
    }
   ],
   "source": [
    "df.head(2)"
   ]
  },
  {
   "cell_type": "code",
   "execution_count": 108,
   "metadata": {},
   "outputs": [],
   "source": [
    "df.to_csv('../files/endesarrollo_anova.csv')"
   ]
  }
 ],
 "metadata": {
  "kernelspec": {
   "display_name": "base",
   "language": "python",
   "name": "python3"
  },
  "language_info": {
   "codemirror_mode": {
    "name": "ipython",
    "version": 3
   },
   "file_extension": ".py",
   "mimetype": "text/x-python",
   "name": "python",
   "nbconvert_exporter": "python",
   "pygments_lexer": "ipython3",
   "version": "3.9.13 (main, Aug 25 2022, 18:29:29) \n[Clang 12.0.0 ]"
  },
  "orig_nbformat": 4,
  "vscode": {
   "interpreter": {
    "hash": "a52af493819045717511545598ab2b73dabca4ca61b402315e0ef2b43666342d"
   }
  }
 },
 "nbformat": 4,
 "nbformat_minor": 2
}
