{
 "cells": [
  {
   "attachments": {},
   "cell_type": "markdown",
   "metadata": {},
   "source": [
    "## TEST ESTADISTICOS"
   ]
  },
  {
   "attachments": {},
   "cell_type": "markdown",
   "metadata": {},
   "source": [
    "---"
   ]
  },
  {
   "cell_type": "code",
   "execution_count": 1,
   "metadata": {},
   "outputs": [],
   "source": [
    "# ============================================\n",
    "import pandas as pd\n",
    "import numpy as np\n",
    "\n",
    "# librerías para la visualización de los datos\n",
    "# ============================================\n",
    "import matplotlib.pyplot as plt\n",
    "import seaborn as sns\n",
    "\n",
    "# Establecer tamaño fijo de gráficas\n",
    "# ==================================\n",
    "plt.rcParams[\"figure.figsize\"] = (10,8)\n",
    "\n",
    "# Configuración warnings\n",
    "# ======================\n",
    "import warnings\n",
    "\n",
    "from scipy.stats import skew\n",
    "\n",
    "from scipy.stats import kurtosistest\n",
    "\n",
    "from scipy import stats\n",
    "\n",
    "pd.options.display.max_columns = None"
   ]
  },
  {
   "cell_type": "code",
   "execution_count": 2,
   "metadata": {},
   "outputs": [],
   "source": [
    "import warnings\n",
    "warnings.filterwarnings('ignore')"
   ]
  },
  {
   "cell_type": "code",
   "execution_count": 2,
   "metadata": {},
   "outputs": [
    {
     "data": {
      "text/html": [
       "<div>\n",
       "<style scoped>\n",
       "    .dataframe tbody tr th:only-of-type {\n",
       "        vertical-align: middle;\n",
       "    }\n",
       "\n",
       "    .dataframe tbody tr th {\n",
       "        vertical-align: top;\n",
       "    }\n",
       "\n",
       "    .dataframe thead th {\n",
       "        text-align: right;\n",
       "    }\n",
       "</style>\n",
       "<table border=\"1\" class=\"dataframe\">\n",
       "  <thead>\n",
       "    <tr style=\"text-align: right;\">\n",
       "      <th></th>\n",
       "      <th>country</th>\n",
       "      <th>status</th>\n",
       "      <th>continente</th>\n",
       "      <th>year</th>\n",
       "      <th>life_expectancy</th>\n",
       "      <th>adult_mortality</th>\n",
       "      <th>infant_deaths</th>\n",
       "      <th>alcohol</th>\n",
       "      <th>percentage_expenditure</th>\n",
       "      <th>hepatitis_b</th>\n",
       "      <th>measles</th>\n",
       "      <th>bmi</th>\n",
       "      <th>under-five_deaths</th>\n",
       "      <th>polio</th>\n",
       "      <th>total_expenditure</th>\n",
       "      <th>diphtheria</th>\n",
       "      <th>hiv/aids</th>\n",
       "      <th>gdp</th>\n",
       "      <th>population</th>\n",
       "      <th>thinness__1-19_years</th>\n",
       "      <th>thinness_5-9_years</th>\n",
       "      <th>income_composition_of_resources</th>\n",
       "      <th>schooling</th>\n",
       "    </tr>\n",
       "  </thead>\n",
       "  <tbody>\n",
       "    <tr>\n",
       "      <th>0</th>\n",
       "      <td>Afghanistan</td>\n",
       "      <td>Developing</td>\n",
       "      <td>Asia</td>\n",
       "      <td>2015.0</td>\n",
       "      <td>65.0</td>\n",
       "      <td>263.0</td>\n",
       "      <td>62.0</td>\n",
       "      <td>0.01</td>\n",
       "      <td>71.279624</td>\n",
       "      <td>65.0</td>\n",
       "      <td>1154.0</td>\n",
       "      <td>19.1</td>\n",
       "      <td>83.0</td>\n",
       "      <td>6.0</td>\n",
       "      <td>8.16</td>\n",
       "      <td>65.0</td>\n",
       "      <td>0.1</td>\n",
       "      <td>584.259210</td>\n",
       "      <td>33736494.0</td>\n",
       "      <td>17.2</td>\n",
       "      <td>17.3</td>\n",
       "      <td>0.479</td>\n",
       "      <td>10.1</td>\n",
       "    </tr>\n",
       "    <tr>\n",
       "      <th>1</th>\n",
       "      <td>Afghanistan</td>\n",
       "      <td>Developing</td>\n",
       "      <td>Asia</td>\n",
       "      <td>2014.0</td>\n",
       "      <td>59.9</td>\n",
       "      <td>271.0</td>\n",
       "      <td>64.0</td>\n",
       "      <td>0.01</td>\n",
       "      <td>73.523582</td>\n",
       "      <td>62.0</td>\n",
       "      <td>492.0</td>\n",
       "      <td>18.6</td>\n",
       "      <td>86.0</td>\n",
       "      <td>58.0</td>\n",
       "      <td>8.18</td>\n",
       "      <td>62.0</td>\n",
       "      <td>0.1</td>\n",
       "      <td>612.696514</td>\n",
       "      <td>327582.0</td>\n",
       "      <td>17.5</td>\n",
       "      <td>17.5</td>\n",
       "      <td>0.476</td>\n",
       "      <td>10.0</td>\n",
       "    </tr>\n",
       "  </tbody>\n",
       "</table>\n",
       "</div>"
      ],
      "text/plain": [
       "       country      status continente    year  life_expectancy  \\\n",
       "0  Afghanistan  Developing       Asia  2015.0             65.0   \n",
       "1  Afghanistan  Developing       Asia  2014.0             59.9   \n",
       "\n",
       "   adult_mortality  infant_deaths  alcohol  percentage_expenditure  \\\n",
       "0            263.0           62.0     0.01               71.279624   \n",
       "1            271.0           64.0     0.01               73.523582   \n",
       "\n",
       "   hepatitis_b  measles   bmi  under-five_deaths  polio  total_expenditure  \\\n",
       "0         65.0   1154.0  19.1               83.0    6.0               8.16   \n",
       "1         62.0    492.0  18.6               86.0   58.0               8.18   \n",
       "\n",
       "   diphtheria  hiv/aids         gdp  population  thinness__1-19_years  \\\n",
       "0        65.0       0.1  584.259210  33736494.0                  17.2   \n",
       "1        62.0       0.1  612.696514    327582.0                  17.5   \n",
       "\n",
       "   thinness_5-9_years  income_composition_of_resources  schooling  \n",
       "0                17.3                            0.479       10.1  \n",
       "1                17.5                            0.476       10.0  "
      ]
     },
     "execution_count": 2,
     "metadata": {},
     "output_type": "execute_result"
    }
   ],
   "source": [
    "df= pd.read_csv('../files/life_data_limp.csv', index_col=0)\n",
    "df.head(2)"
   ]
  },
  {
   "cell_type": "code",
   "execution_count": 3,
   "metadata": {},
   "outputs": [],
   "source": [
    "numericas = df.select_dtypes(include= np.number)"
   ]
  },
  {
   "attachments": {},
   "cell_type": "markdown",
   "metadata": {},
   "source": [
    "En este ejercicio de pair programming seguiréis usando el dataset que seleccionasteis ayer."
   ]
  },
  {
   "attachments": {},
   "cell_type": "markdown",
   "metadata": {},
   "source": [
    "### 1) ¿Qué diferencia existe el error de tipo I y el error de tipo II?"
   ]
  },
  {
   "attachments": {},
   "cell_type": "markdown",
   "metadata": {},
   "source": [
    "    Error de tipo I: la probabilidad de rechazar la H0 siendo verdadera\n",
    "\n",
    "    Error de tipo II: la probabilidad de aceptar la H0 siendo falsa"
   ]
  },
  {
   "attachments": {},
   "cell_type": "markdown",
   "metadata": {},
   "source": [
    "### 2) ¿Qué es la asimetría?"
   ]
  },
  {
   "attachments": {},
   "cell_type": "markdown",
   "metadata": {},
   "source": [
    "    La asimetría es la falta de simetría que presenta una distribución teniendo en cuenta la media"
   ]
  },
  {
   "attachments": {},
   "cell_type": "markdown",
   "metadata": {},
   "source": [
    "Cuando utilizemos el método anterior podemos obtener resultados positivos, negativos o cero.\n",
    "\n",
    "- **Distributión simétrica**: si el valor es de 0, los datos serán simétricos, y por lo tanto, tienen una distribución normal. \n",
    "\n",
    "\n",
    "- **Distribución asimétrica positiva**: si el valor es positivo, los datos serán asimétricos positivos, y por lo tanto, no son normales. \n",
    "\n",
    "\n",
    "- **Distribución asimétrica negativa**: si el valor es negativo, los datos serán asimétricos negativos, y por lo tanto, no son normales."
   ]
  },
  {
   "cell_type": "code",
   "execution_count": 5,
   "metadata": {},
   "outputs": [
    {
     "name": "stdout",
     "output_type": "stream",
     "text": [
      " La variable year tiene una distribución asimetrica negativa (No es normal)\n",
      " La variable life_expectancy tiene una distribución asimetrica negativa (No es normal)\n",
      " La variable adult_mortality tiene una distribución asimetrica positiva (No es normal)\n",
      " La variable infant_deaths tiene una distribución asimetrica positiva (No es normal)\n",
      " La variable alcohol tiene una distribución asimetrica positiva (No es normal)\n",
      " La variable percentage_expenditure tiene una distribución asimetrica positiva (No es normal)\n",
      " La variable hepatitis_b tiene una distribución asimetrica negativa (No es normal)\n",
      " La variable measles tiene una distribución asimetrica positiva (No es normal)\n",
      " La variable bmi tiene una distribución asimetrica negativa (No es normal)\n",
      " La variable under-five_deaths tiene una distribución asimetrica positiva (No es normal)\n",
      " La variable polio tiene una distribución asimetrica negativa (No es normal)\n",
      " La variable total_expenditure tiene una distribución asimetrica positiva (No es normal)\n",
      " La variable diphtheria tiene una distribución asimetrica negativa (No es normal)\n",
      " La variable hiv/aids tiene una distribución asimetrica positiva (No es normal)\n",
      " La variable gdp tiene una distribución asimetrica positiva (No es normal)\n",
      " La variable population tiene una distribución asimetrica positiva (No es normal)\n",
      " La variable thinness__1-19_years tiene una distribución asimetrica positiva (No es normal)\n",
      " La variable thinness_5-9_years tiene una distribución asimetrica positiva (No es normal)\n",
      " La variable income_composition_of_resources tiene una distribución asimetrica negativa (No es normal)\n",
      " La variable schooling tiene una distribución asimetrica negativa (No es normal)\n"
     ]
    }
   ],
   "source": [
    "for i in numericas.columns:\n",
    "    if skew(numericas[i])== 0:\n",
    "        print( f\" La variable {i} tiene una distribución simetrica (Es normal)\")\n",
    "\n",
    "    elif skew(numericas[i])> 0:\n",
    "        print( f\" La variable {i} tiene una distribución asimetrica positiva (No es normal)\")\n",
    "    \n",
    "    elif skew(numericas[i])< 0:\n",
    "        print( f\" La variable {i} tiene una distribución asimetrica negativa (No es normal)\")\n",
    "    else:\n",
    "        pass"
   ]
  },
  {
   "attachments": {},
   "cell_type": "markdown",
   "metadata": {},
   "source": [
    "### 3) ¿Es vuestra variable respuesta asimétrica?"
   ]
  },
  {
   "cell_type": "code",
   "execution_count": 7,
   "metadata": {},
   "outputs": [
    {
     "data": {
      "text/plain": [
       "-0.6397827584617982"
      ]
     },
     "execution_count": 7,
     "metadata": {},
     "output_type": "execute_result"
    }
   ],
   "source": [
    "df['life_expectancy'].skew()"
   ]
  },
  {
   "attachments": {},
   "cell_type": "markdown",
   "metadata": {},
   "source": [
    "    Distribuciones asimetricas negativas: la media es menor que la mediana y la moda."
   ]
  },
  {
   "attachments": {},
   "cell_type": "markdown",
   "metadata": {},
   "source": [
    "    La variable respuesta NO tiene Simetria."
   ]
  },
  {
   "attachments": {},
   "cell_type": "markdown",
   "metadata": {},
   "source": [
    "### 4) ¿Qué tipo de curtosis presenta vuestra variable respuesta?"
   ]
  },
  {
   "cell_type": "code",
   "execution_count": 8,
   "metadata": {},
   "outputs": [
    {
     "data": {
      "text/plain": [
       "KurtosistestResult(statistic=-2.8699534856292863, pvalue=0.0041053218496405605)"
      ]
     },
     "execution_count": 8,
     "metadata": {},
     "output_type": "execute_result"
    }
   ],
   "source": [
    "kurtosistest(df['life_expectancy'])"
   ]
  },
  {
   "attachments": {},
   "cell_type": "markdown",
   "metadata": {},
   "source": [
    "    EL pvalor es menor a 0.05 por lo tanto rechazamos la H0. Los datos NO son normales.\n"
   ]
  },
  {
   "attachments": {},
   "cell_type": "markdown",
   "metadata": {},
   "source": [
    "### 5) ¿Es vuestra variable respuesta normal? Demostrarlo visual y analíticamente?"
   ]
  },
  {
   "cell_type": "code",
   "execution_count": 9,
   "metadata": {},
   "outputs": [
    {
     "data": {
      "text/plain": [
       "ShapiroResult(statistic=0.9559249877929688, pvalue=6.134547892353784e-29)"
      ]
     },
     "execution_count": 9,
     "metadata": {},
     "output_type": "execute_result"
    }
   ],
   "source": [
    "stats.shapiro(df[\"life_expectancy\"])"
   ]
  },
  {
   "attachments": {},
   "cell_type": "markdown",
   "metadata": {},
   "source": [
    "Al ser pvalue menor a 0.05 rechazamos la H0, por lo tanto nuestras datos NO tienen una distribución normal con un intervalo de confianza del 95%."
   ]
  },
  {
   "cell_type": "code",
   "execution_count": 10,
   "metadata": {},
   "outputs": [
    {
     "name": "stderr",
     "output_type": "stream",
     "text": [
      "/Users/anamor/anaconda3/lib/python3.9/site-packages/seaborn/distributions.py:2619: FutureWarning: `distplot` is a deprecated function and will be removed in a future version. Please adapt your code to use either `displot` (a figure-level function with similar flexibility) or `kdeplot` (an axes-level function for kernel density plots).\n",
      "  warnings.warn(msg, FutureWarning)\n"
     ]
    },
    {
     "data": {
      "image/png": "[encoded data removed]",
      "text/plain": [
       "<Figure size 1000x800 with 1 Axes>"
      ]
     },
     "metadata": {},
     "output_type": "display_data"
    }
   ],
   "source": [
    "sns.distplot(\n",
    "    df[\"life_expectancy\"], \n",
    "    hist = False, \n",
    "    color = \"blue\", \n",
    "    kde_kws = {\"shade\": True, \"linewidth\": 1});"
   ]
  }
 ],
 "metadata": {
  "kernelspec": {
   "display_name": "base",
   "language": "python",
   "name": "python3"
  },
  "language_info": {
   "codemirror_mode": {
    "name": "ipython",
    "version": 3
   },
   "file_extension": ".py",
   "mimetype": "text/x-python",
   "name": "python",
   "nbconvert_exporter": "python",
   "pygments_lexer": "ipython3",
   "version": "3.9.13"
  },
  "orig_nbformat": 4,
  "vscode": {
   "interpreter": {
    "hash": "a52af493819045717511545598ab2b73dabca4ca61b402315e0ef2b43666342d"
   }
  }
 },
 "nbformat": 4,
 "nbformat_minor": 2
}
