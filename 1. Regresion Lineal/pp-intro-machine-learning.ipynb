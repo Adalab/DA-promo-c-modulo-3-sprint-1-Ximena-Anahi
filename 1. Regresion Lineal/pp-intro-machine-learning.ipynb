{
 "cells": [
  {
   "attachments": {},
   "cell_type": "markdown",
   "metadata": {},
   "source": [
    "## INTRO MACHINE LEARNING"
   ]
  },
  {
   "attachments": {},
   "cell_type": "markdown",
   "metadata": {},
   "source": [
    "---"
   ]
  },
  {
   "attachments": {},
   "cell_type": "markdown",
   "metadata": {},
   "source": [
    "Empezamos una nueva lección, y este es el momento de poner en práctica los conocimientos adquiridos sobre la Regresión Lineal Simple I. Para ello os vamos a pedir que por vuestra cuenta busqueis un dataset que os guste, por ejemplo de Kaggle o de donde queráis extraerlo. De forma que vamos a probar a realizar ajustes lineales con el fin de predecir alguna de sus variables. Este dataset será el que iremos usando a lo largo de todas las sesiones de pairprogramming de regresión lineal.\n",
    "Se ruega a la hora de realizar la entrega que incluyais el conjunto de datos que hayais decidido emplear para estos ejercicios."
   ]
  },
  {
   "attachments": {},
   "cell_type": "markdown",
   "metadata": {},
   "source": [
    "Los objetivos de hoy son:"
   ]
  },
  {
   "attachments": {},
   "cell_type": "markdown",
   "metadata": {},
   "source": [
    "Buscar un conjunto de datos a analizar:\n",
    "Es necesario que el conjunto de datos a analizar tenga variables numéricas y categóricas, primando que haya más de una variable de tipo numérico. Ya que tambien se utilizarán serán útiles a la hora de realizar predicciones en las clases de regresión lineal múltiple. Así mismo se recomienda que los datasets esten ligeramente limpios para facilitar los análisis."
   ]
  },
  {
   "attachments": {},
   "cell_type": "markdown",
   "metadata": {},
   "source": [
    "\n"
   ]
  },
  {
   "attachments": {},
   "cell_type": "markdown",
   "metadata": {},
   "source": [
    "Realizar un EDA sencillo para la variable dependiente y la variable independiente.\n"
   ]
  },
  {
   "cell_type": "code",
   "execution_count": 1,
   "metadata": {},
   "outputs": [],
   "source": [
    "# ============================================\n",
    "import pandas as pd\n",
    "import numpy as np\n",
    "\n",
    "# librerías para la visualización de los datos\n",
    "# ============================================\n",
    "import matplotlib.pyplot as plt\n",
    "import seaborn as sns\n",
    "\n",
    "# Establecer tamaño fijo de gráficas\n",
    "# ==================================\n",
    "plt.rcParams[\"figure.figsize\"] = (10,8)\n",
    "\n",
    "# Configuración warnings\n",
    "# ======================\n",
    "import warnings\n",
    "\n",
    "pd.options.display.max_columns = None"
   ]
  },
  {
   "cell_type": "code",
   "execution_count": 20,
   "metadata": {},
   "outputs": [],
   "source": [
    "df= pd.read_csv('../files/salesdaily.csv', index_col=0)"
   ]
  },
  {
   "attachments": {},
   "cell_type": "markdown",
   "metadata": {},
   "source": [
    "---"
   ]
  },
  {
   "attachments": {},
   "cell_type": "markdown",
   "metadata": {},
   "source": [
    "Realizar un EDA sencillo para la variable dependiente y la variable independiente."
   ]
  },
  {
   "cell_type": "code",
   "execution_count": 21,
   "metadata": {},
   "outputs": [
    {
     "data": {
      "text/plain": [
       "(2106, 12)"
      ]
     },
     "execution_count": 21,
     "metadata": {},
     "output_type": "execute_result"
    }
   ],
   "source": [
    "df.shape"
   ]
  },
  {
   "cell_type": "code",
   "execution_count": 22,
   "metadata": {},
   "outputs": [
    {
     "data": {
      "text/html": [
       "<div>\n",
       "<style scoped>\n",
       "    .dataframe tbody tr th:only-of-type {\n",
       "        vertical-align: middle;\n",
       "    }\n",
       "\n",
       "    .dataframe tbody tr th {\n",
       "        vertical-align: top;\n",
       "    }\n",
       "\n",
       "    .dataframe thead th {\n",
       "        text-align: right;\n",
       "    }\n",
       "</style>\n",
       "<table border=\"1\" class=\"dataframe\">\n",
       "  <thead>\n",
       "    <tr style=\"text-align: right;\">\n",
       "      <th></th>\n",
       "      <th>M01AB</th>\n",
       "      <th>M01AE</th>\n",
       "      <th>N02BA</th>\n",
       "      <th>N02BE</th>\n",
       "      <th>N05B</th>\n",
       "      <th>N05C</th>\n",
       "      <th>R03</th>\n",
       "      <th>R06</th>\n",
       "      <th>Year</th>\n",
       "      <th>Month</th>\n",
       "      <th>Hour</th>\n",
       "      <th>Weekday Name</th>\n",
       "    </tr>\n",
       "    <tr>\n",
       "      <th>datum</th>\n",
       "      <th></th>\n",
       "      <th></th>\n",
       "      <th></th>\n",
       "      <th></th>\n",
       "      <th></th>\n",
       "      <th></th>\n",
       "      <th></th>\n",
       "      <th></th>\n",
       "      <th></th>\n",
       "      <th></th>\n",
       "      <th></th>\n",
       "      <th></th>\n",
       "    </tr>\n",
       "  </thead>\n",
       "  <tbody>\n",
       "    <tr>\n",
       "      <th>1/2/2014</th>\n",
       "      <td>0.0</td>\n",
       "      <td>3.67</td>\n",
       "      <td>3.4</td>\n",
       "      <td>32.40</td>\n",
       "      <td>7.0</td>\n",
       "      <td>0.0</td>\n",
       "      <td>0.0</td>\n",
       "      <td>2.0</td>\n",
       "      <td>2014</td>\n",
       "      <td>1</td>\n",
       "      <td>248</td>\n",
       "      <td>Thursday</td>\n",
       "    </tr>\n",
       "    <tr>\n",
       "      <th>1/3/2014</th>\n",
       "      <td>8.0</td>\n",
       "      <td>4.00</td>\n",
       "      <td>4.4</td>\n",
       "      <td>50.60</td>\n",
       "      <td>16.0</td>\n",
       "      <td>0.0</td>\n",
       "      <td>20.0</td>\n",
       "      <td>4.0</td>\n",
       "      <td>2014</td>\n",
       "      <td>1</td>\n",
       "      <td>276</td>\n",
       "      <td>Friday</td>\n",
       "    </tr>\n",
       "    <tr>\n",
       "      <th>1/4/2014</th>\n",
       "      <td>2.0</td>\n",
       "      <td>1.00</td>\n",
       "      <td>6.5</td>\n",
       "      <td>61.85</td>\n",
       "      <td>10.0</td>\n",
       "      <td>0.0</td>\n",
       "      <td>9.0</td>\n",
       "      <td>1.0</td>\n",
       "      <td>2014</td>\n",
       "      <td>1</td>\n",
       "      <td>276</td>\n",
       "      <td>Saturday</td>\n",
       "    </tr>\n",
       "    <tr>\n",
       "      <th>1/5/2014</th>\n",
       "      <td>4.0</td>\n",
       "      <td>3.00</td>\n",
       "      <td>7.0</td>\n",
       "      <td>41.10</td>\n",
       "      <td>8.0</td>\n",
       "      <td>0.0</td>\n",
       "      <td>3.0</td>\n",
       "      <td>0.0</td>\n",
       "      <td>2014</td>\n",
       "      <td>1</td>\n",
       "      <td>276</td>\n",
       "      <td>Sunday</td>\n",
       "    </tr>\n",
       "    <tr>\n",
       "      <th>1/6/2014</th>\n",
       "      <td>5.0</td>\n",
       "      <td>1.00</td>\n",
       "      <td>4.5</td>\n",
       "      <td>21.70</td>\n",
       "      <td>16.0</td>\n",
       "      <td>2.0</td>\n",
       "      <td>6.0</td>\n",
       "      <td>2.0</td>\n",
       "      <td>2014</td>\n",
       "      <td>1</td>\n",
       "      <td>276</td>\n",
       "      <td>Monday</td>\n",
       "    </tr>\n",
       "  </tbody>\n",
       "</table>\n",
       "</div>"
      ],
      "text/plain": [
       "          M01AB  M01AE  N02BA  N02BE  N05B  N05C   R03  R06  Year  Month  \\\n",
       "datum                                                                      \n",
       "1/2/2014    0.0   3.67    3.4  32.40   7.0   0.0   0.0  2.0  2014      1   \n",
       "1/3/2014    8.0   4.00    4.4  50.60  16.0   0.0  20.0  4.0  2014      1   \n",
       "1/4/2014    2.0   1.00    6.5  61.85  10.0   0.0   9.0  1.0  2014      1   \n",
       "1/5/2014    4.0   3.00    7.0  41.10   8.0   0.0   3.0  0.0  2014      1   \n",
       "1/6/2014    5.0   1.00    4.5  21.70  16.0   2.0   6.0  2.0  2014      1   \n",
       "\n",
       "          Hour Weekday Name  \n",
       "datum                        \n",
       "1/2/2014   248     Thursday  \n",
       "1/3/2014   276       Friday  \n",
       "1/4/2014   276     Saturday  \n",
       "1/5/2014   276       Sunday  \n",
       "1/6/2014   276       Monday  "
      ]
     },
     "execution_count": 22,
     "metadata": {},
     "output_type": "execute_result"
    }
   ],
   "source": [
    "df.head()"
   ]
  },
  {
   "cell_type": "code",
   "execution_count": 24,
   "metadata": {},
   "outputs": [
    {
     "name": "stdout",
     "output_type": "stream",
     "text": [
      "<class 'pandas.core.frame.DataFrame'>\n",
      "Index: 2106 entries, 1/2/2014 to 10/8/2019\n",
      "Data columns (total 12 columns):\n",
      " #   Column        Non-Null Count  Dtype  \n",
      "---  ------        --------------  -----  \n",
      " 0   M01AB         2106 non-null   float64\n",
      " 1   M01AE         2106 non-null   float64\n",
      " 2   N02BA         2106 non-null   float64\n",
      " 3   N02BE         2106 non-null   float64\n",
      " 4   N05B          2106 non-null   float64\n",
      " 5   N05C          2106 non-null   float64\n",
      " 6   R03           2106 non-null   float64\n",
      " 7   R06           2106 non-null   float64\n",
      " 8   Year          2106 non-null   int64  \n",
      " 9   Month         2106 non-null   int64  \n",
      " 10  Hour          2106 non-null   int64  \n",
      " 11  Weekday Name  2106 non-null   object \n",
      "dtypes: float64(8), int64(3), object(1)\n",
      "memory usage: 213.9+ KB\n"
     ]
    }
   ],
   "source": [
    "df.info()"
   ]
  },
  {
   "cell_type": "code",
   "execution_count": 25,
   "metadata": {},
   "outputs": [
    {
     "data": {
      "text/html": [
       "<div>\n",
       "<style scoped>\n",
       "    .dataframe tbody tr th:only-of-type {\n",
       "        vertical-align: middle;\n",
       "    }\n",
       "\n",
       "    .dataframe tbody tr th {\n",
       "        vertical-align: top;\n",
       "    }\n",
       "\n",
       "    .dataframe thead th {\n",
       "        text-align: right;\n",
       "    }\n",
       "</style>\n",
       "<table border=\"1\" class=\"dataframe\">\n",
       "  <thead>\n",
       "    <tr style=\"text-align: right;\">\n",
       "      <th></th>\n",
       "      <th>M01AB</th>\n",
       "      <th>M01AE</th>\n",
       "      <th>N02BA</th>\n",
       "      <th>N02BE</th>\n",
       "      <th>N05B</th>\n",
       "      <th>N05C</th>\n",
       "      <th>R03</th>\n",
       "      <th>R06</th>\n",
       "      <th>Year</th>\n",
       "      <th>Month</th>\n",
       "      <th>Hour</th>\n",
       "    </tr>\n",
       "  </thead>\n",
       "  <tbody>\n",
       "    <tr>\n",
       "      <th>count</th>\n",
       "      <td>2106.000000</td>\n",
       "      <td>2106.000000</td>\n",
       "      <td>2106.000000</td>\n",
       "      <td>2106.000000</td>\n",
       "      <td>2106.000000</td>\n",
       "      <td>2106.000000</td>\n",
       "      <td>2106.000000</td>\n",
       "      <td>2106.000000</td>\n",
       "      <td>2106.000000</td>\n",
       "      <td>2106.000000</td>\n",
       "      <td>2106.000000</td>\n",
       "    </tr>\n",
       "    <tr>\n",
       "      <th>mean</th>\n",
       "      <td>5.033683</td>\n",
       "      <td>3.895830</td>\n",
       "      <td>3.880441</td>\n",
       "      <td>29.917095</td>\n",
       "      <td>8.853627</td>\n",
       "      <td>0.593522</td>\n",
       "      <td>5.512262</td>\n",
       "      <td>2.900198</td>\n",
       "      <td>2016.401235</td>\n",
       "      <td>6.344255</td>\n",
       "      <td>275.945869</td>\n",
       "    </tr>\n",
       "    <tr>\n",
       "      <th>std</th>\n",
       "      <td>2.737579</td>\n",
       "      <td>2.133337</td>\n",
       "      <td>2.384010</td>\n",
       "      <td>15.590966</td>\n",
       "      <td>5.605605</td>\n",
       "      <td>1.092988</td>\n",
       "      <td>6.428736</td>\n",
       "      <td>2.415816</td>\n",
       "      <td>1.665060</td>\n",
       "      <td>3.386954</td>\n",
       "      <td>1.970547</td>\n",
       "    </tr>\n",
       "    <tr>\n",
       "      <th>min</th>\n",
       "      <td>0.000000</td>\n",
       "      <td>0.000000</td>\n",
       "      <td>0.000000</td>\n",
       "      <td>0.000000</td>\n",
       "      <td>0.000000</td>\n",
       "      <td>0.000000</td>\n",
       "      <td>0.000000</td>\n",
       "      <td>0.000000</td>\n",
       "      <td>2014.000000</td>\n",
       "      <td>1.000000</td>\n",
       "      <td>190.000000</td>\n",
       "    </tr>\n",
       "    <tr>\n",
       "      <th>25%</th>\n",
       "      <td>3.000000</td>\n",
       "      <td>2.340000</td>\n",
       "      <td>2.000000</td>\n",
       "      <td>19.000000</td>\n",
       "      <td>5.000000</td>\n",
       "      <td>0.000000</td>\n",
       "      <td>1.000000</td>\n",
       "      <td>1.000000</td>\n",
       "      <td>2015.000000</td>\n",
       "      <td>3.000000</td>\n",
       "      <td>276.000000</td>\n",
       "    </tr>\n",
       "    <tr>\n",
       "      <th>50%</th>\n",
       "      <td>4.990000</td>\n",
       "      <td>3.670000</td>\n",
       "      <td>3.500000</td>\n",
       "      <td>26.900000</td>\n",
       "      <td>8.000000</td>\n",
       "      <td>0.000000</td>\n",
       "      <td>4.000000</td>\n",
       "      <td>2.000000</td>\n",
       "      <td>2016.000000</td>\n",
       "      <td>6.000000</td>\n",
       "      <td>276.000000</td>\n",
       "    </tr>\n",
       "    <tr>\n",
       "      <th>75%</th>\n",
       "      <td>6.670000</td>\n",
       "      <td>5.138000</td>\n",
       "      <td>5.200000</td>\n",
       "      <td>38.300000</td>\n",
       "      <td>12.000000</td>\n",
       "      <td>1.000000</td>\n",
       "      <td>8.000000</td>\n",
       "      <td>4.000000</td>\n",
       "      <td>2018.000000</td>\n",
       "      <td>9.000000</td>\n",
       "      <td>276.000000</td>\n",
       "    </tr>\n",
       "    <tr>\n",
       "      <th>max</th>\n",
       "      <td>17.340000</td>\n",
       "      <td>14.463000</td>\n",
       "      <td>16.000000</td>\n",
       "      <td>161.000000</td>\n",
       "      <td>54.833333</td>\n",
       "      <td>9.000000</td>\n",
       "      <td>45.000000</td>\n",
       "      <td>15.000000</td>\n",
       "      <td>2019.000000</td>\n",
       "      <td>12.000000</td>\n",
       "      <td>276.000000</td>\n",
       "    </tr>\n",
       "  </tbody>\n",
       "</table>\n",
       "</div>"
      ],
      "text/plain": [
       "             M01AB        M01AE        N02BA        N02BE         N05B  \\\n",
       "count  2106.000000  2106.000000  2106.000000  2106.000000  2106.000000   \n",
       "mean      5.033683     3.895830     3.880441    29.917095     8.853627   \n",
       "std       2.737579     2.133337     2.384010    15.590966     5.605605   \n",
       "min       0.000000     0.000000     0.000000     0.000000     0.000000   \n",
       "25%       3.000000     2.340000     2.000000    19.000000     5.000000   \n",
       "50%       4.990000     3.670000     3.500000    26.900000     8.000000   \n",
       "75%       6.670000     5.138000     5.200000    38.300000    12.000000   \n",
       "max      17.340000    14.463000    16.000000   161.000000    54.833333   \n",
       "\n",
       "              N05C          R03          R06         Year        Month  \\\n",
       "count  2106.000000  2106.000000  2106.000000  2106.000000  2106.000000   \n",
       "mean      0.593522     5.512262     2.900198  2016.401235     6.344255   \n",
       "std       1.092988     6.428736     2.415816     1.665060     3.386954   \n",
       "min       0.000000     0.000000     0.000000  2014.000000     1.000000   \n",
       "25%       0.000000     1.000000     1.000000  2015.000000     3.000000   \n",
       "50%       0.000000     4.000000     2.000000  2016.000000     6.000000   \n",
       "75%       1.000000     8.000000     4.000000  2018.000000     9.000000   \n",
       "max       9.000000    45.000000    15.000000  2019.000000    12.000000   \n",
       "\n",
       "              Hour  \n",
       "count  2106.000000  \n",
       "mean    275.945869  \n",
       "std       1.970547  \n",
       "min     190.000000  \n",
       "25%     276.000000  \n",
       "50%     276.000000  \n",
       "75%     276.000000  \n",
       "max     276.000000  "
      ]
     },
     "execution_count": 25,
     "metadata": {},
     "output_type": "execute_result"
    }
   ],
   "source": [
    "df.describe()"
   ]
  },
  {
   "cell_type": "code",
   "execution_count": 26,
   "metadata": {},
   "outputs": [
    {
     "data": {
      "text/html": [
       "<div>\n",
       "<style scoped>\n",
       "    .dataframe tbody tr th:only-of-type {\n",
       "        vertical-align: middle;\n",
       "    }\n",
       "\n",
       "    .dataframe tbody tr th {\n",
       "        vertical-align: top;\n",
       "    }\n",
       "\n",
       "    .dataframe thead th {\n",
       "        text-align: right;\n",
       "    }\n",
       "</style>\n",
       "<table border=\"1\" class=\"dataframe\">\n",
       "  <thead>\n",
       "    <tr style=\"text-align: right;\">\n",
       "      <th></th>\n",
       "      <th>Weekday Name</th>\n",
       "    </tr>\n",
       "  </thead>\n",
       "  <tbody>\n",
       "    <tr>\n",
       "      <th>count</th>\n",
       "      <td>2106</td>\n",
       "    </tr>\n",
       "    <tr>\n",
       "      <th>unique</th>\n",
       "      <td>7</td>\n",
       "    </tr>\n",
       "    <tr>\n",
       "      <th>top</th>\n",
       "      <td>Thursday</td>\n",
       "    </tr>\n",
       "    <tr>\n",
       "      <th>freq</th>\n",
       "      <td>301</td>\n",
       "    </tr>\n",
       "  </tbody>\n",
       "</table>\n",
       "</div>"
      ],
      "text/plain": [
       "       Weekday Name\n",
       "count          2106\n",
       "unique            7\n",
       "top        Thursday\n",
       "freq            301"
      ]
     },
     "execution_count": 26,
     "metadata": {},
     "output_type": "execute_result"
    }
   ],
   "source": [
    "df.describe(include='object')"
   ]
  },
  {
   "cell_type": "code",
   "execution_count": 28,
   "metadata": {},
   "outputs": [
    {
     "data": {
      "text/plain": [
       "0"
      ]
     },
     "execution_count": 28,
     "metadata": {},
     "output_type": "execute_result"
    }
   ],
   "source": [
    "df.duplicated().sum()"
   ]
  },
  {
   "cell_type": "code",
   "execution_count": 29,
   "metadata": {},
   "outputs": [],
   "source": [
    "numericas = df.select_dtypes(include= np.number)"
   ]
  },
  {
   "cell_type": "code",
   "execution_count": 32,
   "metadata": {},
   "outputs": [
    {
     "data": {
      "image/png": "[encoded data removed]",
      "text/plain": [
       "<Figure size 1500x2500 with 11 Axes>"
      ]
     },
     "metadata": {},
     "output_type": "display_data"
    }
   ],
   "source": [
    "fig, axes = plt.subplots(6, 2, figsize=(15,25))\n",
    "axes = axes.flat\n",
    "for indice, columna in enumerate(numericas.columns):\n",
    "    sns.boxplot(x = numericas[columna], data = df, ax=axes[indice], color = \"aquamarine\"); # para trazar una línea de densidad\n",
    "plt.tight_layout()\n",
    "fig.delaxes(axes[-1])\n",
    "plt.show()"
   ]
  },
  {
   "cell_type": "code",
   "execution_count": 33,
   "metadata": {},
   "outputs": [
    {
     "ename": "KeyError",
     "evalue": "\"['MEDV'] not found in axis\"",
     "output_type": "error",
     "traceback": [
      "\u001b[0;31m---------------------------------------------------------------------------\u001b[0m",
      "\u001b[0;31mKeyError\u001b[0m                                  Traceback (most recent call last)",
      "\u001b[0;32m/var/folders/db/hp0l5_js4yv8br5y2tc3frpm0000gn/T/ipykernel_4215/2055525727.py\u001b[0m in \u001b[0;36m<module>\u001b[0;34m\u001b[0m\n\u001b[1;32m      2\u001b[0m \u001b[0maxes\u001b[0m \u001b[0;34m=\u001b[0m \u001b[0maxes\u001b[0m\u001b[0;34m.\u001b[0m\u001b[0mflat\u001b[0m\u001b[0;34m\u001b[0m\u001b[0;34m\u001b[0m\u001b[0m\n\u001b[1;32m      3\u001b[0m \u001b[0mcolumnas_numeric\u001b[0m \u001b[0;34m=\u001b[0m \u001b[0mdf\u001b[0m\u001b[0;34m.\u001b[0m\u001b[0mselect_dtypes\u001b[0m\u001b[0;34m(\u001b[0m\u001b[0minclude\u001b[0m \u001b[0;34m=\u001b[0m \u001b[0mnp\u001b[0m\u001b[0;34m.\u001b[0m\u001b[0mnumber\u001b[0m\u001b[0;34m)\u001b[0m\u001b[0;34m.\u001b[0m\u001b[0mcolumns\u001b[0m\u001b[0;34m\u001b[0m\u001b[0;34m\u001b[0m\u001b[0m\n\u001b[0;32m----> 4\u001b[0;31m \u001b[0mcolumnas_numeric\u001b[0m \u001b[0;34m=\u001b[0m \u001b[0mcolumnas_numeric\u001b[0m\u001b[0;34m.\u001b[0m\u001b[0mdrop\u001b[0m\u001b[0;34m(\u001b[0m\u001b[0;34m\"MEDV\"\u001b[0m\u001b[0;34m)\u001b[0m\u001b[0;34m\u001b[0m\u001b[0;34m\u001b[0m\u001b[0m\n\u001b[0m\u001b[1;32m      5\u001b[0m \u001b[0;32mfor\u001b[0m \u001b[0mi\u001b[0m\u001b[0;34m,\u001b[0m \u001b[0mcolum\u001b[0m \u001b[0;32min\u001b[0m \u001b[0menumerate\u001b[0m\u001b[0;34m(\u001b[0m\u001b[0mcolumnas_numeric\u001b[0m\u001b[0;34m)\u001b[0m\u001b[0;34m:\u001b[0m\u001b[0;34m\u001b[0m\u001b[0;34m\u001b[0m\u001b[0m\n\u001b[1;32m      6\u001b[0m     sns.histplot(\n",
      "\u001b[0;32m~/anaconda3/lib/python3.9/site-packages/pandas/core/indexes/base.py\u001b[0m in \u001b[0;36mdrop\u001b[0;34m(self, labels, errors)\u001b[0m\n\u001b[1;32m   6975\u001b[0m         \u001b[0;32mif\u001b[0m \u001b[0mmask\u001b[0m\u001b[0;34m.\u001b[0m\u001b[0many\u001b[0m\u001b[0;34m(\u001b[0m\u001b[0;34m)\u001b[0m\u001b[0;34m:\u001b[0m\u001b[0;34m\u001b[0m\u001b[0;34m\u001b[0m\u001b[0m\n\u001b[1;32m   6976\u001b[0m             \u001b[0;32mif\u001b[0m \u001b[0merrors\u001b[0m \u001b[0;34m!=\u001b[0m \u001b[0;34m\"ignore\"\u001b[0m\u001b[0;34m:\u001b[0m\u001b[0;34m\u001b[0m\u001b[0;34m\u001b[0m\u001b[0m\n\u001b[0;32m-> 6977\u001b[0;31m                 \u001b[0;32mraise\u001b[0m \u001b[0mKeyError\u001b[0m\u001b[0;34m(\u001b[0m\u001b[0;34mf\"{list(labels[mask])} not found in axis\"\u001b[0m\u001b[0;34m)\u001b[0m\u001b[0;34m\u001b[0m\u001b[0;34m\u001b[0m\u001b[0m\n\u001b[0m\u001b[1;32m   6978\u001b[0m             \u001b[0mindexer\u001b[0m \u001b[0;34m=\u001b[0m \u001b[0mindexer\u001b[0m\u001b[0;34m[\u001b[0m\u001b[0;34m~\u001b[0m\u001b[0mmask\u001b[0m\u001b[0;34m]\u001b[0m\u001b[0;34m\u001b[0m\u001b[0;34m\u001b[0m\u001b[0m\n\u001b[1;32m   6979\u001b[0m         \u001b[0;32mreturn\u001b[0m \u001b[0mself\u001b[0m\u001b[0;34m.\u001b[0m\u001b[0mdelete\u001b[0m\u001b[0;34m(\u001b[0m\u001b[0mindexer\u001b[0m\u001b[0;34m)\u001b[0m\u001b[0;34m\u001b[0m\u001b[0;34m\u001b[0m\u001b[0m\n",
      "\u001b[0;31mKeyError\u001b[0m: \"['MEDV'] not found in axis\""
     ]
    },
    {
     "data": {
      "image/png": "[encoded data removed]",
      "text/plain": [
       "<Figure size 4000x2000 with 15 Axes>"
      ]
     },
     "metadata": {},
     "output_type": "display_data"
    }
   ],
   "source": [
    "fig, axes = plt.subplots(nrows = 3, ncols = 5, figsize = (40, 20))\n",
    "axes = axes.flat\n",
    "columnas_numeric = df.select_dtypes(include = np.number).columns\n",
    "columnas_numeric = columnas_numeric.drop(\"MEDV\")\n",
    "for i, colum in enumerate(columnas_numeric):\n",
    "    sns.histplot(\n",
    "        data = df,\n",
    "        x = colum,\n",
    "        kde = True,\n",
    "        color = \"red\",\n",
    "        line_kws = {\"linewidth\": 2}, # para indicar el ancho de las líneas de las barras\n",
    "        alpha = 0.5, # para especificar la transparencia del color\n",
    "        ax = axes[i])\n",
    "    axes[i].set_title(colum, fontsize = 15, fontweight = \"bold\")\n",
    "    axes[i].tick_params(labelsize = 20)\n",
    "    axes[i].set_xlabel(\"\")\n",
    "fig.tight_layout()\n",
    "fig.delaxes(axes[-1])\n",
    "fig.delaxes(axes[-2])\n",
    "fig.delaxes(axes[-3]);"
   ]
  },
  {
   "cell_type": "markdown",
   "metadata": {},
   "source": [
    "---"
   ]
  },
  {
   "attachments": {},
   "cell_type": "markdown",
   "metadata": {},
   "source": [
    "Explicar los datos y las variables disponibles en el conjunto de datos seleccionado:\n",
    "Esto se hace para que comprendais mejor los datos con los que estais trabajando."
   ]
  },
  {
   "cell_type": "code",
   "execution_count": 34,
   "metadata": {},
   "outputs": [
    {
     "data": {
      "text/plain": [
       "Index(['M01AB', 'M01AE', 'N02BA', 'N02BE', 'N05B', 'N05C', 'R03', 'R06',\n",
       "       'Year', 'Month', 'Hour', 'Weekday Name'],\n",
       "      dtype='object')"
      ]
     },
     "execution_count": 34,
     "metadata": {},
     "output_type": "execute_result"
    }
   ],
   "source": [
    "df.columns"
   ]
  },
  {
   "attachments": {},
   "cell_type": "markdown",
   "metadata": {},
   "source": [
    "Columnas:\n",
    "\n",
    "\n",
    "- M01AB = Productos antiinflamatorios y antirreumáticos, no esteroideos, derivados del ácido acético y sustancias afines\n",
    "- M01AE = Productos antiinflamatorios y antirreumáticos, no esteroideos, derivados del ácido propiónico\n",
    "- N02BA = Otros analgésicos y antipiréticos, Ácido salicílico y derivados\n",
    "- N02BE/B = Otros analgésicos y antipiréticos, Pirazolonas y anilidas\n",
    "- N05B =  Psicolépticos, ansiolíticos\n",
    "- N05C =  Psicolépticos, Hipnóticos y sedantes\n",
    "- R03 =  Medicamentos para enfermedades obstructivas de las vías respiratorias\n",
    "- R06 = Antihistamínicos de uso sistémico\n",
    "- Year = Año\n",
    "- Month = Mes\n",
    "- Hour = Hora\n",
    "- Weekday Name = Nombre del dia.\n"
   ]
  },
  {
   "cell_type": "code",
   "execution_count": 36,
   "metadata": {},
   "outputs": [
    {
     "name": "stderr",
     "output_type": "stream",
     "text": [
      "/var/folders/db/hp0l5_js4yv8br5y2tc3frpm0000gn/T/ipykernel_4215/1134722465.py:1: FutureWarning: The default value of numeric_only in DataFrame.corr is deprecated. In a future version, it will default to False. Select only valid columns or specify the value of numeric_only to silence this warning.\n",
      "  df.corr()\n"
     ]
    },
    {
     "data": {
      "text/html": [
       "<div>\n",
       "<style scoped>\n",
       "    .dataframe tbody tr th:only-of-type {\n",
       "        vertical-align: middle;\n",
       "    }\n",
       "\n",
       "    .dataframe tbody tr th {\n",
       "        vertical-align: top;\n",
       "    }\n",
       "\n",
       "    .dataframe thead th {\n",
       "        text-align: right;\n",
       "    }\n",
       "</style>\n",
       "<table border=\"1\" class=\"dataframe\">\n",
       "  <thead>\n",
       "    <tr style=\"text-align: right;\">\n",
       "      <th></th>\n",
       "      <th>M01AB</th>\n",
       "      <th>M01AE</th>\n",
       "      <th>N02BA</th>\n",
       "      <th>N02BE</th>\n",
       "      <th>N05B</th>\n",
       "      <th>N05C</th>\n",
       "      <th>R03</th>\n",
       "      <th>R06</th>\n",
       "      <th>Year</th>\n",
       "      <th>Month</th>\n",
       "      <th>Hour</th>\n",
       "    </tr>\n",
       "  </thead>\n",
       "  <tbody>\n",
       "    <tr>\n",
       "      <th>M01AB</th>\n",
       "      <td>1.000000</td>\n",
       "      <td>0.189982</td>\n",
       "      <td>0.147483</td>\n",
       "      <td>0.179634</td>\n",
       "      <td>0.030208</td>\n",
       "      <td>0.015622</td>\n",
       "      <td>0.082835</td>\n",
       "      <td>0.088195</td>\n",
       "      <td>0.096797</td>\n",
       "      <td>0.015507</td>\n",
       "      <td>0.048035</td>\n",
       "    </tr>\n",
       "    <tr>\n",
       "      <th>M01AE</th>\n",
       "      <td>0.189982</td>\n",
       "      <td>1.000000</td>\n",
       "      <td>0.170372</td>\n",
       "      <td>0.291562</td>\n",
       "      <td>0.062396</td>\n",
       "      <td>0.026344</td>\n",
       "      <td>0.094250</td>\n",
       "      <td>0.031663</td>\n",
       "      <td>0.015697</td>\n",
       "      <td>-0.055144</td>\n",
       "      <td>0.021763</td>\n",
       "    </tr>\n",
       "    <tr>\n",
       "      <th>N02BA</th>\n",
       "      <td>0.147483</td>\n",
       "      <td>0.170372</td>\n",
       "      <td>1.000000</td>\n",
       "      <td>0.213752</td>\n",
       "      <td>0.175076</td>\n",
       "      <td>0.057120</td>\n",
       "      <td>0.037384</td>\n",
       "      <td>-0.026420</td>\n",
       "      <td>-0.232800</td>\n",
       "      <td>-0.094797</td>\n",
       "      <td>0.030759</td>\n",
       "    </tr>\n",
       "    <tr>\n",
       "      <th>N02BE</th>\n",
       "      <td>0.179634</td>\n",
       "      <td>0.291562</td>\n",
       "      <td>0.213752</td>\n",
       "      <td>1.000000</td>\n",
       "      <td>0.073080</td>\n",
       "      <td>0.002461</td>\n",
       "      <td>0.222892</td>\n",
       "      <td>-0.128520</td>\n",
       "      <td>-0.001533</td>\n",
       "      <td>0.022918</td>\n",
       "      <td>-0.020201</td>\n",
       "    </tr>\n",
       "    <tr>\n",
       "      <th>N05B</th>\n",
       "      <td>0.030208</td>\n",
       "      <td>0.062396</td>\n",
       "      <td>0.175076</td>\n",
       "      <td>0.073080</td>\n",
       "      <td>1.000000</td>\n",
       "      <td>0.246728</td>\n",
       "      <td>0.040026</td>\n",
       "      <td>-0.063704</td>\n",
       "      <td>-0.141072</td>\n",
       "      <td>0.011428</td>\n",
       "      <td>-0.038994</td>\n",
       "    </tr>\n",
       "    <tr>\n",
       "      <th>N05C</th>\n",
       "      <td>0.015622</td>\n",
       "      <td>0.026344</td>\n",
       "      <td>0.057120</td>\n",
       "      <td>0.002461</td>\n",
       "      <td>0.246728</td>\n",
       "      <td>1.000000</td>\n",
       "      <td>0.009548</td>\n",
       "      <td>-0.004443</td>\n",
       "      <td>0.008499</td>\n",
       "      <td>-0.013385</td>\n",
       "      <td>-0.023014</td>\n",
       "    </tr>\n",
       "    <tr>\n",
       "      <th>R03</th>\n",
       "      <td>0.082835</td>\n",
       "      <td>0.094250</td>\n",
       "      <td>0.037384</td>\n",
       "      <td>0.222892</td>\n",
       "      <td>0.040026</td>\n",
       "      <td>0.009548</td>\n",
       "      <td>1.000000</td>\n",
       "      <td>0.007132</td>\n",
       "      <td>0.184407</td>\n",
       "      <td>-0.015006</td>\n",
       "      <td>0.017115</td>\n",
       "    </tr>\n",
       "    <tr>\n",
       "      <th>R06</th>\n",
       "      <td>0.088195</td>\n",
       "      <td>0.031663</td>\n",
       "      <td>-0.026420</td>\n",
       "      <td>-0.128520</td>\n",
       "      <td>-0.063704</td>\n",
       "      <td>-0.004443</td>\n",
       "      <td>0.007132</td>\n",
       "      <td>1.000000</td>\n",
       "      <td>0.185241</td>\n",
       "      <td>-0.140709</td>\n",
       "      <td>0.027405</td>\n",
       "    </tr>\n",
       "    <tr>\n",
       "      <th>Year</th>\n",
       "      <td>0.096797</td>\n",
       "      <td>0.015697</td>\n",
       "      <td>-0.232800</td>\n",
       "      <td>-0.001533</td>\n",
       "      <td>-0.141072</td>\n",
       "      <td>0.008499</td>\n",
       "      <td>0.184407</td>\n",
       "      <td>0.185241</td>\n",
       "      <td>1.000000</td>\n",
       "      <td>-0.084987</td>\n",
       "      <td>-0.022624</td>\n",
       "    </tr>\n",
       "    <tr>\n",
       "      <th>Month</th>\n",
       "      <td>0.015507</td>\n",
       "      <td>-0.055144</td>\n",
       "      <td>-0.094797</td>\n",
       "      <td>0.022918</td>\n",
       "      <td>0.011428</td>\n",
       "      <td>-0.013385</td>\n",
       "      <td>-0.015006</td>\n",
       "      <td>-0.140709</td>\n",
       "      <td>-0.084987</td>\n",
       "      <td>1.000000</td>\n",
       "      <td>-0.011727</td>\n",
       "    </tr>\n",
       "    <tr>\n",
       "      <th>Hour</th>\n",
       "      <td>0.048035</td>\n",
       "      <td>0.021763</td>\n",
       "      <td>0.030759</td>\n",
       "      <td>-0.020201</td>\n",
       "      <td>-0.038994</td>\n",
       "      <td>-0.023014</td>\n",
       "      <td>0.017115</td>\n",
       "      <td>0.027405</td>\n",
       "      <td>-0.022624</td>\n",
       "      <td>-0.011727</td>\n",
       "      <td>1.000000</td>\n",
       "    </tr>\n",
       "  </tbody>\n",
       "</table>\n",
       "</div>"
      ],
      "text/plain": [
       "          M01AB     M01AE     N02BA     N02BE      N05B      N05C       R03  \\\n",
       "M01AB  1.000000  0.189982  0.147483  0.179634  0.030208  0.015622  0.082835   \n",
       "M01AE  0.189982  1.000000  0.170372  0.291562  0.062396  0.026344  0.094250   \n",
       "N02BA  0.147483  0.170372  1.000000  0.213752  0.175076  0.057120  0.037384   \n",
       "N02BE  0.179634  0.291562  0.213752  1.000000  0.073080  0.002461  0.222892   \n",
       "N05B   0.030208  0.062396  0.175076  0.073080  1.000000  0.246728  0.040026   \n",
       "N05C   0.015622  0.026344  0.057120  0.002461  0.246728  1.000000  0.009548   \n",
       "R03    0.082835  0.094250  0.037384  0.222892  0.040026  0.009548  1.000000   \n",
       "R06    0.088195  0.031663 -0.026420 -0.128520 -0.063704 -0.004443  0.007132   \n",
       "Year   0.096797  0.015697 -0.232800 -0.001533 -0.141072  0.008499  0.184407   \n",
       "Month  0.015507 -0.055144 -0.094797  0.022918  0.011428 -0.013385 -0.015006   \n",
       "Hour   0.048035  0.021763  0.030759 -0.020201 -0.038994 -0.023014  0.017115   \n",
       "\n",
       "            R06      Year     Month      Hour  \n",
       "M01AB  0.088195  0.096797  0.015507  0.048035  \n",
       "M01AE  0.031663  0.015697 -0.055144  0.021763  \n",
       "N02BA -0.026420 -0.232800 -0.094797  0.030759  \n",
       "N02BE -0.128520 -0.001533  0.022918 -0.020201  \n",
       "N05B  -0.063704 -0.141072  0.011428 -0.038994  \n",
       "N05C  -0.004443  0.008499 -0.013385 -0.023014  \n",
       "R03    0.007132  0.184407 -0.015006  0.017115  \n",
       "R06    1.000000  0.185241 -0.140709  0.027405  \n",
       "Year   0.185241  1.000000 -0.084987 -0.022624  \n",
       "Month -0.140709 -0.084987  1.000000 -0.011727  \n",
       "Hour   0.027405 -0.022624 -0.011727  1.000000  "
      ]
     },
     "execution_count": 36,
     "metadata": {},
     "output_type": "execute_result"
    }
   ],
   "source": [
    "df.corr()"
   ]
  }
 ],
 "metadata": {
  "kernelspec": {
   "display_name": "base",
   "language": "python",
   "name": "python3"
  },
  "language_info": {
   "codemirror_mode": {
    "name": "ipython",
    "version": 3
   },
   "file_extension": ".py",
   "mimetype": "text/x-python",
   "name": "python",
   "nbconvert_exporter": "python",
   "pygments_lexer": "ipython3",
   "version": "3.9.13"
  },
  "orig_nbformat": 4,
  "vscode": {
   "interpreter": {
    "hash": "a52af493819045717511545598ab2b73dabca4ca61b402315e0ef2b43666342d"
   }
  }
 },
 "nbformat": 4,
 "nbformat_minor": 2
}
