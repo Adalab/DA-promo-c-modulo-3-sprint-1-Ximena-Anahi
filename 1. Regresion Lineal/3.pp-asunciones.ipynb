{
 "cells": [
  {
   "attachments": {},
   "cell_type": "markdown",
   "metadata": {},
   "source": [
    "# Pair Programming Asunciones Regresión Lineal"
   ]
  },
  {
   "attachments": {},
   "cell_type": "markdown",
   "metadata": {},
   "source": [
    "---"
   ]
  },
  {
   "cell_type": "code",
   "execution_count": 1,
   "metadata": {},
   "outputs": [],
   "source": [
    "# Tratamiento de datos\n",
    "import numpy as np\n",
    "import pandas as pd\n",
    "\n",
    "# Gráficos\n",
    "import matplotlib.pyplot as plt\n",
    "import seaborn as sns\n",
    "\n",
    "# Estadísticos\n",
    "from scipy import stats\n",
    "import researchpy as rp\n",
    "from scipy.stats import levene\n",
    "\n",
    "# Warnings\n",
    "import warnings\n",
    "warnings.filterwarnings('ignore')\n",
    "\n",
    "plt.rcParams[\"figure.figsize\"] = (10,8) "
   ]
  },
  {
   "cell_type": "code",
   "execution_count": 3,
   "metadata": {},
   "outputs": [
    {
     "data": {
      "text/html": [
       "<div>\n",
       "<style scoped>\n",
       "    .dataframe tbody tr th:only-of-type {\n",
       "        vertical-align: middle;\n",
       "    }\n",
       "\n",
       "    .dataframe tbody tr th {\n",
       "        vertical-align: top;\n",
       "    }\n",
       "\n",
       "    .dataframe thead th {\n",
       "        text-align: right;\n",
       "    }\n",
       "</style>\n",
       "<table border=\"1\" class=\"dataframe\">\n",
       "  <thead>\n",
       "    <tr style=\"text-align: right;\">\n",
       "      <th></th>\n",
       "      <th>country</th>\n",
       "      <th>status</th>\n",
       "      <th>continente</th>\n",
       "      <th>year</th>\n",
       "      <th>life_expectancy</th>\n",
       "      <th>adult_mortality</th>\n",
       "      <th>infant_deaths</th>\n",
       "      <th>alcohol</th>\n",
       "      <th>hepatitis_b</th>\n",
       "      <th>measles</th>\n",
       "      <th>...</th>\n",
       "      <th>under-five_deaths</th>\n",
       "      <th>polio</th>\n",
       "      <th>total_expenditure</th>\n",
       "      <th>diphtheria</th>\n",
       "      <th>hiv/aids</th>\n",
       "      <th>gdp</th>\n",
       "      <th>thinness__1-19_years</th>\n",
       "      <th>thinness_5-9_years</th>\n",
       "      <th>income_composition_of_resources</th>\n",
       "      <th>schooling</th>\n",
       "    </tr>\n",
       "  </thead>\n",
       "  <tbody>\n",
       "    <tr>\n",
       "      <th>0</th>\n",
       "      <td>Afghanistan</td>\n",
       "      <td>Developing</td>\n",
       "      <td>Asia</td>\n",
       "      <td>2015.0</td>\n",
       "      <td>65.0</td>\n",
       "      <td>263.0</td>\n",
       "      <td>62.0</td>\n",
       "      <td>0.01</td>\n",
       "      <td>65.0</td>\n",
       "      <td>1154.0</td>\n",
       "      <td>...</td>\n",
       "      <td>83.0</td>\n",
       "      <td>6.0</td>\n",
       "      <td>8.16</td>\n",
       "      <td>65.0</td>\n",
       "      <td>0.1</td>\n",
       "      <td>584.259210</td>\n",
       "      <td>17.2</td>\n",
       "      <td>17.3</td>\n",
       "      <td>0.479</td>\n",
       "      <td>10.1</td>\n",
       "    </tr>\n",
       "    <tr>\n",
       "      <th>1</th>\n",
       "      <td>Afghanistan</td>\n",
       "      <td>Developing</td>\n",
       "      <td>Asia</td>\n",
       "      <td>2014.0</td>\n",
       "      <td>59.9</td>\n",
       "      <td>271.0</td>\n",
       "      <td>64.0</td>\n",
       "      <td>0.01</td>\n",
       "      <td>62.0</td>\n",
       "      <td>492.0</td>\n",
       "      <td>...</td>\n",
       "      <td>86.0</td>\n",
       "      <td>58.0</td>\n",
       "      <td>8.18</td>\n",
       "      <td>62.0</td>\n",
       "      <td>0.1</td>\n",
       "      <td>612.696514</td>\n",
       "      <td>17.5</td>\n",
       "      <td>17.5</td>\n",
       "      <td>0.476</td>\n",
       "      <td>10.0</td>\n",
       "    </tr>\n",
       "  </tbody>\n",
       "</table>\n",
       "<p>2 rows × 21 columns</p>\n",
       "</div>"
      ],
      "text/plain": [
       "       country      status continente    year  life_expectancy  \\\n",
       "0  Afghanistan  Developing       Asia  2015.0             65.0   \n",
       "1  Afghanistan  Developing       Asia  2014.0             59.9   \n",
       "\n",
       "   adult_mortality  infant_deaths  alcohol  hepatitis_b  measles  ...  \\\n",
       "0            263.0           62.0     0.01         65.0   1154.0  ...   \n",
       "1            271.0           64.0     0.01         62.0    492.0  ...   \n",
       "\n",
       "   under-five_deaths  polio  total_expenditure  diphtheria  hiv/aids  \\\n",
       "0               83.0    6.0               8.16        65.0       0.1   \n",
       "1               86.0   58.0               8.18        62.0       0.1   \n",
       "\n",
       "          gdp  thinness__1-19_years  thinness_5-9_years  \\\n",
       "0  584.259210                  17.2                17.3   \n",
       "1  612.696514                  17.5                17.5   \n",
       "\n",
       "   income_composition_of_resources  schooling  \n",
       "0                            0.479       10.1  \n",
       "1                            0.476       10.0  \n",
       "\n",
       "[2 rows x 21 columns]"
      ]
     },
     "execution_count": 3,
     "metadata": {},
     "output_type": "execute_result"
    }
   ],
   "source": [
    "df= pd.read_csv('../files/life_data_limp.csv', index_col=0)\n",
    "df.head(2)"
   ]
  },
  {
   "attachments": {},
   "cell_type": "markdown",
   "metadata": {},
   "source": [
    "En este ejercicio de pair programming seguiréis usando el dataset que seleccionasteis.\n",
    "\n",
    "El objetivo de este pairprgramming es que evaluéis si vuestro set de datos cumple todas las asunciones que se deben cumplir para hacer una regresión lineal. Recordamos que estas asunciones son:\n"
   ]
  },
  {
   "attachments": {},
   "cell_type": "markdown",
   "metadata": {},
   "source": [
    "---"
   ]
  },
  {
   "attachments": {},
   "cell_type": "markdown",
   "metadata": {},
   "source": [
    "### 1. Normalidad (ya la deberíais haber evaluado)"
   ]
  },
  {
   "attachments": {},
   "cell_type": "markdown",
   "metadata": {},
   "source": [
    "`Test de Shapiro`"
   ]
  },
  {
   "cell_type": "code",
   "execution_count": 4,
   "metadata": {},
   "outputs": [
    {
     "data": {
      "text/plain": [
       "ShapiroResult(statistic=0.9547738432884216, pvalue=3.436392262640181e-29)"
      ]
     },
     "execution_count": 4,
     "metadata": {},
     "output_type": "execute_result"
    }
   ],
   "source": [
    "stats.shapiro(df['life_expectancy'])"
   ]
  },
  {
   "attachments": {},
   "cell_type": "markdown",
   "metadata": {},
   "source": [
    "    Nuestra variables de respuesta NO es normal."
   ]
  },
  {
   "attachments": {},
   "cell_type": "markdown",
   "metadata": {},
   "source": [
    "`Análisis gráfico`"
   ]
  },
  {
   "cell_type": "code",
   "execution_count": 5,
   "metadata": {},
   "outputs": [
    {
     "data": {
      "image/png": "[encoded data removed]",
      "text/plain": [
       "<Figure size 1000x800 with 1 Axes>"
      ]
     },
     "metadata": {},
     "output_type": "display_data"
    }
   ],
   "source": [
    "# primero lo hacemos visualmente\n",
    "\n",
    "sns.histplot(df['life_expectancy'],  bins=20, kde = True, \n",
    "        color = \"blue\",);"
   ]
  },
  {
   "attachments": {},
   "cell_type": "markdown",
   "metadata": {},
   "source": [
    "---"
   ]
  },
  {
   "attachments": {},
   "cell_type": "markdown",
   "metadata": {},
   "source": [
    "### 2. Homogeneidad de varianzas"
   ]
  },
  {
   "cell_type": "code",
   "execution_count": 6,
   "metadata": {},
   "outputs": [
    {
     "data": {
      "text/plain": [
       "191"
      ]
     },
     "execution_count": 6,
     "metadata": {},
     "output_type": "execute_result"
    }
   ],
   "source": [
    "len(df[\"country\"].value_counts())"
   ]
  },
  {
   "cell_type": "code",
   "execution_count": 7,
   "metadata": {},
   "outputs": [
    {
     "data": {
      "text/plain": [
       "Indonesia                32\n",
       "Afghanistan              16\n",
       "Paraguay                 16\n",
       "Nicaragua                16\n",
       "Niger                    16\n",
       "                         ..\n",
       "Niue                      1\n",
       "San Marino                1\n",
       "Nauru                     1\n",
       "Dominica                  1\n",
       "Saint Kitts and Nevis     1\n",
       "Name: country, Length: 191, dtype: int64"
      ]
     },
     "execution_count": 7,
     "metadata": {},
     "output_type": "execute_result"
    }
   ],
   "source": [
    "df[\"country\"].value_counts()"
   ]
  },
  {
   "attachments": {},
   "cell_type": "markdown",
   "metadata": {},
   "source": [
    "``Análisis gráfico``"
   ]
  },
  {
   "cell_type": "code",
   "execution_count": 8,
   "metadata": {},
   "outputs": [
    {
     "data": {
      "text/plain": [
       "Index(['country', 'status', 'continente', 'year', 'life_expectancy',\n",
       "       'adult_mortality', 'infant_deaths', 'alcohol', 'hepatitis_b', 'measles',\n",
       "       'bmi', 'under-five_deaths', 'polio', 'total_expenditure', 'diphtheria',\n",
       "       'hiv/aids', 'gdp', 'thinness__1-19_years', 'thinness_5-9_years',\n",
       "       'income_composition_of_resources', 'schooling'],\n",
       "      dtype='object')"
      ]
     },
     "execution_count": 8,
     "metadata": {},
     "output_type": "execute_result"
    }
   ],
   "source": [
    "df.columns"
   ]
  },
  {
   "cell_type": "code",
   "execution_count": 9,
   "metadata": {},
   "outputs": [
    {
     "data": {
      "image/png": "[encoded data removed]",
      "text/plain": [
       "<Figure size 1000x500 with 1 Axes>"
      ]
     },
     "metadata": {},
     "output_type": "display_data"
    }
   ],
   "source": [
    "fig, ax = plt.subplots(nrows=1, ncols=1, figsize=(10, 5))\n",
    "sns.boxplot(\n",
    "    x       = 'status',\n",
    "    y       = 'life_expectancy',\n",
    "    data    = df,\n",
    "    palette = \"tab10\",\n",
    "    ax      = ax\n",
    ")\n",
    "ax.set_title(\"Distribución de la expectativa de vida por país\")\n",
    "ax.set_ylabel(\"Life Expentancy\")\n",
    "ax.set_xlabel(\"Status del pais\");"
   ]
  },
  {
   "cell_type": "code",
   "execution_count": 10,
   "metadata": {},
   "outputs": [
    {
     "data": {
      "image/png": "[encoded data removed]",
      "text/plain": [
       "<Figure size 1000x500 with 1 Axes>"
      ]
     },
     "metadata": {},
     "output_type": "display_data"
    }
   ],
   "source": [
    "fig, ax = plt.subplots(nrows=1, ncols=1, figsize=(10, 5))\n",
    "\n",
    "sns.boxplot(\n",
    "    x       = 'continente',\n",
    "    y       = 'life_expectancy',\n",
    "    data    = df,\n",
    "    palette = \"tab10\",\n",
    "    ax      = ax\n",
    ")\n",
    "ax.set_title(\"Distribución de la expectativa de vida por continente\")\n",
    "ax.set_ylabel(\"Life Expentancy\")\n",
    "ax.set_xlabel(\"Continente\");"
   ]
  },
  {
   "cell_type": "code",
   "execution_count": 11,
   "metadata": {},
   "outputs": [],
   "source": [
    "resultados_test = {}\n",
    "\n",
    "# seleccionamos solo las columnas numéricas y eliminamos la columna de la variable respuesta\n",
    "numericas_columnas = df.select_dtypes(include = np.number).drop(\"life_expectancy\", axis = 1).columns\n",
    "\n",
    "#iteremos por la lista de las columnas numéricas\n",
    "for col in numericas_columnas:\n",
    "    \n",
    "    statistic, p_val = levene(df[col], df.life_expectancy, center='median')\n",
    "    resultados_test[col] = p_val"
   ]
  },
  {
   "cell_type": "code",
   "execution_count": 12,
   "metadata": {},
   "outputs": [
    {
     "data": {
      "text/plain": [
       "{'year': 8.491381713735918e-156,\n",
       " 'adult_mortality': 0.0,\n",
       " 'infant_deaths': 7.178503608328457e-40,\n",
       " 'alcohol': 1.4096221455558796e-214,\n",
       " 'hepatitis_b': 1.5013195233881626e-109,\n",
       " 'measles': 1.3067314793222535e-26,\n",
       " 'bmi': 0.0,\n",
       " 'under-five_deaths': 6.536902569400365e-50,\n",
       " 'polio': 6.546479118690837e-58,\n",
       " 'total_expenditure': 0.0,\n",
       " 'diphtheria': 2.3163396830654396e-58,\n",
       " 'hiv/aids': 4.4573506439481994e-287,\n",
       " 'gdp': 3.2524296171850273e-139,\n",
       " 'thinness__1-19_years': 4.8263846280223164e-222,\n",
       " 'thinness_5-9_years': 1.1100452189438007e-217,\n",
       " 'income_composition_of_resources': 0.0,\n",
       " 'schooling': 4.2309469925581846e-290}"
      ]
     },
     "execution_count": 12,
     "metadata": {},
     "output_type": "execute_result"
    }
   ],
   "source": [
    "resultados_test"
   ]
  },
  {
   "cell_type": "code",
   "execution_count": 13,
   "metadata": {},
   "outputs": [
    {
     "data": {
      "text/plain": [
       "Index(['country', 'status', 'continente', 'year', 'life_expectancy',\n",
       "       'adult_mortality', 'infant_deaths', 'alcohol', 'hepatitis_b', 'measles',\n",
       "       'bmi', 'under-five_deaths', 'polio', 'total_expenditure', 'diphtheria',\n",
       "       'hiv/aids', 'gdp', 'thinness__1-19_years', 'thinness_5-9_years',\n",
       "       'income_composition_of_resources', 'schooling'],\n",
       "      dtype='object')"
      ]
     },
     "execution_count": 13,
     "metadata": {},
     "output_type": "execute_result"
    }
   ],
   "source": [
    "df.columns"
   ]
  },
  {
   "cell_type": "code",
   "execution_count": 15,
   "metadata": {},
   "outputs": [],
   "source": [
    "desarrollados= df[df[\"status\"] == 'Developed'][\"life_expectancy\"]\n",
    "endesarrollo = df[df[\"status\"] == 'Developing'][\"life_expectancy\"]"
   ]
  },
  {
   "cell_type": "code",
   "execution_count": 16,
   "metadata": {},
   "outputs": [
    {
     "data": {
      "text/plain": [
       "LeveneResult(statistic=284.6220828350005, pvalue=5.227069407753493e-61)"
      ]
     },
     "execution_count": 16,
     "metadata": {},
     "output_type": "execute_result"
    }
   ],
   "source": [
    "# Levene test\n",
    "levene_test = stats.levene(desarrollados, endesarrollo, center='median')\n",
    "levene_test"
   ]
  },
  {
   "cell_type": "code",
   "execution_count": 17,
   "metadata": {},
   "outputs": [
    {
     "data": {
      "text/plain": [
       "BartlettResult(statistic=402.773617796336, pvalue=1.3713808276316723e-89)"
      ]
     },
     "execution_count": 17,
     "metadata": {},
     "output_type": "execute_result"
    }
   ],
   "source": [
    "# Bartlett test\n",
    "bartlett_test = stats.bartlett(desarrollados, endesarrollo)\n",
    "bartlett_test"
   ]
  },
  {
   "attachments": {},
   "cell_type": "markdown",
   "metadata": {},
   "source": [
    "    En ambos test el p-valor es < 0,05 por lo que tenemos que rechazar la H0, es decir las variables no son Homocedasticas, son Heterocedasticas entre si."
   ]
  },
  {
   "attachments": {},
   "cell_type": "markdown",
   "metadata": {},
   "source": [
    "## Independencia de las variables"
   ]
  },
  {
   "attachments": {},
   "cell_type": "markdown",
   "metadata": {},
   "source": [
    "La prueba de independencia comprueba la dependencia entre variables y es una prueba general. "
   ]
  },
  {
   "cell_type": "code",
   "execution_count": 18,
   "metadata": {},
   "outputs": [],
   "source": [
    "crosstab, test_results, expected = rp.crosstab(df[\"infant_deaths\"], df[\"under-five_deaths\"],\n",
    "                                               test= \"chi-square\",\n",
    "                                               expected_freqs= True,\n",
    "                                               prop= \"cell\")\n"
   ]
  },
  {
   "cell_type": "code",
   "execution_count": 19,
   "metadata": {},
   "outputs": [
    {
     "data": {
      "text/html": [
       "<div>\n",
       "<style scoped>\n",
       "    .dataframe tbody tr th:only-of-type {\n",
       "        vertical-align: middle;\n",
       "    }\n",
       "\n",
       "    .dataframe tbody tr th {\n",
       "        vertical-align: top;\n",
       "    }\n",
       "\n",
       "    .dataframe thead th {\n",
       "        text-align: right;\n",
       "    }\n",
       "</style>\n",
       "<table border=\"1\" class=\"dataframe\">\n",
       "  <thead>\n",
       "    <tr style=\"text-align: right;\">\n",
       "      <th></th>\n",
       "      <th>Chi-square test</th>\n",
       "      <th>results</th>\n",
       "    </tr>\n",
       "  </thead>\n",
       "  <tbody>\n",
       "    <tr>\n",
       "      <th>0</th>\n",
       "      <td>Pearson Chi-square ( 46492.0) =</td>\n",
       "      <td>326840.7724</td>\n",
       "    </tr>\n",
       "    <tr>\n",
       "      <th>1</th>\n",
       "      <td>p-value =</td>\n",
       "      <td>0.0000</td>\n",
       "    </tr>\n",
       "    <tr>\n",
       "      <th>2</th>\n",
       "      <td>Cramer's V =</td>\n",
       "      <td>0.7535</td>\n",
       "    </tr>\n",
       "  </tbody>\n",
       "</table>\n",
       "</div>"
      ],
      "text/plain": [
       "                    Chi-square test      results\n",
       "0  Pearson Chi-square ( 46492.0) =   326840.7724\n",
       "1                        p-value =        0.0000\n",
       "2                     Cramer's V =        0.7535"
      ]
     },
     "execution_count": 19,
     "metadata": {},
     "output_type": "execute_result"
    }
   ],
   "source": [
    "test_results"
   ]
  },
  {
   "attachments": {},
   "cell_type": "markdown",
   "metadata": {},
   "source": [
    "El p-valor es menor que 0.05, por lo tanto, nuestras variables son dependientes entre ellas. \n"
   ]
  },
  {
   "attachments": {},
   "cell_type": "markdown",
   "metadata": {},
   "source": [
    "---"
   ]
  },
  {
   "attachments": {},
   "cell_type": "markdown",
   "metadata": {},
   "source": [
    "#### `Luego de relizar todo el analisis estadistico al ver que las categorias de la columna 'status' (desarrollados y en desarrollo) son muy ambiguas, es decir son heterocedasticas, por lo que hemos decidido dividir el dataframe en dos uno por cada catgoria y optamos por trabajar con los paises en desarrollo.`"
   ]
  }
 ],
 "metadata": {
  "kernelspec": {
   "display_name": "Python 3",
   "language": "python",
   "name": "python3"
  },
  "language_info": {
   "codemirror_mode": {
    "name": "ipython",
    "version": 3
   },
   "file_extension": ".py",
   "mimetype": "text/x-python",
   "name": "python",
   "nbconvert_exporter": "python",
   "pygments_lexer": "ipython3",
   "version": "3.6.9 (default, Jun 29 2022, 11:45:57) \n[GCC 8.4.0]"
  },
  "orig_nbformat": 4,
  "vscode": {
   "interpreter": {
    "hash": "31f2aee4e71d21fbe5cf8b01ff0e069b9275f58929596ceb00d14d90e3e16cd6"
   }
  }
 },
 "nbformat": 4,
 "nbformat_minor": 2
}
