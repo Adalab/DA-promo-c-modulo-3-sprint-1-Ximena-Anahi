{
 "cells": [
  {
   "attachments": {},
   "cell_type": "markdown",
   "metadata": {},
   "source": [
    "## TEST ESTADISTICOS"
   ]
  },
  {
   "attachments": {},
   "cell_type": "markdown",
   "metadata": {},
   "source": [
    "---"
   ]
  },
  {
   "cell_type": "code",
   "execution_count": 14,
   "metadata": {},
   "outputs": [],
   "source": [
    "# ============================================\n",
    "import pandas as pd\n",
    "import numpy as np\n",
    "\n",
    "# librerías para la visualización de los datos\n",
    "# ============================================\n",
    "import matplotlib.pyplot as plt\n",
    "import seaborn as sns\n",
    "\n",
    "# Establecer tamaño fijo de gráficas\n",
    "# ==================================\n",
    "plt.rcParams[\"figure.figsize\"] = (10,8)\n",
    "\n",
    "# Configuración warnings\n",
    "# ======================\n",
    "import warnings\n",
    "\n",
    "from scipy.stats import skew\n",
    "\n",
    "from scipy.stats import kurtosistest\n",
    "\n",
    "from scipy import stats\n",
    "\n",
    "pd.options.display.max_columns = None"
   ]
  },
  {
   "cell_type": "code",
   "execution_count": 3,
   "metadata": {},
   "outputs": [],
   "source": [
    "df= pd.read_csv('../files/salesdaily.csv', index_col=0)"
   ]
  },
  {
   "cell_type": "code",
   "execution_count": 5,
   "metadata": {},
   "outputs": [],
   "source": [
    "numericas = df.select_dtypes(include= np.number)"
   ]
  },
  {
   "attachments": {},
   "cell_type": "markdown",
   "metadata": {},
   "source": [
    "En este ejercicio de pair programming seguiréis usando el dataset que seleccionasteis ayer."
   ]
  },
  {
   "attachments": {},
   "cell_type": "markdown",
   "metadata": {},
   "source": [
    "1) ¿Qué diferencia existe el error de tipo I y el error de tipo II?"
   ]
  },
  {
   "cell_type": "markdown",
   "metadata": {},
   "source": [
    "H0=\n",
    "H1="
   ]
  },
  {
   "attachments": {},
   "cell_type": "markdown",
   "metadata": {},
   "source": [
    "Error de tipo I: la probabilidad de rechazar la H0 siendo verdadera\n",
    "\n",
    "Error de tipo II: la probabilidad de aceptar la H0 siendo falsa"
   ]
  },
  {
   "attachments": {},
   "cell_type": "markdown",
   "metadata": {},
   "source": [
    "2) ¿Qué es la asimetría?"
   ]
  },
  {
   "attachments": {},
   "cell_type": "markdown",
   "metadata": {},
   "source": [
    "La asimetría es la falta de simetría que presenta una distribución teniendo en cuenta la media"
   ]
  },
  {
   "attachments": {},
   "cell_type": "markdown",
   "metadata": {},
   "source": [
    "Cuando utilizemos el método anterior podemos obtener resultados positivos, negativos o cero.\n",
    "\n",
    "- **Distributión simétrica**: si el valor es de 0, los datos serán simétricos, y por lo tanto, tienen una distribución normal. \n",
    "\n",
    "\n",
    "- **Distribución asimétrica positiva**: si el valor es positivo, los datos serán asimétricos positivos, y por lo tanto, no son normales. \n",
    "\n",
    "\n",
    "- **Distribución asimétrica negativa**: si el valor es negativo, los datos serán asimétricos negativos, y por lo tanto, no son normales."
   ]
  },
  {
   "cell_type": "code",
   "execution_count": 6,
   "metadata": {},
   "outputs": [
    {
     "data": {
      "text/plain": [
       "array([  0.64185494,   0.71786563,   0.84889148,   1.2014348 ,\n",
       "         1.3238966 ,   2.5186723 ,   1.82844275,   1.29189225,\n",
       "         0.04469431,   0.04381376, -40.77977634])"
      ]
     },
     "execution_count": 6,
     "metadata": {},
     "output_type": "execute_result"
    }
   ],
   "source": [
    "skew(numericas)"
   ]
  },
  {
   "cell_type": "code",
   "execution_count": 10,
   "metadata": {},
   "outputs": [
    {
     "name": "stdout",
     "output_type": "stream",
     "text": [
      " La variable M01AB tiene una distribución asimetrica positiva (No es normal)\n",
      " La variable M01AE tiene una distribución asimetrica positiva (No es normal)\n",
      " La variable N02BA tiene una distribución asimetrica positiva (No es normal)\n",
      " La variable N02BE tiene una distribución asimetrica positiva (No es normal)\n",
      " La variable N05B tiene una distribución asimetrica positiva (No es normal)\n",
      " La variable N05C tiene una distribución asimetrica positiva (No es normal)\n",
      " La variable R03 tiene una distribución asimetrica positiva (No es normal)\n",
      " La variable R06 tiene una distribución asimetrica positiva (No es normal)\n",
      " La variable Year tiene una distribución asimetrica positiva (No es normal)\n",
      " La variable Month tiene una distribución asimetrica positiva (No es normal)\n",
      " La variable Hour tiene una distribución asimetrica negativa (No es normal)\n",
      "Lista de variables normales = []\n"
     ]
    }
   ],
   "source": [
    "lista_normales = []\n",
    "for i in numericas.columns:\n",
    "    if skew(numericas[i])== 0:\n",
    "        print( f\" La variable {i} tiene una distribución simetrica (Es normal)\")\n",
    "\n",
    "        #lista_normales.append(i)\n",
    "    elif skew(numericas[i])> 0:\n",
    "        print( f\" La variable {i} tiene una distribución asimetrica positiva (No es normal)\")\n",
    "    \n",
    "    elif skew(numericas[i])< 0:\n",
    "        print( f\" La variable {i} tiene una distribución asimetrica negativa (No es normal)\")\n",
    "    else:\n",
    "        pass\n",
    "\n",
    "print (f\"Lista de variables normales = {lista_normales}\")"
   ]
  },
  {
   "attachments": {},
   "cell_type": "markdown",
   "metadata": {},
   "source": [
    "3) ¿Es vuestra variable respuesta asimétrica?"
   ]
  },
  {
   "cell_type": "code",
   "execution_count": null,
   "metadata": {},
   "outputs": [],
   "source": [
    "kurtosistest(datos_normales)"
   ]
  },
  {
   "cell_type": "code",
   "execution_count": null,
   "metadata": {},
   "outputs": [],
   "source": []
  },
  {
   "attachments": {},
   "cell_type": "markdown",
   "metadata": {},
   "source": [
    "4) ¿Qué tipo de curtosis presenta vuestra variable respuesta?"
   ]
  },
  {
   "cell_type": "code",
   "execution_count": 13,
   "metadata": {},
   "outputs": [
    {
     "name": "stdout",
     "output_type": "stream",
     "text": [
      "  Rechazamos la hipotesis nula y por lo tanto nuestros datos en  M01AB no son normales\n",
      "  Rechazamos la hipotesis nula y por lo tanto nuestros datos en  M01AE no son normales\n",
      "  Rechazamos la hipotesis nula y por lo tanto nuestros datos en  N02BA no son normales\n",
      "  Rechazamos la hipotesis nula y por lo tanto nuestros datos en  N02BE no son normales\n",
      "  Rechazamos la hipotesis nula y por lo tanto nuestros datos en  N05B no son normales\n",
      "  Rechazamos la hipotesis nula y por lo tanto nuestros datos en  N05C no son normales\n",
      "  Rechazamos la hipotesis nula y por lo tanto nuestros datos en  R03 no son normales\n",
      "  Rechazamos la hipotesis nula y por lo tanto nuestros datos en  R06 no son normales\n",
      "  Rechazamos la hipotesis nula y por lo tanto nuestros datos en  Year no son normales\n",
      "  Rechazamos la hipotesis nula y por lo tanto nuestros datos en  Month no son normales\n",
      "  Rechazamos la hipotesis nula y por lo tanto nuestros datos en  Hour no son normales\n"
     ]
    }
   ],
   "source": [
    "lista_normales = []\n",
    "for i in numericas.columns:\n",
    "    if kurtosistest(numericas[i])[1]> 0.05:\n",
    "        print( f\"  No podemos rechazar la hipotesis nula y por lo tanto nuestros datos en  {i} son normales\")\n",
    "\n",
    "      \n",
    "    elif kurtosistest(numericas[i])[1]< 0.05:\n",
    "        print( f\"  Rechazamos la hipotesis nula y por lo tanto nuestros datos en  {i} no son normales\")\n",
    "    \n",
    "\n"
   ]
  },
  {
   "attachments": {},
   "cell_type": "markdown",
   "metadata": {},
   "source": [
    "5) ¿Es vuestra variable respuesta normal? Demostrarlo visual y analíticamente?"
   ]
  },
  {
   "cell_type": "code",
   "execution_count": 16,
   "metadata": {},
   "outputs": [],
   "source": [
    "lista_normales = []\n",
    "for i in numericas.columns:\n",
    "    if stats.shapiro(numericas[i])[1] > 0.05:\n",
    "        print( f\" La viable {i} tiene una distribución normal\")\n",
    "        lista_normales.append(i)\n",
    "    else:\n",
    "        pass\n"
   ]
  },
  {
   "cell_type": "code",
   "execution_count": null,
   "metadata": {},
   "outputs": [],
   "source": [
    "sns.distplot(\n",
    "    df[\"MEDV\"], \n",
    "    hist = False, \n",
    "    color = \"blue\", \n",
    "    kde_kws = {\"shade\": True, \"linewidth\": 1});"
   ]
  }
 ],
 "metadata": {
  "kernelspec": {
   "display_name": "base",
   "language": "python",
   "name": "python3"
  },
  "language_info": {
   "codemirror_mode": {
    "name": "ipython",
    "version": 3
   },
   "file_extension": ".py",
   "mimetype": "text/x-python",
   "name": "python",
   "nbconvert_exporter": "python",
   "pygments_lexer": "ipython3",
   "version": "3.9.13"
  },
  "orig_nbformat": 4,
  "vscode": {
   "interpreter": {
    "hash": "a52af493819045717511545598ab2b73dabca4ca61b402315e0ef2b43666342d"
   }
  }
 },
 "nbformat": 4,
 "nbformat_minor": 2
}
