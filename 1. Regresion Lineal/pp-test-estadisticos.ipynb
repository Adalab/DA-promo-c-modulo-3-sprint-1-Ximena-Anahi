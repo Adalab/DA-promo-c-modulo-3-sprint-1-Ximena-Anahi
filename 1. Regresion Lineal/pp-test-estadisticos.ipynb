{
 "cells": [
  {
   "attachments": {},
   "cell_type": "markdown",
   "metadata": {},
   "source": [
    "## TEST ESTADISTICOS"
   ]
  },
  {
   "attachments": {},
   "cell_type": "markdown",
   "metadata": {},
   "source": [
    "---"
   ]
  },
  {
   "cell_type": "code",
   "execution_count": 1,
   "metadata": {},
   "outputs": [],
   "source": [
    "# ============================================\n",
    "import pandas as pd\n",
    "import numpy as np\n",
    "\n",
    "# librerías para la visualización de los datos\n",
    "# ============================================\n",
    "import matplotlib.pyplot as plt\n",
    "import seaborn as sns\n",
    "\n",
    "# Establecer tamaño fijo de gráficas\n",
    "# ==================================\n",
    "plt.rcParams[\"figure.figsize\"] = (10,8)\n",
    "\n",
    "# Configuración warnings\n",
    "# ======================\n",
    "import warnings\n",
    "\n",
    "from scipy.stats import skew\n",
    "\n",
    "from scipy.stats import kurtosistest\n",
    "\n",
    "from scipy import stats\n",
    "\n",
    "pd.options.display.max_columns = None"
   ]
  },
  {
   "cell_type": "code",
   "execution_count": 5,
   "metadata": {},
   "outputs": [],
   "source": [
    "import warnings\n",
    "warnings.filterwarnings('ignore')"
   ]
  },
  {
   "cell_type": "code",
   "execution_count": 2,
   "metadata": {},
   "outputs": [],
   "source": [
    "df= pd.read_csv('../files/desarrollados.csv', index_col=0)"
   ]
  },
  {
   "cell_type": "code",
   "execution_count": 3,
   "metadata": {},
   "outputs": [],
   "source": [
    "numericas = df.select_dtypes(include= np.number)"
   ]
  },
  {
   "attachments": {},
   "cell_type": "markdown",
   "metadata": {},
   "source": [
    "En este ejercicio de pair programming seguiréis usando el dataset que seleccionasteis ayer."
   ]
  },
  {
   "attachments": {},
   "cell_type": "markdown",
   "metadata": {},
   "source": [
    "## 1) ¿Qué diferencia existe el error de tipo I y el error de tipo II?"
   ]
  },
  {
   "attachments": {},
   "cell_type": "markdown",
   "metadata": {},
   "source": [
    "Error de tipo I: la probabilidad de rechazar la H0 siendo verdadera\n",
    "\n",
    "Error de tipo II: la probabilidad de aceptar la H0 siendo falsa"
   ]
  },
  {
   "attachments": {},
   "cell_type": "markdown",
   "metadata": {},
   "source": [
    "## 2) ¿Qué es la asimetría?"
   ]
  },
  {
   "attachments": {},
   "cell_type": "markdown",
   "metadata": {},
   "source": [
    "La asimetría es la falta de simetría que presenta una distribución teniendo en cuenta la media"
   ]
  },
  {
   "attachments": {},
   "cell_type": "markdown",
   "metadata": {},
   "source": [
    "Cuando utilizemos el método anterior podemos obtener resultados positivos, negativos o cero.\n",
    "\n",
    "- **Distributión simétrica**: si el valor es de 0, los datos serán simétricos, y por lo tanto, tienen una distribución normal. \n",
    "\n",
    "\n",
    "- **Distribución asimétrica positiva**: si el valor es positivo, los datos serán asimétricos positivos, y por lo tanto, no son normales. \n",
    "\n",
    "\n",
    "- **Distribución asimétrica negativa**: si el valor es negativo, los datos serán asimétricos negativos, y por lo tanto, no son normales."
   ]
  },
  {
   "cell_type": "code",
   "execution_count": 7,
   "metadata": {},
   "outputs": [
    {
     "data": {
      "text/plain": [
       "index                                0\n",
       "year                                 0\n",
       "life_expectancy                      0\n",
       "adult_mortality                      0\n",
       "infant_deaths                        0\n",
       "alcohol                             28\n",
       "percentage_expenditure               0\n",
       "hepatitis_b                        173\n",
       "measles                              0\n",
       "bmi                                  0\n",
       "under-five_deaths                    0\n",
       "polio                                0\n",
       "total_expenditure                   32\n",
       "diphtheria                           0\n",
       "hiv/aids                             0\n",
       "gdp                                 64\n",
       "population                          96\n",
       "thinness__1-19_years                 0\n",
       "thinness_5-9_years                   0\n",
       "income_composition_of_resources     48\n",
       "schooling                           48\n",
       "dtype: int64"
      ]
     },
     "execution_count": 7,
     "metadata": {},
     "output_type": "execute_result"
    }
   ],
   "source": [
    "numericas.isnull().sum()"
   ]
  },
  {
   "cell_type": "code",
   "execution_count": 6,
   "metadata": {},
   "outputs": [
    {
     "data": {
      "text/plain": [
       "array([-0.18755294,  0.        ,  0.09455442,  0.68285298,  4.97202275,\n",
       "               nan,  1.87508358,         nan,  8.86591197, -1.90142776,\n",
       "        4.95851458, -6.72740887,         nan, -6.0255104 ,         nan,\n",
       "               nan,         nan,  0.82155823,  0.93037747,         nan,\n",
       "               nan])"
      ]
     },
     "execution_count": 6,
     "metadata": {},
     "output_type": "execute_result"
    }
   ],
   "source": [
    "skew(numericas)"
   ]
  },
  {
   "cell_type": "code",
   "execution_count": 8,
   "metadata": {},
   "outputs": [
    {
     "name": "stdout",
     "output_type": "stream",
     "text": [
      " La variable index tiene una distribución asimetrica negativa (No es normal)\n",
      " La variable year tiene una distribución simetrica (Es normal)\n",
      " La variable life_expectancy tiene una distribución asimetrica positiva (No es normal)\n",
      " La variable adult_mortality tiene una distribución asimetrica positiva (No es normal)\n",
      " La variable infant_deaths tiene una distribución asimetrica positiva (No es normal)\n",
      " La variable percentage_expenditure tiene una distribución asimetrica positiva (No es normal)\n",
      " La variable measles tiene una distribución asimetrica positiva (No es normal)\n",
      " La variable bmi tiene una distribución asimetrica negativa (No es normal)\n",
      " La variable under-five_deaths tiene una distribución asimetrica positiva (No es normal)\n",
      " La variable polio tiene una distribución asimetrica negativa (No es normal)\n",
      " La variable diphtheria tiene una distribución asimetrica negativa (No es normal)\n",
      " La variable thinness__1-19_years tiene una distribución asimetrica positiva (No es normal)\n",
      " La variable thinness_5-9_years tiene una distribución asimetrica positiva (No es normal)\n"
     ]
    }
   ],
   "source": [
    "for i in numericas.columns:\n",
    "    if skew(numericas[i])== 0:\n",
    "        print( f\" La variable {i} tiene una distribución simetrica (Es normal)\")\n",
    "\n",
    "        #lista_normales.append(i)\n",
    "    elif skew(numericas[i])> 0:\n",
    "        print( f\" La variable {i} tiene una distribución asimetrica positiva (No es normal)\")\n",
    "    \n",
    "    elif skew(numericas[i])< 0:\n",
    "        print( f\" La variable {i} tiene una distribución asimetrica negativa (No es normal)\")\n",
    "    else:\n",
    "        pass"
   ]
  },
  {
   "attachments": {},
   "cell_type": "markdown",
   "metadata": {},
   "source": [
    "## 3) ¿Es vuestra variable respuesta asimétrica?"
   ]
  },
  {
   "cell_type": "code",
   "execution_count": 12,
   "metadata": {},
   "outputs": [
    {
     "data": {
      "text/plain": [
       "0.094554424644433"
      ]
     },
     "execution_count": 12,
     "metadata": {},
     "output_type": "execute_result"
    }
   ],
   "source": [
    "skew(df['life_expectancy'])"
   ]
  },
  {
   "attachments": {},
   "cell_type": "markdown",
   "metadata": {},
   "source": [
    "EL pvalor es mayor a 0.05 por lo tanto rechazamos la H0, y tienen simetria"
   ]
  },
  {
   "attachments": {},
   "cell_type": "markdown",
   "metadata": {},
   "source": [
    "## 4) ¿Qué tipo de curtosis presenta vuestra variable respuesta?"
   ]
  },
  {
   "cell_type": "code",
   "execution_count": 14,
   "metadata": {},
   "outputs": [
    {
     "data": {
      "text/plain": [
       "KurtosistestResult(statistic=-0.49256031313779486, pvalue=0.6223232958791044)"
      ]
     },
     "execution_count": 14,
     "metadata": {},
     "output_type": "execute_result"
    }
   ],
   "source": [
    "kurtosistest(df['life_expectancy'])"
   ]
  },
  {
   "attachments": {},
   "cell_type": "markdown",
   "metadata": {},
   "source": [
    "EL pvalor es mayor a 0.05 por lo tanto aceptamos la H0, teniendo leptocurtosis. Tiene una morfología afilada.\n",
    "Los datos son normales con un intervalo de confianza del 95%."
   ]
  },
  {
   "attachments": {},
   "cell_type": "markdown",
   "metadata": {},
   "source": [
    "## 5) ¿Es vuestra variable respuesta normal? Demostrarlo visual y analíticamente?"
   ]
  },
  {
   "cell_type": "code",
   "execution_count": 15,
   "metadata": {},
   "outputs": [
    {
     "data": {
      "text/plain": [
       "ShapiroResult(statistic=0.984403133392334, pvalue=2.6695464839576744e-05)"
      ]
     },
     "execution_count": 15,
     "metadata": {},
     "output_type": "execute_result"
    }
   ],
   "source": [
    "stats.shapiro(df[\"life_expectancy\"])"
   ]
  },
  {
   "attachments": {},
   "cell_type": "markdown",
   "metadata": {},
   "source": [
    "Al ser pvalue mayor a 0.05 no podemos rechazar H0, por lo tanto nuestras datos tienen una distribución normal con un intervalo de confianza del 95%."
   ]
  },
  {
   "cell_type": "code",
   "execution_count": 16,
   "metadata": {},
   "outputs": [
    {
     "data": {
      "image/png": "[encoded data removed]",
      "text/plain": [
       "<Figure size 1000x800 with 1 Axes>"
      ]
     },
     "metadata": {},
     "output_type": "display_data"
    }
   ],
   "source": [
    "sns.distplot(\n",
    "    df[\"life_expectancy\"], \n",
    "    hist = False, \n",
    "    color = \"blue\", \n",
    "    kde_kws = {\"shade\": True, \"linewidth\": 1});"
   ]
  },
  {
   "attachments": {},
   "cell_type": "markdown",
   "metadata": {},
   "source": [
    "Un análisis gráfico muestra cierta normalidad al ser cercana a una campa de Gauss"
   ]
  }
 ],
 "metadata": {
  "kernelspec": {
   "display_name": "base",
   "language": "python",
   "name": "python3"
  },
  "language_info": {
   "codemirror_mode": {
    "name": "ipython",
    "version": 3
   },
   "file_extension": ".py",
   "mimetype": "text/x-python",
   "name": "python",
   "nbconvert_exporter": "python",
   "pygments_lexer": "ipython3",
   "version": "3.9.13"
  },
  "orig_nbformat": 4,
  "vscode": {
   "interpreter": {
    "hash": "f2104d434ce3092b7c07d5af98c90652611c7ad655b2a72b59e9e675e449bc7b"
   }
  }
 },
 "nbformat": 4,
 "nbformat_minor": 2
}
